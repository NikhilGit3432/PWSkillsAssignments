{
 "cells": [
  {
   "cell_type": "code",
   "execution_count": 51,
   "id": "d998cc07-4d53-46c7-8ba9-707a06ee59bb",
   "metadata": {},
   "outputs": [
    {
     "name": "stdout",
     "output_type": "stream",
     "text": [
      "lihkiN\n"
     ]
    }
   ],
   "source": [
    "# 1 Write a code to reverse a string\n",
    "# Sol1:-\n",
    "string=\"Nikhil\"\n",
    "# rev_string=string[len(string)-1::-1]\n",
    "rev_string=string[::-1]\n",
    "print(rev_string)\n",
    "\n",
    "#================================================================================#\n",
    "\n",
    "# Sol2:-\n",
    "# string=\"Nikhil\"\n",
    "# rev_string=string[len(string)-1::-1]\n",
    "# print(rev_string)\n",
    "\n",
    "#=================================================================================#\n",
    "\n",
    "# Sol3:-\n",
    "# string=list(\"Nikhil\")\n",
    "# # print(string)\n",
    "# string.reverse()\n",
    "# print(string)\n"
   ]
  },
  {
   "cell_type": "code",
   "execution_count": 27,
   "id": "d9d92dc6-e2f9-44a7-b106-5be1a85b528c",
   "metadata": {},
   "outputs": [
    {
     "name": "stdout",
     "output_type": "stream",
     "text": [
      "i vowels\n",
      "i vowels\n",
      "i vowels\n",
      "a vowels\n",
      "o vowels\n",
      "o vowels\n",
      "o vowels\n"
     ]
    }
   ],
   "source": [
    "# 2 Write a code to count the number of vowels in a string\n",
    "\n",
    "# vowels=list(\"aeiouAEIOU\")\n",
    "# string=list(\"Nikhil is a Good Boy\")\n",
    "# # print(string,vowels)\n",
    "# for x in string:\n",
    "#     if x in vowels:\n",
    "#         print(x,\"vowels\")"
   ]
  },
  {
   "cell_type": "code",
   "execution_count": 53,
   "id": "ae5ea737-5915-4cdd-af3f-dc21d371bbe4",
   "metadata": {},
   "outputs": [
    {
     "name": "stdout",
     "output_type": "stream",
     "text": [
      "N N True\n",
      "i i True\n",
      "i i True\n",
      "k k True\n",
      "h h True\n",
      "i i True\n",
      "i i True\n",
      "l l True\n",
      "Is a Plaindrome \n"
     ]
    }
   ],
   "source": [
    "#3 Write a code to check if a given string is a palindrome or not\n",
    "string=list(\"Nikhil\")\n",
    "string_rev=string[::-1]\n",
    "for x in string:\n",
    "    for y in string_rev:\n",
    "        if x==y:\n",
    "            print(x,y,\"True\")\n",
    "print(\"Is a Plaindrome \")"
   ]
  },
  {
   "cell_type": "code",
   "execution_count": 23,
   "id": "6782a04d-e86f-4616-b03d-843ff0a91ea1",
   "metadata": {},
   "outputs": [
    {
     "name": "stdout",
     "output_type": "stream",
     "text": [
      "The strings are anagrams.\n"
     ]
    }
   ],
   "source": [
    "# 4. Write a code to check if two given strings are anagrams of each other\n",
    "\n",
    "# Input strings\n",
    "# string1 = \"listen\"\n",
    "# string2 = \"silent\"\n",
    "\n",
    "# # Remove spaces and convert to lowercase\n",
    "# string1 = string1.replace(\" \", \"\").lower()\n",
    "# string2 = string2.replace(\" \", \"\").lower()\n",
    "\n",
    "# # Check if sorted versions of both strings are the same\n",
    "# if sorted(string1) == sorted(string2):\n",
    "#     print(\"The strings are anagrams.\")\n",
    "# else:\n",
    "#     print(\"The strings are not anagrams.\")\n"
   ]
  },
  {
   "cell_type": "code",
   "execution_count": 11,
   "id": "2ddd28c2-7e98-4514-8eca-0d0eb8c597f1",
   "metadata": {},
   "outputs": [],
   "source": [
    "import random "
   ]
  },
  {
   "cell_type": "code",
   "execution_count": 25,
   "id": "de4bb25a-a197-474b-b06b-8bf987d6710d",
   "metadata": {},
   "outputs": [
    {
     "name": "stdout",
     "output_type": "stream",
     "text": [
      "Substring found at index: 0\n",
      "Substring found at index: 7\n"
     ]
    }
   ],
   "source": [
    "# 5.Write a code to find all occurrences of a given substring within another string\n",
    "# Input string and substring\n",
    "\n",
    "\n",
    "# main_string = \"abracadabra\"\n",
    "# substring = \"abra\"\n",
    "\n",
    "# # Initialize the starting position\n",
    "# start = 0\n",
    "\n",
    "# # Loop to find all occurrences of the substring\n",
    "# while True:\n",
    "#     # Find the substring starting from the 'start' position\n",
    "#     position = main_string.find(substring, start)\n",
    "\n",
    "#     # If substring is not found, break the loop\n",
    "#     if position == -1:\n",
    "#         break\n",
    "\n",
    "#     # Print the position where the substring is found\n",
    "#     print(f\"Substring found at index: {position}\")\n",
    "\n",
    "#     # Move start position ahead to search for further occurrences\n",
    "#     start = position + 1\n"
   ]
  },
  {
   "cell_type": "code",
   "execution_count": 73,
   "id": "90a7795a-3a9d-426b-ae21-80059dded321",
   "metadata": {},
   "outputs": [
    {
     "name": "stdout",
     "output_type": "stream",
     "text": [
      "a2b1c5a3\n"
     ]
    }
   ],
   "source": [
    "#6.Write a code to perform basic string compression using the counts of repeated characters\n",
    "\n",
    "# # Input string\n",
    "# input_string = \"aabcccccaaa\"\n",
    "\n",
    "# # Initialize variables\n",
    "# compressed_string = []\n",
    "# count = 1\n",
    "\n",
    "# # Loop through the string and count repeated characters\n",
    "# for i in range(1, len(input_string)):\n",
    "#     if input_string[i] == input_string[i - 1]:\n",
    "#         count += 1\n",
    "#     else:\n",
    "#         # Append the character and its count to the compressed string\n",
    "#         compressed_string.append(input_string[i - 1] + str(count))\n",
    "#         count = 1\n",
    "\n",
    "# # Apend the last charactrr and its count\n",
    "# compressed_string.append(input_string[-1] + str(count))\n",
    "\n",
    "# # Join the compressed parts into the final string\n",
    "# compressed_result = ''.join(compressed_string)\n",
    "\n",
    "# # Retun the compressed string if it's shorter, otherwise return the original string\n",
    "# if len(compressed_result) < len(input_string):\n",
    "#     print(compressed_result)\n",
    "# else:\n",
    "#     print(input_string)\n"
   ]
  },
  {
   "cell_type": "code",
   "execution_count": 55,
   "id": "47ab1935-cc87-4a67-8d33-5fc79a43fd17",
   "metadata": {},
   "outputs": [
    {
     "name": "stdout",
     "output_type": "stream",
     "text": [
      "A 1\n",
      "n 1\n",
      "i 1\n",
      "No Repating values\n"
     ]
    }
   ],
   "source": [
    "# 7 Write a code to determine if a string has all unique characters\n",
    "string7=\"Ani\"\n",
    "val_count=[]\n",
    "for x in string7:\n",
    "    string7.count(x)\n",
    "    print(x,string7.count(x))\n",
    "    val_count.append(string7.count(x))\n",
    "if x in val_count>1:\n",
    "    print(\"Repeating alues present\")\n",
    "else:\n",
    "    print(\"No Repating values\")\n",
    "        \n",
    "\n",
    "\n",
    "    "
   ]
  },
  {
   "cell_type": "code",
   "execution_count": 57,
   "id": "529bac95-ad5b-45b4-8a65-fb9d3f2dea1c",
   "metadata": {},
   "outputs": [
    {
     "name": "stdout",
     "output_type": "stream",
     "text": [
      "Uppercase: HELLO WORLD\n",
      "Lowercase: hello world\n"
     ]
    }
   ],
   "source": [
    "# 8  Write a code to convert a given string to uppercase or lowercase\n",
    "\n",
    "\n",
    "string8 = \"Hello World\"\n",
    "\n",
    "# Convert to uppercase\n",
    "uppercase_string8 = string8.upper()\n",
    "print(\"Uppercase:\", uppercase_string8)\n",
    "\n",
    "# Convert to lowercase\n",
    "lowercase_string8 = string8.lower()\n",
    "print(\"Lowercase:\", lowercase_string8)\n"
   ]
  },
  {
   "cell_type": "code",
   "execution_count": 59,
   "id": "1a54bc84-2257-4056-ae39-c376d9f650ae",
   "metadata": {},
   "outputs": [
    {
     "name": "stdout",
     "output_type": "stream",
     "text": [
      "Number of words: 7\n"
     ]
    }
   ],
   "source": [
    "# 9 Write a code to count the number of words in a string\n",
    "\n",
    "string9 = \"Hello, welcome to the world of Python!\"\n",
    "\n",
    "# Split the string by spaces and count the number of words\n",
    "word_count9 = len(string9.split())\n",
    "\n",
    "print(\"Number of words:\", word_count9)\n"
   ]
  },
  {
   "cell_type": "code",
   "execution_count": 61,
   "id": "947d4264-6848-4fa2-85ec-9f9f1724881d",
   "metadata": {},
   "outputs": [
    {
     "name": "stdout",
     "output_type": "stream",
     "text": [
      "Concatenated string: HelloWorld\n"
     ]
    }
   ],
   "source": [
    "# 10 Write a code to concatenate two strings without using the + operator\n",
    "\n",
    "string10 = \"Hello\"\n",
    "string101 = \"World\"\n",
    "\n",
    "# Concatenate using join()\n",
    "concatenated_string1011 = \"\".join([string10, string101])\n",
    "\n",
    "print(\"Concatenated string:\", concatenated_string1011)\n"
   ]
  },
  {
   "cell_type": "code",
   "execution_count": 63,
   "id": "efa7273b-da7e-4a0e-9c30-f40b26665efe",
   "metadata": {},
   "outputs": [
    {
     "name": "stdout",
     "output_type": "stream",
     "text": [
      "Updated list: [1, 2, 4, 5, 6]\n"
     ]
    }
   ],
   "source": [
    "# 11 Write a code to remove all occurrences of a specific element from a list\n",
    "\n",
    "my_list = [1, 2, 3, 4, 3, 5, 3, 6]\n",
    "element_to_remove = 3\n",
    "\n",
    "# Create a new list excluding the specified element\n",
    "updated_list = []\n",
    "for element in my_list:\n",
    "    if element != element_to_remove:\n",
    "        updated_list.append(element)\n",
    "\n",
    "print(\"Updated list:\", updated_list)\n"
   ]
  },
  {
   "cell_type": "code",
   "execution_count": 65,
   "id": "0eadd4bf-ab55-46d9-b79e-048ac5cfd36b",
   "metadata": {},
   "outputs": [
    {
     "name": "stdout",
     "output_type": "stream",
     "text": [
      "Second largest number: 34\n"
     ]
    }
   ],
   "source": [
    "# 12 Implement a code to find the second largest number in a given list of integers\n",
    "\n",
    "\n",
    "my_list = [12, 35, 1, 10, 34, 1]\n",
    "\n",
    "# Remove duplicates by converting to a set and then back to a list\n",
    "unique_list = list(set(my_list))\n",
    "\n",
    "# Check if the list has at least two unique numbers\n",
    "if len(unique_list) < 2:\n",
    "    print(\"List doesn't have enough unique numbers\")\n",
    "else:\n",
    "    # Sort the unique list in ascending order\n",
    "    unique_list.sort()\n",
    "\n",
    "    # The second largest number will be the second last element\n",
    "    second_largest = unique_list[-2]\n",
    "    print(\"Second largest number:\", second_largest)"
   ]
  },
  {
   "cell_type": "code",
   "execution_count": 67,
   "id": "0f1d4747-4d63-47eb-8d63-14c117bd5e6d",
   "metadata": {},
   "outputs": [
    {
     "name": "stdin",
     "output_type": "stream",
     "text": [
      "Enter a Statement:  nikhil is a good boy\n"
     ]
    },
    {
     "name": "stdout",
     "output_type": "stream",
     "text": [
      "3\n"
     ]
    }
   ],
   "source": [
    "# 13 . Create a code to count the occurrences of each element in a list and return a dictionary with elements as \n",
    "# keys and their counts as values\n",
    "\n",
    "# string=input(\"Enter a Statement: \")\n",
    "# Str_List=list(string)\n",
    "# count=0\n",
    "# for x in Str_List:\n",
    "#     if x==\"i\":\n",
    "#         count+=1\n",
    "#     else:\n",
    "#         pass\n",
    "# print(count)"
   ]
  },
  {
   "cell_type": "code",
   "execution_count": 69,
   "id": "04e6bfd6-103a-4b96-bcbc-57dc2c647d84",
   "metadata": {},
   "outputs": [
    {
     "name": "stdin",
     "output_type": "stream",
     "text": [
      "Enter a Statement:  Nikhil is working on an assignmnet \n"
     ]
    },
    {
     "name": "stdout",
     "output_type": "stream",
     "text": [
      "['N', 'i', 'k', 'h', 'i', 'l', ' ', 'i', 's', ' ', 'w', 'o', 'r', 'k', 'i', 'n', 'g', ' ', 'o', 'n', ' ', 'a', 'n', ' ', 'a', 's', 's', 'i', 'g', 'n', 'm', 'n', 'e', 't', ' ']\n",
      "[' ', 't', 'e', 'n', 'm', 'n', 'g', 'i', 's', 's', 'a', ' ', 'n', 'a', ' ', 'n', 'o', ' ', 'g', 'n', 'i', 'k', 'r', 'o', 'w', ' ', 's', 'i', ' ', 'l', 'i', 'h', 'k', 'i', 'N']\n"
     ]
    },
    {
     "name": "stdin",
     "output_type": "stream",
     "text": [
      "Enter a statement:  He is about to co,plete the first assignment\n"
     ]
    },
    {
     "name": "stdout",
     "output_type": "stream",
     "text": [
      "['t', 'n', 'e', 'm', 'n', 'g', 'i', 's', 's', 'a', ' ', 't', 's', 'r', 'i', 'f', ' ', 'e', 'h', 't', ' ', 'e', 't', 'e', 'l', 'p', ',', 'o', 'c', ' ', 'o', 't', ' ', 't', 'u', 'o', 'b', 'a', ' ', 's', 'i', ' ', 'e', 'H']\n"
     ]
    }
   ],
   "source": [
    "#14.Write a code to reverse a list in-place without using any built-in reverse functions\n",
    "\n",
    "# string=input(\"Enter a Statement: \")\n",
    "# Str_List=list(string)\n",
    "# print(Str_List)\n",
    "# rev_List=Str_List[::-1]\n",
    "# print(rev_List)\n",
    "\n",
    "\n",
    "# string = input(\"Enter a statement: \")\n",
    "# Str_List = list(string)\n",
    "# count = len(Str_List) - 1  \n",
    "# rev_list1 = []\n",
    "\n",
    "\n",
    "# while count >= 0:\n",
    "    \n",
    "#     rev_list1.append(Str_List[count])\n",
    "#     count -= 1  \n",
    "\n",
    "# print(rev_list1)"
   ]
  },
  {
   "cell_type": "code",
   "execution_count": 3,
   "id": "5bf81fcf-8d18-4380-b330-8589db3575b4",
   "metadata": {},
   "outputs": [],
   "source": [
    "#15 .  Implement a code to find and remove duplicates from a list while preserving the original order of \n",
    "# elements\n",
    "\n",
    "# my_list = [1, 2, 3, 2, 4, 5, 3, 6, 4]\n",
    "\n",
    "# # Create an empty list to store unique elements\n",
    "# unique_list = []\n",
    "\n",
    "# # Create a set to keep track of seen elements\n",
    "# seen = set()\n",
    "\n",
    "# # Iterate through each element in the original list\n",
    "# for element in my_list:\n",
    "#     # If the element has not been seen before\n",
    "#     if element not in seen:\n",
    "#         # Add it to the unique list\n",
    "#         unique_list.append(element)\n",
    "#         # Mark this element as seen\n",
    "#         seen.add(element)\n",
    "\n",
    "# # Print the list with duplicates removed\n",
    "# print(\"List with duplicates removed:\", unique_list)\n",
    "\n"
   ]
  },
  {
   "cell_type": "code",
   "execution_count": 5,
   "id": "42f7f72a-acfa-4034-9827-28647eedb3eb",
   "metadata": {},
   "outputs": [],
   "source": [
    "# 16  Create a code to check if a given list is sorted (either in ascending or descending order) or not\n",
    "\n",
    "\n",
    "\n",
    "# my_list = [1, 2, 3, 4, 5]  # Change this list to test different cases\n",
    "\n",
    "# # Check if the list is sorted in ascending order\n",
    "# def is_sorted_ascending(lst):\n",
    "#     return all(lst[i] <= lst[i + 1] for i in range(len(lst) - 1))\n",
    "\n",
    "# # Check if the list is sorted in descending order\n",
    "# def is_sorted_descending(lst):\n",
    "#     return all(lst[i] >= lst[i + 1] for i in range(len(lst) - 1))\n",
    "\n",
    "# # Determine if the list is sorted and in which order\n",
    "# if is_sorted_ascending(my_list):\n",
    "#     print(\"The list is sorted in ascending order.\")\n",
    "# elif is_sorted_descending(my_list):\n",
    "#     print(\"The list is sorted in descending order.\")\n",
    "# else:\n",
    "#     print(\"The list is not sorted.\")\n"
   ]
  },
  {
   "cell_type": "code",
   "execution_count": 7,
   "id": "b9c26452-2436-4546-883f-f5c72c39394d",
   "metadata": {},
   "outputs": [],
   "source": [
    "#17  Write a code to merge two sorted lists into a single sorted list\n",
    "\n",
    "\n",
    "# list1 = [1, 3, 5, 7]\n",
    "# list2 = [2, 4, 6, 8]\n",
    "\n",
    "# # Initialize pointers for both lists\n",
    "# i, j = 0, 0\n",
    "# merged_list = []\n",
    "\n",
    "# # Merge the two lists while maintaining sorted order\n",
    "# while i < len(list1) and j < len(list2):\n",
    "#     if list1[i] < list2[j]:\n",
    "#         merged_list.append(list1[i])\n",
    "#         i += 1\n",
    "#     else:\n",
    "#         merged_list.append(list2[j])\n",
    "#         j += 1\n",
    "\n",
    "# # If there are remaining elements in list1, add them\n",
    "# while i < len(list1):\n",
    "#     merged_list.append(list1[i])\n",
    "#     i += 1\n",
    "\n",
    "# # If there are remaining elements in list2, add them\n",
    "# while j < len(list2):\n",
    "#     merged_list.append(list2[j])\n",
    "#     j += 1\n",
    "\n",
    "# print(\"Merged sorted list:\", merged_list)\n"
   ]
  },
  {
   "cell_type": "code",
   "execution_count": 9,
   "id": "92d83fa9-8889-42c8-9899-9be06703d73b",
   "metadata": {},
   "outputs": [],
   "source": [
    "#18  mplement a code to find the intersection of two given lists\n",
    "\n",
    "\n",
    "# # Given lists\n",
    "# list1 = [1, 2, 3, 4, 5]\n",
    "# list2 = [4, 5, 6, 7, 8]\n",
    "\n",
    "# # Create an empty list to store the intersection\n",
    "# intersection = []\n",
    "\n",
    "# # Find the intersection\n",
    "# for item in list1:\n",
    "#     if item in list2:\n",
    "#         # Add the item to the intersection list if it's not already included\n",
    "#         if item not in intersection:\n",
    "#             intersection.append(item)\n",
    "\n",
    "# print(\"Intersection of the two lists:\", intersection)\n"
   ]
  },
  {
   "cell_type": "code",
   "execution_count": 11,
   "id": "1c2489bd-ce84-4463-9b06-a7ecdf4a03c9",
   "metadata": {},
   "outputs": [],
   "source": [
    "# 19. Create a code to find the union of two lists without duplicates\n",
    "\n",
    "# list1 = [1, 2, 3, 4, 5]\n",
    "# list2 = [4, 5, 6, 7, 8]\n",
    "\n",
    "# # Create an empty list to store the union\n",
    "# union = []\n",
    "\n",
    "# # Add elements from the first list\n",
    "# for item in list1:\n",
    "#     if item not in union:\n",
    "#         union.append(item)\n",
    "\n",
    "# # Add elements from the second list\n",
    "# for item in list2:\n",
    "#     if item not in union:\n",
    "#         union.append(item)\n",
    "\n",
    "# print(\"Union of the two lists:\", union)\n"
   ]
  },
  {
   "cell_type": "code",
   "execution_count": 13,
   "id": "82e542b6-47a0-4386-bb1c-b7decd23c027",
   "metadata": {},
   "outputs": [],
   "source": [
    "## 20. Write a code to shuffle a given list randomly without using any built-in shuffle functions\n",
    "\n",
    "# List=\"nikhil\"\n",
    "# List=list(List)\n",
    "# # print(List)\n",
    "# num_list=[]\n",
    "\n",
    "# for i,x in enumerate(List):\n",
    "#     num_list.append(i)\n",
    "# # print(num_list)\n",
    "\n",
    "# for x in range(len(List)-1,0,-1):\n",
    "#     j=random.randint(0,i)\n",
    "#     List[i],List[j]=List[j],List[i]\n",
    "# print(List)\n",
    "    \n"
   ]
  },
  {
   "cell_type": "code",
   "execution_count": 17,
   "id": "7da322da-f31c-4606-9445-26d4177bd4de",
   "metadata": {},
   "outputs": [
    {
     "name": "stdout",
     "output_type": "stream",
     "text": [
      "Tuple with common elements: (4, 5)\n"
     ]
    }
   ],
   "source": [
    "# 21. Write a code that takes two tuples as input and returns a new tuple containing elements that are \n",
    "# common to both input tuple\n",
    "\n",
    "\n",
    "# tuple1 = (1, 2, 3, 4, 5)\n",
    "# tuple2 = (4, 5, 6, 7, 8)\n",
    "\n",
    "# # Create an empty list to store the common elements\n",
    "# common_elements = []\n",
    "\n",
    "# # Find common elements\n",
    "# for item in tuple1:\n",
    "#     if item in tuple2:\n",
    "#         # Add to the list if it's not already included\n",
    "#         if item not in common_elements:\n",
    "#             common_elements.append(item)\n",
    "\n",
    "# # Convert the list to a tuple\n",
    "# common_tuple = tuple(common_elements)\n",
    "\n",
    "# print(\"Tuple with common elements:\", common_tuple)\n"
   ]
  },
  {
   "cell_type": "code",
   "execution_count": 19,
   "id": "07e76f8f-fc91-4535-aa39-264003c1f4a0",
   "metadata": {},
   "outputs": [
    {
     "name": "stdin",
     "output_type": "stream",
     "text": [
      "Enter the first set of integers, separated by commas:  221321313131\n",
      "Enter the second set of integers, separated by commas:  231231114342\n"
     ]
    },
    {
     "name": "stdout",
     "output_type": "stream",
     "text": [
      "Intersection of the two sets: set()\n"
     ]
    }
   ],
   "source": [
    "# 22.  Create a code that prompts the user to enter two sets of integers separated by commas. Then, print the \n",
    "# intersection of these two sets\n",
    "# Prompt user to enter the first set of integers\n",
    "# input1 = input(\"Enter the first set of integers, separated by commas: \")\n",
    "# # Convert the input string to a set of integers\n",
    "# set1 = set()\n",
    "# for item in input1.split(','):\n",
    "#     set1.add(int(item.strip()))\n",
    "\n",
    "# # Prompt user to enter the second set of integers\n",
    "# input2 = input(\"Enter the second set of integers, separated by commas: \")\n",
    "# # Convert the input string to a set of integers\n",
    "# set2 = set()\n",
    "# for item in input2.split(','):\n",
    "#     set2.add(int(item.strip()))\n",
    "\n",
    "# # Find the intersection of the two sets\n",
    "# intersection = set1.intersection(set2)\n",
    "\n",
    "# # Print the intersection\n",
    "# print(\"Intersection of the two sets:\", intersection)\n"
   ]
  },
  {
   "cell_type": "code",
   "execution_count": 21,
   "id": "b536f0c3-1513-4c60-9257-498f936654da",
   "metadata": {},
   "outputs": [
    {
     "name": "stdout",
     "output_type": "stream",
     "text": [
      "Concatenated tuple: (1, 2, 3, 4, 5, 6)\n"
     ]
    }
   ],
   "source": [
    "# 23 .Write a code to concatenate two tuples. The function should take two tuples as input and return a new \n",
    "# tuple containing elements from both input tuples\n",
    "\n",
    "\n",
    "# tuple1 = (1, 2, 3)\n",
    "# tuple2 = (4, 5, 6)\n",
    "\n",
    "# # Concatenate the two tuples\n",
    "# result_tuple = tuple1 + tuple2\n",
    "\n",
    "# # Print the concatenated tuple\n",
    "# print(\"Concatenated tuple:\", result_tuple)\n"
   ]
  },
  {
   "cell_type": "code",
   "execution_count": 27,
   "id": "f374bf8e-7033-44d2-94f9-c82a5d7d80b3",
   "metadata": {},
   "outputs": [],
   "source": [
    "# 24 . Develop a code that prompts the user to input two sets of strings. Then, print the elements that are \n",
    "# present in the first set but not in the second set.\n",
    "\n",
    "\n",
    "# # Prompt user to enter the first set of strings\n",
    "# input1 = input(\"Enter the first set of strings, separated by commas: \")\n",
    "# # Convert the input string to a set of strings\n",
    "# set1 = set()\n",
    "# for item in input1.split(','):\n",
    "#     set1.add(item.strip())\n",
    "\n",
    "# # Prompt user to enter the second set of strings\n",
    "# input2 = input(\"Enter the second set of strings, separated by commas: \")\n",
    "# # Convert the input string to a set of strings\n",
    "# set2 = set()\n",
    "# for item in input2.split(','):\n",
    "#     set2.add(item.strip())\n",
    "\n",
    "# # Find the elements that are in the first set but not in the second set\n",
    "# difference = set1 - set2\n",
    "\n",
    "# # Print the result\n",
    "# print(\"Elements in the first set but not in the second set:\", difference)\n"
   ]
  },
  {
   "cell_type": "code",
   "execution_count": 29,
   "id": "db90e9ce-b358-4992-8e23-83eea3e6ca42",
   "metadata": {},
   "outputs": [],
   "source": [
    " #25. Create a code that takes a tuple and two integers as input. The function should return a new tuple \n",
    "# containing elements from the original tuple within the specified range of indices\n",
    "\n",
    "\n",
    "# original_tuple = (10, 20, 30, 40, 50, 60, 70, 80, 90, 100)\n",
    "# start_index = 2  # Example start index\n",
    "# end_index = 6    # Example end index\n",
    "\n",
    "# # Extract elements from the tuple within the specified range of indices\n",
    "# result_tuple = original_tuple[start_index:end_index]\n",
    "\n",
    "# # Print the result\n",
    "# print(\"Tuple with elements within the specified range:\", result_tuple)\n"
   ]
  },
  {
   "cell_type": "code",
   "execution_count": 31,
   "id": "166851ce-4188-4911-8c1e-9ada8304438d",
   "metadata": {},
   "outputs": [],
   "source": [
    "# 26. Write a code that prompts the user to input two sets of characters. Then, print the union of these two sets\n",
    "# Prompt user to enter the first set of characters\n",
    "\n",
    "# input1 = input(\"Enter the first set of characters, separated by commas: \")\n",
    "# # Convert the input string to a set of characters\n",
    "# set1 = set(item.strip() for item in input1.split(','))\n",
    "\n",
    "# # Prompt user to enter the second set of characters\n",
    "# input2 = input(\"Enter the second set of characters, separated by commas: \")\n",
    "# # Convert the input string to a set of characters\n",
    "# set2 = set(item.strip() for item in input2.split(','))\n",
    "\n",
    "# # Find the union of the two sets\n",
    "# union = set1.union(set2)\n",
    "\n",
    "# # Print the result\n",
    "# print(\"Union of the two sets:\", union)\n"
   ]
  },
  {
   "cell_type": "code",
   "execution_count": 33,
   "id": "ebbf571b-6296-4ffa-92eb-1d7b07a6f1c0",
   "metadata": {},
   "outputs": [],
   "source": [
    "# 27. Develop a code that takes a tuple of integers as input. The function should return the maximum and \n",
    "# minimum values from the tuple using tuple unpacking\n",
    "\n",
    "\n",
    "# Input tuple of integers\n",
    "# input_tuple = (5, 2, 9, 1, 7, 6)\n",
    "\n",
    "# # Find the maximum and minimum values\n",
    "# max_value = max(input_tuple)\n",
    "# min_value = min(input_tuple)\n",
    "\n",
    "# # Return the values using tuple unpacking\n",
    "# result = (max_value, min_value)\n",
    "\n",
    "# # Print the result\n",
    "# print(\"Maximum and Minimum values from the tuple:\", result)\n"
   ]
  },
  {
   "cell_type": "code",
   "execution_count": 35,
   "id": "357d4338-3a54-4715-9493-99936fa0f372",
   "metadata": {},
   "outputs": [
    {
     "name": "stdout",
     "output_type": "stream",
     "text": [
      "Union of the two sets: {1, 2, 3, 4, 5, 6, 7, 8}\n",
      "Intersection of the two sets: {4, 5}\n",
      "Difference of the two sets (elements in set1 but not in set2): {1, 2, 3}\n"
     ]
    }
   ],
   "source": [
    "# 28 .  Create a code that defines two sets of integers. Then, print the union, intersection, and difference of these \n",
    "# two sets\n",
    "\n",
    "# Define two sets of integers\n",
    "# set1 = {1, 2, 3, 4, 5}\n",
    "# set2 = {4, 5, 6, 7, 8}\n",
    "\n",
    "# # Compute the union of the two sets\n",
    "# union_set = set1.union(set2)\n",
    "\n",
    "# # Compute the intersection of the two sets\n",
    "# intersection_set = set1.intersection(set2)\n",
    "\n",
    "# # Compute the difference of the two sets (elements in set1 but not in set2)\n",
    "# difference_set = set1.difference(set2)\n",
    "\n",
    "# # Print the results\n",
    "# print(\"Union of the two sets:\", union_set)\n",
    "# print(\"Intersection of the two sets:\", intersection_set)\n",
    "# print(\"Difference of the two sets (elements in set1 but not in set2):\", difference_set)\n"
   ]
  },
  {
   "cell_type": "code",
   "execution_count": 37,
   "id": "8f67a21a-12e6-4983-8132-7d19acd76c3c",
   "metadata": {},
   "outputs": [],
   "source": [
    "# 29. Write a code that takes a tuple and an element as input. The function should return the count of \n",
    "# occurrences of the given element in the tuple\n",
    "\n",
    "\n",
    "\n",
    "# input_tuple = (1, 2, 3, 2, 4, 2, 5)\n",
    "# element = 2\n",
    "\n",
    "# # Count occurrences of the given element in the tuple\n",
    "# count = input_tuple.count(element)\n",
    "\n",
    "# # Print the count\n",
    "# print(\"Count of occurrences of\", element, \"in the tuple:\", count)\n"
   ]
  },
  {
   "cell_type": "code",
   "execution_count": 39,
   "id": "e1152cac-c479-4b87-ac1f-51e65e3dba7f",
   "metadata": {},
   "outputs": [],
   "source": [
    "# 30. Develop a code that prompts the user to input two sets of strings. Then, print the symmetric difference of \n",
    "# these two sets\n",
    "\n",
    "\n",
    "# input1 = input(\"Enter the first set of strings, separated by commas: \")\n",
    "# # Convert the input string to a set of strings\n",
    "# set1 = set(item.strip() for item in input1.split(','))\n",
    "\n",
    "# # Prompt user to enter the second set of strings\n",
    "# input2 = input(\"Enter the second set of strings, separated by commas: \")\n",
    "# # Convert the input string to a set of strings\n",
    "# set2 = set(item.strip() for item in input2.split(','))\n",
    "\n",
    "# # Find the symmetric difference of the two sets\n",
    "# symmetric_difference = set1.symmetric_difference(set2)\n",
    "\n",
    "# # Print the result\n",
    "# print(\"Symmetric difference of the two sets:\", symmetric_difference)\n"
   ]
  },
  {
   "cell_type": "code",
   "execution_count": 41,
   "id": "d0162140-ab4d-482b-8822-73d1a282d7af",
   "metadata": {},
   "outputs": [],
   "source": [
    "## 31. Write a code that takes a list of words as input and returns a dictionary where the keys are unique words \n",
    "# and the values are the frequencies of those words in the input list\n",
    "# List=list(\"nikhil\")\n",
    "# freq_list=[]\n",
    "# count=0\n",
    "# dict={}\n",
    "# for x in List:\n",
    "#     xno=List.count(x)\n",
    "#     freq_list.append(xno)\n",
    "#     dict[x]=xno\n",
    "\n",
    "# print(dict)\n"
   ]
  },
  {
   "cell_type": "code",
   "execution_count": 43,
   "id": "583a4c5e-ca71-441d-a071-31679013ec98",
   "metadata": {},
   "outputs": [],
   "source": [
    "# 32. Write a code that takes two dictionaries as input and merges them into a single dictionary. If there are \n",
    "# common keys, the values should be added together\n",
    "\n",
    "\n",
    "# dict1 = {'a': 1, 'b': 2, 'c': 3}\n",
    "# dict2 = {'b': 3, 'c': 4, 'd': 5}\n",
    "\n",
    "# # Create a new dictionary to store the merged result\n",
    "# merged_dict = {}\n",
    "\n",
    "# # Add all key-value pairs from the first dictionary\n",
    "# for key in dict1:\n",
    "#     merged_dict[key] = dict1[key]\n",
    "\n",
    "# # Add all key-value pairs from the second dictionary\n",
    "# for key in dict2:\n",
    "#     if key in merged_dict:\n",
    "#         # If the key is already in the merged dictionary, add the values\n",
    "#         merged_dict[key] += dict2[key]\n",
    "#     else:\n",
    "#         # If the key is not in the merged dictionary, add it\n",
    "#         merged_dict[key] = dict2[key]\n",
    "\n",
    "# # Print the merged dictionary\n",
    "# print(\"Merged dictionary:\", merged_dict)\n"
   ]
  },
  {
   "cell_type": "code",
   "execution_count": 45,
   "id": "88ab35d6-8059-4b10-a73c-510c65149036",
   "metadata": {},
   "outputs": [
    {
     "name": "stdout",
     "output_type": "stream",
     "text": [
      "The value corresponding to the keys is: 42\n",
      "The value corresponding to the keys is: None\n"
     ]
    }
   ],
   "source": [
    "# 33. Write a code to access a value in a nested dictionary. The function should take the dictionary and a list of \n",
    "# keys as input, and return the corresponding value. If any of the keys do not exist in the dictionary, the \n",
    "# function should return None\n",
    "\n",
    "# def get_nested_value(nested_dict, keys_list):\n",
    "#     # Start with the outermost dictionary\n",
    "#     current_value = nested_dict\n",
    "    \n",
    "#     # Iterate through the list of keys\n",
    "#     for key in keys_list:\n",
    "#         # Check if the key exists in the current level of the dictionary\n",
    "#         if isinstance(current_value, dict) and key in current_value:\n",
    "#             # Move one level deeper in the dictionary\n",
    "#             current_value = current_value[key]\n",
    "#         else:\n",
    "#             # Return None if the key does not exist\n",
    "#             return None\n",
    "    \n",
    "#     # Return the final value if all keys exist\n",
    "#     return current_value\n",
    "\n",
    "# # Example usage\n",
    "# nested_dict = {'a': {'b': { 'c': 42}}}\n",
    "\n",
    "# keys_list = ['a', 'b', 'c']\n",
    "# value = get_nested_value(nested_dict, keys_list)\n",
    "# print(\"The value corresponding to the keys is:\", value)\n",
    "\n",
    "# # Test with non-existing key\n",
    "# keys_list = ['a', 'b', 'd']\n",
    "# value = get_nested_value(nested_dict, keys_list)\n",
    "# print(\"The value corresponding to the keys is:\", value)\n"
   ]
  },
  {
   "cell_type": "code",
   "execution_count": 47,
   "id": "65106e98-b474-4041-956e-1c5c16b49581",
   "metadata": {},
   "outputs": [
    {
     "name": "stdout",
     "output_type": "stream",
     "text": [
      "Sorted dictionary in ascending order: {'b': 1, 'c': 2, 'a': 3}\n",
      "Sorted dictionary in descending order: {'a': 3, 'c': 2, 'b': 1}\n"
     ]
    }
   ],
   "source": [
    "#34. Write a code that takes a dictionary as input and returns a sorted version of it based on the values. You \n",
    "# can choose whether to sort in ascending or descending order\n",
    "\n",
    "# def sort_dict_by_values(input_dict, ascending=True):\n",
    "#     # Convert dictionary items to a list of tuples\n",
    "#     items = list(input_dict.items())\n",
    "    \n",
    "#     # Define a function to get the value for sorting\n",
    "#     def get_value(item):\n",
    "#         return item[1]\n",
    "    \n",
    "#     # Sort the list of tuples by values using the get_value function\n",
    "#     sorted_items = sorted(items, key=get_value, reverse=not ascending)\n",
    "    \n",
    "#     # Convert the sorted list of tuples back to a dictionary\n",
    "#     sorted_dict = dict(sorted_items)\n",
    "    \n",
    "#     return sorted_dict\n",
    "\n",
    "# # Example usage\n",
    "# input_dict = {'a': 3, 'b': 1, 'c': 2}\n",
    "\n",
    "# # Sort in ascending order\n",
    "# sorted_asc = sort_dict_by_values(input_dict, ascending=True)\n",
    "# print(\"Sorted dictionary in ascending order:\", sorted_asc)\n",
    "\n",
    "# # Sort in descending order\n",
    "# sorted_desc = sort_dict_by_values(input_dict, ascending=False)\n",
    "# print(\"Sorted dictionary in descending order:\", sorted_desc)\n"
   ]
  },
  {
   "cell_type": "code",
   "execution_count": 49,
   "id": "1879335a-d78c-4ef9-a929-d216270f312f",
   "metadata": {},
   "outputs": [
    {
     "name": "stdout",
     "output_type": "stream",
     "text": [
      "Inverted dictionary: {1: ['a', 'c'], 2: ['b', 'e'], 3: ['d']}\n"
     ]
    }
   ],
   "source": [
    "# 35.  Write a code that inverts a dictionary, swapping keys and values. Ensure that the inverted dictionary \n",
    "# correctly handles cases where multiple keys have the same value by storing the keys as a list in the \n",
    "# inverted dictionary\n",
    "\n",
    "# def invert_dict(input_dict):\n",
    "#     inverted_dict = {}\n",
    "    \n",
    "#     for key, value in input_dict.items():\n",
    "#         # If the value is already a key in the inverted dictionary\n",
    "#         if value in inverted_dict:\n",
    "#             # Append the key to the list of keys for this value\n",
    "#             inverted_dict[value].append(key)\n",
    "#         else:\n",
    "#             # Create a new list with the current key\n",
    "#             inverted_dict[value] = [key]\n",
    "    \n",
    "#     return inverted_dict\n",
    "\n",
    "# # Example usage\n",
    "# input_dict = {'a': 1, 'b': 2,'c': 1,'d': 3,'e': 2}\n",
    "\n",
    "# inverted_dict = invert_dict(input_dict)\n",
    "# print(\"Inverted dictionary:\", inverted_dict)\n",
    "\n"
   ]
  },
  {
   "cell_type": "code",
   "execution_count": null,
   "id": "e56bfa4e-d800-4fbf-bedf-dbd53b06b1d8",
   "metadata": {},
   "outputs": [],
   "source": []
  }
 ],
 "metadata": {
  "kernelspec": {
   "display_name": "Python 3 (ipykernel)",
   "language": "python",
   "name": "python3"
  },
  "language_info": {
   "codemirror_mode": {
    "name": "ipython",
    "version": 3
   },
   "file_extension": ".py",
   "mimetype": "text/x-python",
   "name": "python",
   "nbconvert_exporter": "python",
   "pygments_lexer": "ipython3",
   "version": "3.12.4"
  }
 },
 "nbformat": 4,
 "nbformat_minor": 5
}
