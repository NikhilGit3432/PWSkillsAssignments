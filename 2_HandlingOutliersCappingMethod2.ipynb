{
 "cells": [
  {
   "cell_type": "markdown",
   "id": "abaabf69-e530-45cd-ab5e-007464beb259",
   "metadata": {},
   "source": [
    "# Handling Outliers by Capping Method Part 2"
   ]
  },
  {
   "cell_type": "raw",
   "id": "3e742036-4ab5-42a3-8605-bc34305cd182",
   "metadata": {},
   "source": [
    "2. Making Another Column for Capped Values\n",
    "This method involves creating a separate column where outliers are capped at the lower or upper fences, \n",
    "while the original column remains unchanged.\n",
    "\n",
    "Advantages:\n",
    "\n",
    "Preserves Original Data:\n",
    "The original column remains intact, which is useful for comparison, debugging, and audit purposes.\n",
    "Analysts can revert to or refer back to the raw data if needed.\n",
    "\n",
    "Clarity in Data Transformation:\n",
    "Keeping both the original and modified columns helps track what changes were made and ensures transparency in data preprocessing.\n",
    "\n",
    "Flexibility for Experimentation:\n",
    "Enables analysts to experiment with different outlier-handling techniques without losing the raw data.\n",
    "Useful in exploratory data analysis (EDA) where transformations might need to be undone.\n",
    "\n",
    "Minimizes Risk:\n",
    "Prevents accidental overwriting or loss of original information, reducing the risk of incorrect data processing.\n",
    "\n",
    "Disadvantages:\n",
    "\n",
    "Increased Memory Usage:\n",
    "Creating additional columns increases the size of the dataset, which may be an issue for large datasets.\n",
    "\n",
    "Potential Redundancy:\n",
    "May introduce unnecessary redundancy if the modified column is the only one being used for analysis."
   ]
  },
  {
   "cell_type": "code",
   "execution_count": 2,
   "id": "8d97b3b3-3d50-4203-80d6-a1c110dbf2cd",
   "metadata": {},
   "outputs": [],
   "source": [
    "# Importing importtant libraries \n",
    "import pandas as pd\n",
    "import numpy as np"
   ]
  },
  {
   "cell_type": "code",
   "execution_count": 3,
   "id": "58720f50-f126-45a2-9abf-5e489711e389",
   "metadata": {},
   "outputs": [],
   "source": [
    "# importing the iris dataset for this project \n",
    "from sklearn.datasets import load_iris"
   ]
  },
  {
   "cell_type": "code",
   "execution_count": 4,
   "id": "2d6a9a85-9e0d-4ac8-b671-4c1b0aa94f02",
   "metadata": {},
   "outputs": [],
   "source": [
    "# Storing the iris dataset as a function so that we can access its attributes and methods while creating a DataFrame from it\n",
    "iris = load_iris()"
   ]
  },
  {
   "cell_type": "code",
   "execution_count": 5,
   "id": "518d3045-5e50-48f9-9fd8-a61fa0a76cc4",
   "metadata": {},
   "outputs": [
    {
     "data": {
      "text/plain": [
       "dict_keys(['data', 'target', 'frame', 'target_names', 'DESCR', 'feature_names', 'filename', 'data_module'])"
      ]
     },
     "execution_count": 5,
     "metadata": {},
     "output_type": "execute_result"
    }
   ],
   "source": [
    "# Displaying the keys of the iris dataset, which represent the main components of the dataset\n",
    "iris.keys()"
   ]
  },
  {
   "cell_type": "code",
   "execution_count": 6,
   "id": "ac60fe09-0cee-4afa-b5fb-9e0a95a69a4e",
   "metadata": {},
   "outputs": [],
   "source": [
    "# Creating a DataFrame from the iris dataset using its 'data' key for values and 'feature_names' key for column labels\n",
    "# The 'keys()' method helps identify these keys ('data' and 'feature_names') to correctly structure the DataFrame\n",
    "df_iris = pd.DataFrame(iris.data, columns = iris.feature_names)"
   ]
  },
  {
   "cell_type": "code",
   "execution_count": 7,
   "id": "9065e45e-e81c-4f48-ad23-4cba8a03c425",
   "metadata": {},
   "outputs": [
    {
     "data": {
      "text/html": [
       "<div>\n",
       "<style scoped>\n",
       "    .dataframe tbody tr th:only-of-type {\n",
       "        vertical-align: middle;\n",
       "    }\n",
       "\n",
       "    .dataframe tbody tr th {\n",
       "        vertical-align: top;\n",
       "    }\n",
       "\n",
       "    .dataframe thead th {\n",
       "        text-align: right;\n",
       "    }\n",
       "</style>\n",
       "<table border=\"1\" class=\"dataframe\">\n",
       "  <thead>\n",
       "    <tr style=\"text-align: right;\">\n",
       "      <th></th>\n",
       "      <th>sepal length (cm)</th>\n",
       "      <th>sepal width (cm)</th>\n",
       "      <th>petal length (cm)</th>\n",
       "      <th>petal width (cm)</th>\n",
       "    </tr>\n",
       "  </thead>\n",
       "  <tbody>\n",
       "    <tr>\n",
       "      <th>0</th>\n",
       "      <td>5.1</td>\n",
       "      <td>3.5</td>\n",
       "      <td>1.4</td>\n",
       "      <td>0.2</td>\n",
       "    </tr>\n",
       "    <tr>\n",
       "      <th>1</th>\n",
       "      <td>4.9</td>\n",
       "      <td>3.0</td>\n",
       "      <td>1.4</td>\n",
       "      <td>0.2</td>\n",
       "    </tr>\n",
       "    <tr>\n",
       "      <th>2</th>\n",
       "      <td>4.7</td>\n",
       "      <td>3.2</td>\n",
       "      <td>1.3</td>\n",
       "      <td>0.2</td>\n",
       "    </tr>\n",
       "    <tr>\n",
       "      <th>3</th>\n",
       "      <td>4.6</td>\n",
       "      <td>3.1</td>\n",
       "      <td>1.5</td>\n",
       "      <td>0.2</td>\n",
       "    </tr>\n",
       "    <tr>\n",
       "      <th>4</th>\n",
       "      <td>5.0</td>\n",
       "      <td>3.6</td>\n",
       "      <td>1.4</td>\n",
       "      <td>0.2</td>\n",
       "    </tr>\n",
       "    <tr>\n",
       "      <th>...</th>\n",
       "      <td>...</td>\n",
       "      <td>...</td>\n",
       "      <td>...</td>\n",
       "      <td>...</td>\n",
       "    </tr>\n",
       "    <tr>\n",
       "      <th>145</th>\n",
       "      <td>6.7</td>\n",
       "      <td>3.0</td>\n",
       "      <td>5.2</td>\n",
       "      <td>2.3</td>\n",
       "    </tr>\n",
       "    <tr>\n",
       "      <th>146</th>\n",
       "      <td>6.3</td>\n",
       "      <td>2.5</td>\n",
       "      <td>5.0</td>\n",
       "      <td>1.9</td>\n",
       "    </tr>\n",
       "    <tr>\n",
       "      <th>147</th>\n",
       "      <td>6.5</td>\n",
       "      <td>3.0</td>\n",
       "      <td>5.2</td>\n",
       "      <td>2.0</td>\n",
       "    </tr>\n",
       "    <tr>\n",
       "      <th>148</th>\n",
       "      <td>6.2</td>\n",
       "      <td>3.4</td>\n",
       "      <td>5.4</td>\n",
       "      <td>2.3</td>\n",
       "    </tr>\n",
       "    <tr>\n",
       "      <th>149</th>\n",
       "      <td>5.9</td>\n",
       "      <td>3.0</td>\n",
       "      <td>5.1</td>\n",
       "      <td>1.8</td>\n",
       "    </tr>\n",
       "  </tbody>\n",
       "</table>\n",
       "<p>150 rows × 4 columns</p>\n",
       "</div>"
      ],
      "text/plain": [
       "     sepal length (cm)  sepal width (cm)  petal length (cm)  petal width (cm)\n",
       "0                  5.1               3.5                1.4               0.2\n",
       "1                  4.9               3.0                1.4               0.2\n",
       "2                  4.7               3.2                1.3               0.2\n",
       "3                  4.6               3.1                1.5               0.2\n",
       "4                  5.0               3.6                1.4               0.2\n",
       "..                 ...               ...                ...               ...\n",
       "145                6.7               3.0                5.2               2.3\n",
       "146                6.3               2.5                5.0               1.9\n",
       "147                6.5               3.0                5.2               2.0\n",
       "148                6.2               3.4                5.4               2.3\n",
       "149                5.9               3.0                5.1               1.8\n",
       "\n",
       "[150 rows x 4 columns]"
      ]
     },
     "execution_count": 7,
     "metadata": {},
     "output_type": "execute_result"
    }
   ],
   "source": [
    "df_iris"
   ]
  },
  {
   "cell_type": "code",
   "execution_count": 8,
   "id": "1189cb51-6fc8-41b4-a61b-6476c25cc2a8",
   "metadata": {},
   "outputs": [],
   "source": [
    "# Calculating quartiles for the 'sepal width (cm)' column:\n",
    "# q1: First quartile (25th percentile) gives the value below which 25% of the data falls.\n",
    "# q2: Second quartile (50th percentile or median) gives the middle value of the data.\n",
    "# q3: Third quartile (75th percentile) gives the value below which 75% of the data falls.\n",
    "\n",
    "q1 = df_iris[\"sepal width (cm)\"].quantile(0.25)\n",
    "q2 = df_iris[\"sepal width (cm)\"].quantile(0.5)\n",
    "q3 = df_iris[\"sepal width (cm)\"].quantile(0.75)"
   ]
  },
  {
   "cell_type": "code",
   "execution_count": 9,
   "id": "f350661f-01de-466a-82fb-20ed5a266425",
   "metadata": {},
   "outputs": [],
   "source": [
    "# Calculating the lower and upper fences to identify outliers in the 'sepal width (cm)' column:\n",
    "# lower_fence: Values below this threshold are considered lower outliers.\n",
    "# higher_fence: Values above this threshold are considered upper outliers.\n",
    "# These thresholds are determined using the interquartile range (IQR) formula: \n",
    "# IQR = q3 - q1, and fences are calculated as:\n",
    "# lower_fence = q1 - 1.5 * IQR\n",
    "# higher_fence = q3 + 1.5 * IQR\n",
    "\n",
    "\n",
    "lower_fence = q1 - 1.5*(q3-q1)\n",
    "higher_fence = q3 + 1.5*(q3-q1)"
   ]
  },
  {
   "cell_type": "code",
   "execution_count": 10,
   "id": "61f9c861-a691-49a4-bcc1-38adf1b3903d",
   "metadata": {},
   "outputs": [
    {
     "name": "stdout",
     "output_type": "stream",
     "text": [
      "[3.5, 3.0, 3.2, 3.1, 3.6, 3.9, 3.4, 3.4, 2.9, 3.1, 3.7, 3.4, 3.0, 3.0, 4.0, 4.05, 3.9, 3.5, 3.8, 3.8, 3.4, 3.7, 3.6, 3.3, 3.4, 3.0, 3.4, 3.5, 3.4, 3.2, 3.1, 3.4, 4.05, 4.05, 3.1, 3.2, 3.5, 3.6, 3.0, 3.4, 3.5, 2.3, 3.2, 3.5, 3.8, 3.0, 3.8, 3.2, 3.7, 3.3, 3.2, 3.2, 3.1, 2.3, 2.8, 2.8, 3.3, 2.4, 2.9, 2.7, 2.05, 3.0, 2.2, 2.9, 2.9, 3.1, 3.0, 2.7, 2.2, 2.5, 3.2, 2.8, 2.5, 2.8, 2.9, 3.0, 2.8, 3.0, 2.9, 2.6, 2.4, 2.4, 2.7, 2.7, 3.0, 3.4, 3.1, 2.3, 3.0, 2.5, 2.6, 3.0, 2.6, 2.3, 2.7, 3.0, 2.9, 2.9, 2.5, 2.8, 3.3, 2.7, 3.0, 2.9, 3.0, 3.0, 2.5, 2.9, 2.5, 3.6, 3.2, 2.7, 3.0, 2.5, 2.8, 3.2, 3.0, 3.8, 2.6, 2.2, 3.2, 2.8, 2.8, 2.7, 3.3, 3.2, 2.8, 3.0, 2.8, 3.0, 2.8, 3.8, 2.8, 2.8, 2.6, 3.0, 3.4, 3.1, 3.0, 3.1, 3.1, 3.1, 2.7, 3.2, 3.3, 3.0, 2.5, 3.0, 3.4, 3.0]\n"
     ]
    }
   ],
   "source": [
    "# Adjusting the values in the 'sepal width (cm)' column based on the calculated fences:\n",
    "# - If a value is less than or equal to the lower_fence, it is replaced with the lower_fence.\n",
    "# - If a value is greater than or equal to the higher_fence, it is replaced with the higher_fence.\n",
    "# - Otherwise, the original value is retained.\n",
    "# The modified values are stored in the list 'Number_mod'.\n",
    "\n",
    "\n",
    "Number_mod = []\n",
    "for x in df_iris[\"sepal width (cm)\"]:\n",
    "    if x <= lower_fence:\n",
    "        x = lower_fence\n",
    "        Number_mod.append(x)\n",
    "    elif x >= higher_fence:\n",
    "        x = higher_fence\n",
    "        Number_mod.append(x)\n",
    "    else:\n",
    "        x = x\n",
    "        Number_mod.append(x)\n",
    "print(Number_mod)"
   ]
  },
  {
   "cell_type": "code",
   "execution_count": 11,
   "id": "0e1fb9c8-2acf-4de6-ba1b-a42e606d800f",
   "metadata": {},
   "outputs": [],
   "source": [
    "df_iris[\"NumberMod\"] = Number_mod"
   ]
  },
  {
   "cell_type": "code",
   "execution_count": 12,
   "id": "68bd2587-a4c9-4276-8648-1f83a1463ead",
   "metadata": {},
   "outputs": [
    {
     "data": {
      "text/html": [
       "<div>\n",
       "<style scoped>\n",
       "    .dataframe tbody tr th:only-of-type {\n",
       "        vertical-align: middle;\n",
       "    }\n",
       "\n",
       "    .dataframe tbody tr th {\n",
       "        vertical-align: top;\n",
       "    }\n",
       "\n",
       "    .dataframe thead th {\n",
       "        text-align: right;\n",
       "    }\n",
       "</style>\n",
       "<table border=\"1\" class=\"dataframe\">\n",
       "  <thead>\n",
       "    <tr style=\"text-align: right;\">\n",
       "      <th></th>\n",
       "      <th>sepal length (cm)</th>\n",
       "      <th>sepal width (cm)</th>\n",
       "      <th>petal length (cm)</th>\n",
       "      <th>petal width (cm)</th>\n",
       "      <th>NumberMod</th>\n",
       "    </tr>\n",
       "  </thead>\n",
       "  <tbody>\n",
       "    <tr>\n",
       "      <th>0</th>\n",
       "      <td>5.1</td>\n",
       "      <td>3.5</td>\n",
       "      <td>1.4</td>\n",
       "      <td>0.2</td>\n",
       "      <td>3.5</td>\n",
       "    </tr>\n",
       "    <tr>\n",
       "      <th>1</th>\n",
       "      <td>4.9</td>\n",
       "      <td>3.0</td>\n",
       "      <td>1.4</td>\n",
       "      <td>0.2</td>\n",
       "      <td>3.0</td>\n",
       "    </tr>\n",
       "    <tr>\n",
       "      <th>2</th>\n",
       "      <td>4.7</td>\n",
       "      <td>3.2</td>\n",
       "      <td>1.3</td>\n",
       "      <td>0.2</td>\n",
       "      <td>3.2</td>\n",
       "    </tr>\n",
       "    <tr>\n",
       "      <th>3</th>\n",
       "      <td>4.6</td>\n",
       "      <td>3.1</td>\n",
       "      <td>1.5</td>\n",
       "      <td>0.2</td>\n",
       "      <td>3.1</td>\n",
       "    </tr>\n",
       "    <tr>\n",
       "      <th>4</th>\n",
       "      <td>5.0</td>\n",
       "      <td>3.6</td>\n",
       "      <td>1.4</td>\n",
       "      <td>0.2</td>\n",
       "      <td>3.6</td>\n",
       "    </tr>\n",
       "    <tr>\n",
       "      <th>...</th>\n",
       "      <td>...</td>\n",
       "      <td>...</td>\n",
       "      <td>...</td>\n",
       "      <td>...</td>\n",
       "      <td>...</td>\n",
       "    </tr>\n",
       "    <tr>\n",
       "      <th>145</th>\n",
       "      <td>6.7</td>\n",
       "      <td>3.0</td>\n",
       "      <td>5.2</td>\n",
       "      <td>2.3</td>\n",
       "      <td>3.0</td>\n",
       "    </tr>\n",
       "    <tr>\n",
       "      <th>146</th>\n",
       "      <td>6.3</td>\n",
       "      <td>2.5</td>\n",
       "      <td>5.0</td>\n",
       "      <td>1.9</td>\n",
       "      <td>2.5</td>\n",
       "    </tr>\n",
       "    <tr>\n",
       "      <th>147</th>\n",
       "      <td>6.5</td>\n",
       "      <td>3.0</td>\n",
       "      <td>5.2</td>\n",
       "      <td>2.0</td>\n",
       "      <td>3.0</td>\n",
       "    </tr>\n",
       "    <tr>\n",
       "      <th>148</th>\n",
       "      <td>6.2</td>\n",
       "      <td>3.4</td>\n",
       "      <td>5.4</td>\n",
       "      <td>2.3</td>\n",
       "      <td>3.4</td>\n",
       "    </tr>\n",
       "    <tr>\n",
       "      <th>149</th>\n",
       "      <td>5.9</td>\n",
       "      <td>3.0</td>\n",
       "      <td>5.1</td>\n",
       "      <td>1.8</td>\n",
       "      <td>3.0</td>\n",
       "    </tr>\n",
       "  </tbody>\n",
       "</table>\n",
       "<p>150 rows × 5 columns</p>\n",
       "</div>"
      ],
      "text/plain": [
       "     sepal length (cm)  sepal width (cm)  petal length (cm)  petal width (cm)  \\\n",
       "0                  5.1               3.5                1.4               0.2   \n",
       "1                  4.9               3.0                1.4               0.2   \n",
       "2                  4.7               3.2                1.3               0.2   \n",
       "3                  4.6               3.1                1.5               0.2   \n",
       "4                  5.0               3.6                1.4               0.2   \n",
       "..                 ...               ...                ...               ...   \n",
       "145                6.7               3.0                5.2               2.3   \n",
       "146                6.3               2.5                5.0               1.9   \n",
       "147                6.5               3.0                5.2               2.0   \n",
       "148                6.2               3.4                5.4               2.3   \n",
       "149                5.9               3.0                5.1               1.8   \n",
       "\n",
       "     NumberMod  \n",
       "0          3.5  \n",
       "1          3.0  \n",
       "2          3.2  \n",
       "3          3.1  \n",
       "4          3.6  \n",
       "..         ...  \n",
       "145        3.0  \n",
       "146        2.5  \n",
       "147        3.0  \n",
       "148        3.4  \n",
       "149        3.0  \n",
       "\n",
       "[150 rows x 5 columns]"
      ]
     },
     "execution_count": 12,
     "metadata": {},
     "output_type": "execute_result"
    }
   ],
   "source": [
    "df_iris"
   ]
  },
  {
   "cell_type": "code",
   "execution_count": 26,
   "id": "e33e34cb-94bc-4232-8f27-783ea9ba9906",
   "metadata": {},
   "outputs": [
    {
     "data": {
      "image/png": "[encoded data removed]",
      "text/plain": [
       "<Figure size 1000x500 with 2 Axes>"
      ]
     },
     "metadata": {},
     "output_type": "display_data"
    }
   ],
   "source": [
    "import matplotlib.pyplot as plt\n",
    "\n",
    "# Plotting box plot for the original 'sepal width (cm)' feature\n",
    "plt.figure(figsize=(10, 5))\n",
    "plt.subplot(1, 2, 1)\n",
    "plt.boxplot(df_iris[\"sepal width (cm)\"])\n",
    "plt.title(\"Box Plot - Original 'sepal width (cm)'\")\n",
    "plt.ylabel(\"Value\")\n",
    "plt.xticks([1], ['Original'])\n",
    "\n",
    "# Plotting box plot for the modified 'Number_mod' feature\n",
    "plt.subplot(1, 2, 2)\n",
    "plt.boxplot(Number_mod)\n",
    "plt.title(\"Box Plot - Modified 'Number_mod'\")\n",
    "plt.ylabel(\"Value\")\n",
    "plt.xticks([1], ['Modified'])\n",
    "\n",
    "# Display both plots\n",
    "plt.tight_layout()\n",
    "plt.show()\n"
   ]
  },
  {
   "cell_type": "raw",
   "id": "4b66056e-5702-41dc-868b-f13c32548d62",
   "metadata": {},
   "source": [
    "Conclusion:\n",
    "\n",
    "After plotting the box plots for both the original sepal width (cm) feature and the modified Number_mod feature, we observe that the outliers in the sepal width (cm) feature have been effectively capped in the Number_mod feature. The original box plot displays the presence of extreme values outside the typical range, while the modified box plot shows that these extreme values have been adjusted to fall within the calculated lower and upper fences. This process of outlier capping helps ensure that the data remains within a more consistent range, which is often beneficial for modeling and analysis."
   ]
  },
  {
   "cell_type": "raw",
   "id": "f31c6d7d-1b02-4031-9082-d58e5f2a3414",
   "metadata": {},
   "source": [
    "Summary of the Notebook : Handling Outliers by Capping Method part 2\n",
    "So this part of session displays the another way to Cap the outliers to their respective nearest fences be it lower o upper fence \n",
    "Instead of modifying the oulier in the same feature we here develpe another duplicate feature , but having only Outliers modified\n",
    "Then we carry out the plotting practices using box plot to dermine if the outliers have been sucessfully capped "
   ]
  },
  {
   "cell_type": "code",
   "execution_count": null,
   "id": "3c9b757f-ce31-4044-b86d-2e688bda1198",
   "metadata": {},
   "outputs": [],
   "source": []
  }
 ],
 "metadata": {
  "kernelspec": {
   "display_name": "Python 3 (ipykernel)",
   "language": "python",
   "name": "python3"
  },
  "language_info": {
   "codemirror_mode": {
    "name": "ipython",
    "version": 3
   },
   "file_extension": ".py",
   "mimetype": "text/x-python",
   "name": "python",
   "nbconvert_exporter": "python",
   "pygments_lexer": "ipython3",
   "version": "3.12.4"
  }
 },
 "nbformat": 4,
 "nbformat_minor": 5
}
