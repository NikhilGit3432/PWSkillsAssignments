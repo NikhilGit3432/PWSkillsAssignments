{
 "cells": [
  {
   "cell_type": "raw",
   "id": "ab4d3551-9618-4b76-88aa-754c1a3c07ea",
   "metadata": {},
   "source": [
    "# Complete Oops in Pythin by Campus X "
   ]
  },
  {
   "cell_type": "markdown",
   "id": "983e90e5-0fab-4d4d-a40a-f2748496f2d4",
   "metadata": {},
   "source": [
    "## How to define a class (in PascalCase always)\n",
    "## How to define  a method (when define iside a class a funtion becomes method (always in camelCase))"
   ]
  },
  {
   "cell_type": "code",
   "execution_count": 2,
   "id": "3cb91d50-83a1-4005-86ad-f8d5e0ac3c5a",
   "metadata": {},
   "outputs": [
    {
     "name": "stdin",
     "output_type": "stream",
     "text": [
      "Put your name:  rohan\n"
     ]
    },
    {
     "name": "stdout",
     "output_type": "stream",
     "text": [
      "rohan\n"
     ]
    }
   ],
   "source": [
    "# Define the 'Info' class\n",
    "class Info:\n",
    "    # This is a class named 'Info'. Classes are blueprints for creating objects in Python.\n",
    "    # A class can contain attributes (variables) and methods (functions). In this case, the class contains a method.\n",
    "\n",
    "    # Define a method inside the class\n",
    "    def Name(self):\n",
    "        # 'self' refers to the current instance of the class. It allows you to access the object's attributes and methods.\n",
    "        # The 'Name' method takes input from the user and returns the entered name.\n",
    "        \n",
    "        name = input(\"Put your name: \")  # Asking for the user's name and storing it in the variable 'name'.\n",
    "        return name  # Returning the name that was entered by the user.\n",
    "\n",
    "# Create an object (instance) of the 'Info' class\n",
    "Rohan = Info()  # This creates an object of the Info class and stores it in the variable 'Rohan'.\n",
    "\n",
    "# Call the 'Name' method on the object 'Rohan' and print the result.\n",
    "print(Rohan.Name())  # Calling the 'Name' method of the 'Rohan' object. It will ask for the name and print it.\n"
   ]
  },
  {
   "cell_type": "raw",
   "id": "4b4275e2-e2b4-490d-90fd-581bebd25108",
   "metadata": {},
   "source": [
    "12.03 )\n",
    "Class: A class in Python is a blueprint for creating objects. It defines the structure and behavior (attributes and methods) that the objects created from the class will have.\n"
   ]
  },
  {
   "cell_type": "raw",
   "id": "5b3d234c-0c51-41a1-90ec-626e10de1071",
   "metadata": {},
   "source": [
    "Object :\n",
    "An object is a specific instance of a class. It represents a real-world entity with properties (attributes) and actions (methods) defined by the class."
   ]
  },
  {
   "cell_type": "raw",
   "id": "fc3daa95-ecc3-497e-ad85-97e6e70bd563",
   "metadata": {},
   "source": [
    "Classes and objects are closely related because a class is the blueprint or template, and objects are the specific instances created from that blueprint.\n",
    "\n",
    "Relationship:\n",
    "Class Defines Structure and Behavior:\n",
    "\n",
    "A class specifies the attributes (data) and methods (functions) that objects will have.\n",
    "Object is an Instance of a Class:\n",
    "\n",
    "When you create an object, it is a unique instance of the class with its own set of attribute values.\n",
    "Objects Use the Class Design:\n",
    "\n",
    "The class determines how the object behaves and what properties it can store."
   ]
  },
  {
   "cell_type": "markdown",
   "id": "9724134c-7968-42c6-8692-acc1aa75f4ba",
   "metadata": {},
   "source": [
    "# Here are detailed comments explaining how to access and call out the data (attributes or variables) of a class after declaring an object for it:"
   ]
  },
  {
   "cell_type": "code",
   "execution_count": 4,
   "id": "4c2a8563-03fd-45ef-a36b-1dda3565c6bb",
   "metadata": {},
   "outputs": [
    {
     "name": "stdout",
     "output_type": "stream",
     "text": [
      "Number of doors: 4\n"
     ]
    },
    {
     "name": "stdin",
     "output_type": "stream",
     "text": [
      "Name of the car:  carrss\n"
     ]
    },
    {
     "name": "stdout",
     "output_type": "stream",
     "text": [
      "Car name: carrss\n"
     ]
    }
   ],
   "source": [
    "# Class definition for Car\n",
    "class Car:\n",
    "    # Class attributes representing general properties of a car\n",
    "    Doors = 4  # All cars have 4 doors by default\n",
    "    Wheels = 4  # All cars have 4 wheels by default\n",
    "    Headlamps = 2  # All cars have 2 headlamps by default\n",
    "    TailLamps = 2  # All cars have 2 tail lamps by default\n",
    "\n",
    "    # Method to get the name of the car\n",
    "    def Name(self):\n",
    "        # The 'input' function is used to take the name of the car from the user\n",
    "        name = input(\"Name of the car: \")  # Prompt user to input car name\n",
    "        return name  # Return the inputted name\n",
    "\n",
    "# Create an object (instance) of the Car class\n",
    "VW = Car()  # This creates an instance of the 'Car' class and assigns it to the variable 'VW'\n",
    "\n",
    "# Access and print the Doors attribute of the VW object\n",
    "# Here, we are calling the class attribute 'Doors' from the 'VW' object.\n",
    "# Since 'Doors' is a class attribute (not specific to any one object), we can access it directly from the object.\n",
    "print(f\"Number of doors: {VW.Doors}\")  # This prints the value of 'Doors' which is 4 for every car.\n",
    "\n",
    "# Call the Name method to input and display the car's name\n",
    "# We are calling the method 'Name()' of the 'VW' object. This method prompts the user to enter the car's name.\n",
    "# The inputted value is returned by the method and printed to the console.\n",
    "print(f\"Car name: {VW.Name()}\")  # This calls the 'Name' method and prints the name input by the user.\n"
   ]
  },
  {
   "cell_type": "markdown",
   "id": "ee5747e4-1314-41bb-bec1-3e426959859b",
   "metadata": {},
   "source": [
    "## Here are the comments explaining the code, specifically focusing on how to refer to the data, variables, and attributes of a class inside its own method:"
   ]
  },
  {
   "cell_type": "code",
   "execution_count": 6,
   "id": "7ec26f71-58aa-4ac5-a124-ad7c6aa10000",
   "metadata": {},
   "outputs": [
    {
     "name": "stdin",
     "output_type": "stream",
     "text": [
      "10th Student's Name:  rohan\n"
     ]
    },
    {
     "name": "stdout",
     "output_type": "stream",
     "text": [
      "rohan\n"
     ]
    }
   ],
   "source": [
    "# Define a class named Info\n",
    "class Info:\n",
    "    # Class attributes representing general details about the school\n",
    "    Standard = \"10th\"  # Grade or class of the student (shared by all instances of the class)\n",
    "    School = \"KV\"      # Name of the school (shared by all instances of the class)\n",
    "    Year = \"2024\"      # Academic year (shared by all instances of the class)\n",
    "    Batch = \"V2\"       # Batch identifier (shared by all instances of the class)\n",
    "\n",
    "    # Method to get the name of the student\n",
    "    def Student(self):\n",
    "        # The method is using the class attribute 'Standard' inside the input prompt\n",
    "        # 'Info.Standard' accesses the class attribute. It is used here to customize the prompt.\n",
    "        # The prompt will display the class and ask for the student's name.\n",
    "        name = input(f\"{Info.Standard} Student's Name: \")  # Use the class attribute 'Standard' for the prompt\n",
    "        return name  # Return the inputted student name\n",
    "\n",
    "# Create an object (instance) of the Info class\n",
    "Rohan = Info()  # 'Rohan' is an object of the 'Info' class. This object will inherit the class attributes.\n",
    "\n",
    "# Call the Student method and print the result\n",
    "print(Rohan.Student())  # Calls the 'Student' method on the 'Rohan' object and prints the name entered by the user\n"
   ]
  },
  {
   "cell_type": "markdown",
   "id": "569c603a-d6c2-4bfb-ad2b-78da0d010a4b",
   "metadata": {},
   "source": [
    "## Importance of mentioning or declaring the variable or data of the class in an Init fucntion"
   ]
  },
  {
   "cell_type": "code",
   "execution_count": 8,
   "id": "b12eddb6-b3c7-4dba-86d0-fd8c7482cc48",
   "metadata": {},
   "outputs": [
    {
     "name": "stdout",
     "output_type": "stream",
     "text": [
      "Hello atm without init function\n",
      "Hello ATM with init function \n"
     ]
    }
   ],
   "source": [
    "# Class Atm without __init__ function\n",
    "class Atm:\n",
    "    # This print statement is executed as soon as the class is loaded into memory.\n",
    "    # It will run when the class is defined, not when an object is created.\n",
    "    print(\"Hello atm without init function\")\n",
    "\n",
    "    def menu(self):\n",
    "        # This is a method that is defined, but it does nothing (pass).\n",
    "        pass\n",
    "\n",
    "# Creating an object 'SBI' from the Atm class.\n",
    "# The print statement \"Hello atm without init function\" will run immediately when the class is loaded, but no instance-specific data will be initialized.\n",
    "SBI = Atm()  # This will create the object, but no data or attributes are set during object creation.\n",
    "\n",
    "# ------------------------------------------------------------\n",
    "\n",
    "# Class ATM with __init__ function\n",
    "class ATM:\n",
    "    # The __init__ method is the constructor that is automatically called when an object is created.\n",
    "    def __init__(self):\n",
    "        # When an object is created, this print statement will run.\n",
    "        # This indicates that the object has been created and initialized with the __init__ method.\n",
    "        print(\"Hello ATM with init function \")\n",
    "\n",
    "    def menu1(self):\n",
    "        # This is another method 'menu1', but it doesn't contain any functionality here.\n",
    "        pass\n",
    "\n",
    "# Creating an object 'Sbi' from the ATM class.\n",
    "# The print statement \"Hello ATM with init function\" will run because of the __init__ method when the object 'Sbi' is created.\n",
    "Sbi = ATM()  # This will automatically call the __init__ method, printing the message and allowing the object to be initialized.\n",
    "\n",
    "# ------------------------------------------------------------\n",
    "\n",
    "# Both classes seem to be functioning the same way in this code, since both print statements run during class loading.\n",
    "# However, the key difference is that the second class (ATM) uses the __init__ method to initialize instance-specific data.\n",
    "# In the first class (Atm), there is no customization during object creation. It doesn't initialize any data automatically.\n",
    "# The __init__ method is important because it allows us to set unique values for each object when it is created, such as customizing attributes.\n",
    "# Without __init__, you would need to manually set the attributes later, which makes the code less flexible.\n"
   ]
  },
  {
   "cell_type": "code",
   "execution_count": 9,
   "id": "cd1f99dd-9fe8-4263-abad-03728bf9e669",
   "metadata": {},
   "outputs": [
    {
     "name": "stdout",
     "output_type": "stream",
     "text": [
      "ATM created with balance: 1000\n",
      "ATM created with balance: 5000\n"
     ]
    }
   ],
   "source": [
    "class ATM:\n",
    "    def __init__(self, balance=0):\n",
    "        self.balance = balance  # Instance-specific data\n",
    "        print(f\"ATM created with balance: {self.balance}\")\n",
    "\n",
    "Sbi = ATM(1000)  # Output: ATM created with balance: 1000\n",
    "Hdfc = ATM(5000)  # Output: ATM created with balance: 5000\n",
    "\n",
    "\n",
    "\n",
    "# Each object (Sbi and Hdfc) has its own balance, which is initialized during object creation. \n",
    "# Without __init__, this level of customization is not possible."
   ]
  },
  {
   "cell_type": "markdown",
   "id": "fe85e91f-8a19-4a27-81cd-d46022b666e2",
   "metadata": {},
   "source": [
    "# ATM Code practice 1"
   ]
  },
  {
   "cell_type": "code",
   "execution_count": 11,
   "id": "65f3c941-4bb0-422e-aee4-00e1d660dde2",
   "metadata": {},
   "outputs": [
    {
     "name": "stdin",
     "output_type": "stream",
     "text": [
      "Enter a serial number to proceed with transacton :\n",
      "                                1) To reste the pin\n",
      "                                2) To deposite the money\n",
      "                                3) To withdraw the money\n",
      "                                4 ) To Check the current balance\n",
      "                                5) To Exit the transaction 5\n"
     ]
    }
   ],
   "source": [
    "\n",
    "class ATMM:\n",
    "    def __init__(self):\n",
    "        self.pin = 0\n",
    "        self.balance = 0\n",
    "    def menu(self):\n",
    "        while True:\n",
    "            user_input = int(input(\"\"\"Enter a serial number to proceed with transacton :\n",
    "                                1) To reste the pin\n",
    "                                2) To deposite the money\n",
    "                                3) To withdraw the money\n",
    "                                4 ) To Check the current balance\n",
    "                                5) To Exit the transaction\"\"\"))\n",
    "    \n",
    "            if user_input == 1:\n",
    "                print(\"Reset the pin\")\n",
    "                self.Reset_Pin()\n",
    "            elif user_input == 2:\n",
    "                print(\"Deposite the money\")\n",
    "                self.Deposite()\n",
    "            elif user_input == 3:\n",
    "                print(\"Withdraw the Money\")\n",
    "                self.Wthdraw()\n",
    "            elif user_input == 4:\n",
    "                print(\"Check your current balance\")\n",
    "                self.Checkbal()\n",
    "            elif user_input ==5:\n",
    "                break\n",
    "            else: \n",
    "                print(\"Wrong Input , please try again: \")\n",
    "                pass\n",
    "    def Reset_Pin(self):\n",
    "        self.pin = int(input(\"Enter your 4 digit pin: \"))\n",
    "        return self.pin\n",
    "    def Deposite(self):\n",
    "        self.dep = int(input(\"Enter the amount to deposite : \"))\n",
    "        return (self.balance + self.dep)\n",
    "    def Wthdraw(self):\n",
    "        self.withd = int(input(\"Enter the amount to withdraw : \"))\n",
    "        return (self.balance + self.withd)\n",
    "    def Checkbal(self):\n",
    "        print(self.balance)\n",
    "\n",
    "#---------------------------------------------------------------------#\n",
    "\n",
    "ICICI = ATMM()\n",
    "ICICI.menu()\n",
    "\n"
   ]
  },
  {
   "cell_type": "markdown",
   "id": "316214e4-adf5-4a68-a391-d7cedb5bdbe5",
   "metadata": {},
   "source": [
    "# Sample Code by Chat GPT for ATM Code practice"
   ]
  },
  {
   "cell_type": "code",
   "execution_count": 13,
   "id": "f5ebf458-2774-4b61-841a-9581dcd095af",
   "metadata": {},
   "outputs": [
    {
     "name": "stdin",
     "output_type": "stream",
     "text": [
      "Enter a serial number to proceed with transaction:\n",
      "                                    1) To reset the pin\n",
      "                                    2) To deposit money\n",
      "                                    3) To withdraw money\n",
      "                                    4) To check the current balance\n",
      "                                    5) To exit\n",
      "                                     5\n"
     ]
    },
    {
     "name": "stdout",
     "output_type": "stream",
     "text": [
      "Exiting...\n"
     ]
    }
   ],
   "source": [
    "class ATMM:\n",
    "    def __init__(self):\n",
    "        self.pin = 0\n",
    "        self.balance = 0\n",
    "\n",
    "    def menu(self):\n",
    "        # Display the menu and ask for a user input\n",
    "        while True:\n",
    "            user_input = int(input(\"\"\"Enter a serial number to proceed with transaction:\n",
    "                                    1) To reset the pin\n",
    "                                    2) To deposit money\n",
    "                                    3) To withdraw money\n",
    "                                    4) To check the current balance\n",
    "                                    5) To exit\n",
    "                                    \"\"\"))\n",
    "\n",
    "            if user_input == 1:\n",
    "                print(\"Reset the pin\")\n",
    "                self.Reset_Pin()\n",
    "            elif user_input == 2:\n",
    "                print(\"Deposit the money\")\n",
    "                self.Deposit()\n",
    "            elif user_input == 3:\n",
    "                print(\"Withdraw the money\")\n",
    "                self.Withdraw()\n",
    "            elif user_input == 4:\n",
    "                print(\"Check your current balance\")\n",
    "                self.Checkbal()\n",
    "            elif user_input == 5:\n",
    "                print(\"Exiting...\")\n",
    "                break\n",
    "            else:\n",
    "                print(\"Invalid input, please try again.\")\n",
    "\n",
    "    def Reset_Pin(self):\n",
    "        # Reset pin by asking the user to input a new pin\n",
    "        self.pin = int(input(\"Enter your new 4 digit pin: \"))\n",
    "        print(\"Pin reset successfully!\")\n",
    "\n",
    "    def Deposit(self):\n",
    "        # Deposit money by adding the inputted amount to balance\n",
    "        dep = int(input(\"Enter the amount to deposit: \"))\n",
    "        if dep > 0:  # Check if the deposit amount is positive\n",
    "            self.balance += dep  # Update balance by adding the deposit\n",
    "            print(f\"Deposited {dep} successfully. Current balance is {self.balance}\")\n",
    "        else:\n",
    "            print(\"Deposit amount must be positive!\")\n",
    "\n",
    "    def Withdraw(self):\n",
    "        # Withdraw money by subtracting the inputted amount from balance\n",
    "        withd = int(input(\"Enter the amount to withdraw: \"))\n",
    "        if withd <= self.balance and withd > 0:  # Ensure there is enough balance and amount is positive\n",
    "            self.balance -= withd\n",
    "            print(f\"Withdrawn {withd} successfully. Current balance is {self.balance}\")\n",
    "        elif withd > self.balance:\n",
    "            print(\"Insufficient funds!\")\n",
    "        else:\n",
    "            print(\"Withdrawal amount must be positive!\")\n",
    "\n",
    "    def Checkbal(self):\n",
    "        # Display the current balance\n",
    "        print(f\"Your current balance is {self.balance}\")\n",
    "\n",
    "\n",
    "# Instantiate the ATM class and call the menu method\n",
    "ICICI = ATMM()\n",
    "ICICI.menu()\n"
   ]
  },
  {
   "cell_type": "markdown",
   "id": "84db3a4b-624d-4512-b17c-685f63beb020",
   "metadata": {},
   "source": [
    "# ATM Code Practice 2"
   ]
  },
  {
   "cell_type": "code",
   "execution_count": 15,
   "id": "0ee20825-5f72-49f6-a37a-299ecbc66874",
   "metadata": {},
   "outputs": [
    {
     "name": "stdout",
     "output_type": "stream",
     "text": [
      "Enter your code :\n",
      "                1) To Setpin\n",
      "                2) Check balance\n",
      "                3) Deposit Money\n",
      "                4) Withdraw Money\n",
      "                5) To Cancel the Transaction\n"
     ]
    },
    {
     "name": "stdin",
     "output_type": "stream",
     "text": [
      "Enter a code:  5\n"
     ]
    },
    {
     "name": "stdout",
     "output_type": "stream",
     "text": [
      "Exiting\n"
     ]
    }
   ],
   "source": [
    "class ATMM2:\n",
    "    def __init__(self):\n",
    "        self.pin = 0\n",
    "        self. balance = 0\n",
    "    def menu(self):\n",
    "        print(\"\"\"Enter your code :\n",
    "                1) To Setpin\n",
    "                2) Check balance\n",
    "                3) Deposit Money\n",
    "                4) Withdraw Money\n",
    "                5) To Cancel the Transaction\"\"\")\n",
    "        while True:\n",
    "            user_input = int(input(\"Enter a code: \"))\n",
    "            if user_input == 1:\n",
    "                self.setpin()\n",
    "                \n",
    "            elif user_input == 2:\n",
    "                self.checkBalance()\n",
    "\n",
    "            elif user_input == 3:\n",
    "                self.depositeMoney()\n",
    "\n",
    "\n",
    "            elif user_input == 4:\n",
    "                self.withDrawMoney()\n",
    "\n",
    "\n",
    "            elif user_input == 5:\n",
    "                print(\"Exiting\")\n",
    "                break\n",
    "\n",
    "            else :\n",
    "                print(\"Wrong input please try again\")\n",
    "\n",
    "# --------------------------------------------------------------------------    \n",
    "    def checkPin(self):\n",
    "        self.pin2 = int(input(\"Enter your pin: \"))\n",
    "        self.check_pin = self.pin == self.pin2\n",
    "        print(self.pin, self.pin2)\n",
    "        return self.check_pin\n",
    "\n",
    "# -----------------------------------------------------------------------\n",
    "    \n",
    "    def setpin(self):\n",
    "        self.pin = int(input(\"Enter a 4 digit pin: \"))\n",
    "        return self.pin\n",
    "        \n",
    "    def checkBalance(self):\n",
    "        self.checkPin()\n",
    "        if self.check_pin == True:\n",
    "            print(self.balance)\n",
    "        else:\n",
    "            print(\"Cant show Balance\")\n",
    "\n",
    "    def depositeMoney(self):\n",
    "        self.depo = int(input(\"Enter the amount to deposite: \"))\n",
    "        self.balance = self.depo + self.balance\n",
    "        print(self.balance)\n",
    "\n",
    "    def withDrawMoney(self):\n",
    "        self.checkPin()\n",
    "        self.withd =  int(input(\"Enter the amount to withdraw: \"))\n",
    "        self.balance = self. withd + self.balance\n",
    "        print(self.balance)\n",
    "\n",
    "    \n",
    "\n",
    "\n",
    "\n",
    "\n",
    "\n",
    "\n",
    "SBI2= ATMM2()            \n",
    "# SBI2.setpin()  \n",
    "# # SBI2.checkPin()\n",
    "# SBI2.checkBalance()\n",
    "\n",
    "SBI2.menu()"
   ]
  },
  {
   "cell_type": "markdown",
   "id": "e1e9db95-96f6-427c-95a9-c91757f5f297",
   "metadata": {},
   "source": [
    "## 1:06:45\n",
    "# Creating yur own Data Type\n"
   ]
  },
  {
   "cell_type": "raw",
   "id": "2ed90397-e454-4d80-bfef-619abb88070c",
   "metadata": {},
   "source": [
    "What This Code Teaches Us\n",
    "This code demonstrates several important aspects of object-oriented programming (OOP), specifically focusing on the creation of custom data types without relying on special (or magical) methods like __add__ or __sub__. Here's what we can learn from this code:"
   ]
  },
  {
   "cell_type": "code",
   "execution_count": 17,
   "id": "a684518e-c662-4f65-8b08-50ec39e75cc2",
   "metadata": {},
   "outputs": [
    {
     "data": {
      "text/plain": [
       "__main__.Fraction"
      ]
     },
     "execution_count": 17,
     "metadata": {},
     "output_type": "execute_result"
    }
   ],
   "source": [
    "# Creatig a Fraction Dtatype \n",
    "class Fraction:\n",
    "    def __init__(self,n,d):\n",
    "        self.numerator = n\n",
    "        self.denominator = d\n",
    "    def fraction(self):\n",
    "        print(f\"{self.numerator}/{self.denominator}\")\n",
    "\n",
    "Frac = Fraction(12,12)\n",
    "type(Frac)"
   ]
  },
  {
   "cell_type": "code",
   "execution_count": 34,
   "id": "a56696b4-1184-49c1-a94f-e823d7e51100",
   "metadata": {},
   "outputs": [
    {
     "name": "stdin",
     "output_type": "stream",
     "text": [
      "Enter a value for Numerator1:  12\n",
      "Enter a value for denominator1:  13\n",
      "Enter a value for Numerator2:  14\n",
      "Enter a value for denominator2:  15\n"
     ]
    },
    {
     "name": "stdout",
     "output_type": "stream",
     "text": [
      "362/195\n"
     ]
    },
    {
     "data": {
      "text/plain": [
       "__main__.Fraction2"
      ]
     },
     "execution_count": 34,
     "metadata": {},
     "output_type": "execute_result"
    }
   ],
   "source": [
    "# imporvising a Fraction datatype \n",
    "class Fraction2:\n",
    "    def __init__(self):\n",
    "        self.num1 = int(input(\"Enter a value for Numerator1: \"))\n",
    "        self.deno1 = int(input(\"Enter a value for denominator1: \"))\n",
    "        self.num2 = int(input(\"Enter a value for Numerator2: \"))\n",
    "        self.deno2 = int(input(\"Enter a value for denominator2: \"))\n",
    "    def fraction2(self):\n",
    "        self.numf = (self.num1 * self.deno2)+(self.num2*self.deno1)\n",
    "        self.denof = self.deno1 * self.deno2\n",
    "        print(f\"{self.numf}/{self.denof}\")\n",
    "\n",
    "\n",
    "frac2 = Fraction2()\n",
    "frac2.fraction2()\n",
    "type(frac2)\n",
    "\n",
    "\n",
    "# Note :-\n",
    "\"\"\"Instead of relying on special methods like __add__, the code manually performs the fraction addition. \n",
    "his is an alternative approach for customizing behavior without overriding special methods.\"\"\""
   ]
  },
  {
   "cell_type": "markdown",
   "id": "7832d67a-e87a-4b21-bc52-b8bdfa4879e7",
   "metadata": {},
   "source": [
    "# 1:23:27\n",
    "# Encapsulation"
   ]
  },
  {
   "cell_type": "markdown",
   "id": "ce66304f-49c3-434e-931e-71be0e059607",
   "metadata": {},
   "source": [
    "#### What is encapsulation?\n",
    "Encapsulation helps to restrict direct access to some components of an object and only expose the necessary parts through a controlled interface."
   ]
  },
  {
   "cell_type": "code",
   "execution_count": 60,
   "id": "42069b9f-238c-46d4-9d29-fe59b9274368",
   "metadata": {},
   "outputs": [
    {
     "name": "stdout",
     "output_type": "stream",
     "text": [
      "0\n",
      "0\n",
      "1234\n",
      "5000\n"
     ]
    }
   ],
   "source": [
    "\"\"\" This code demonstrates why encapsulation is important and highlights the risks of not implementing it correctly.\"\"\"\n",
    "\n",
    "class ATMM3:\n",
    "    def __init__(self):\n",
    "#Directly exposing sensitive data, such as a PIN or account balance, is a security risk.\n",
    "        self.balance = 0 \n",
    "        self.pin = 0\n",
    "    def menu(self):\n",
    "#The menu function is designed to control how users interact with the balance and pin. \n",
    "#However, because attributes are public, users can bypass this method entirely, defeating its purpose.\n",
    "        while True:\n",
    "            user_input = input(\"Enter a code :\")\n",
    "            if user_input == 1:\n",
    "                print(f\"Display Pin :{self.pin}\")\n",
    "            elif user_input == 2:\n",
    "                print(f\"Display balance:{self.balance} \")\n",
    "            else :\n",
    "                break\n",
    "        \n",
    "atmm3 = ATMM3()\n",
    "print(atmm3.pin) \n",
    "print(atmm3.balance)\n",
    "\n",
    "\n",
    "#The pin and balance attributes are public, meaning they can be accessed and modified directly from outside the class \n",
    "#using the object (atmm3.pin and atmm3.balance).\n",
    "atmm3.pin = 1234\n",
    "atmm3.balance = 5000\n",
    "print(atmm3.pin)\n",
    "print(atmm3.balance)\n",
    "\n",
    "#Without proper controls, attributes can be set to invalid or nonsensical values.\n",
    "atmm3.pin = \"abcd\"      #A user could set an invalid PIN, like atmm3.pin = \"abcd\", causing the program to break.\n",
    "atmm3.balance = -100    #A negative balance could be set (atmm3.balance = -100), which is logically incorrect."
   ]
  },
  {
   "cell_type": "code",
   "execution_count": 62,
   "id": "331b0153-83b4-4958-9497-734341770a23",
   "metadata": {},
   "outputs": [
    {
     "name": "stdin",
     "output_type": "stream",
     "text": [
      "Enter a code : 1\n"
     ]
    }
   ],
   "source": [
    "# Improvised code for Demostatrting the advantages of Encapsulation\n",
    "class ATMM4:\n",
    "    def __init__(self):\n",
    "#Directly exposing sensitive data, such as a PIN or account balance, is a security risk.\n",
    "        self.__balance = 0 \n",
    "        self.__pin = 0\n",
    "    def menu(self):\n",
    "#The menu function is designed to control how users interact with the balance and pin. \n",
    "#However, because attributes are public, users can bypass this method entirely, defeating its purpose.\n",
    "        while True:\n",
    "            user_input = input(\"Enter a code :\")\n",
    "            if user_input == 1:\n",
    "                print(f\"Display Pin :{self.__pin}\")\n",
    "            elif user_input == 2:\n",
    "                print(f\"Display balance:{self.__balance} \")\n",
    "            else :\n",
    "                break\n",
    "\n",
    "atmm4 = ATMM4()\n",
    "atmm4.menu()  # Now here you cannot access the data or attributes of the code which are purposely set to private attributes"
   ]
  },
  {
   "cell_type": "code",
   "execution_count": 64,
   "id": "a2231d99-fe1c-4a69-95bc-a9be610a481f",
   "metadata": {},
   "outputs": [
    {
     "name": "stdin",
     "output_type": "stream",
     "text": [
      "Enter a code : 1\n"
     ]
    },
    {
     "data": {
      "text/plain": [
       "0"
      ]
     },
     "execution_count": 64,
     "metadata": {},
     "output_type": "execute_result"
    }
   ],
   "source": [
    "# Improvised code for Demostatrting the advantages of Encapsulation\n",
    "class ATMM5:\n",
    "    def __init__(self):\n",
    "#Directly exposing sensitive data, such as a PIN or account balance, is a security risk.\n",
    "        self.__balance = 0 \n",
    "        self.__pin = 0\n",
    "    def menu(self):\n",
    "#The menu function is designed to control how users interact with the balance and pin. \n",
    "#However, because attributes are public, users can bypass this method entirely, defeating its purpose.\n",
    "        while True:\n",
    "            user_input = input(\"Enter a code :\")\n",
    "            if user_input == 1:\n",
    "                print(f\"Display Pin :{self.__pin}\")\n",
    "            elif user_input == 2:\n",
    "                print(f\"Display balance:{self.__balance} \")\n",
    "            else :\n",
    "                break\n",
    "# You may need to make another function to get the pin or to access the pin\n",
    "#This ensures that the data is not exposed recklessly, and only authorized or intentional actions can reveal or manipulate the values.\n",
    "    def get_pin(self):\n",
    "        return self.__pin\n",
    "\n",
    "atmm5 = ATMM5()\n",
    "atmm5.menu()  # Now here you cannot access the data or attributes of the code which are purposely set to private attributes\n",
    "atmm5.__pin = 1234  # This will throw an error because __pin is private\n",
    "atmm5.get_pin() # but now here you can access the pin easily "
   ]
  },
  {
   "cell_type": "markdown",
   "id": "676a1be8-9d37-432a-b0cf-d09dddde6371",
   "metadata": {},
   "source": [
    "### 1:49:28\n",
    "### Reference Variable"
   ]
  },
  {
   "cell_type": "markdown",
   "id": "20c9d3ee-b7c4-4551-ac89-b175d8645256",
   "metadata": {},
   "source": [
    "## Pass by Reference 1:51:42"
   ]
  },
  {
   "cell_type": "code",
   "execution_count": 15,
   "id": "149aaf8c-ea5e-4499-a712-986f79c1a903",
   "metadata": {},
   "outputs": [
    {
     "name": "stdout",
     "output_type": "stream",
     "text": [
      "Hello, nitish\n"
     ]
    }
   ],
   "source": [
    "# Define a class named Customer\n",
    "class Customer:\n",
    "    # Constructor (__init__) method to initialize a Customer object\n",
    "    def __init__(self, name):\n",
    "        # Assign the provided name to the instance attribute 'name'\n",
    "        self.name = name\n",
    "\n",
    "# Define a function named Greet\n",
    "# This function accepts a Customer object as an argument\n",
    "def Greet(Cust):\n",
    "    # Access the 'name' attribute of the passed Customer object\n",
    "    # and print a greeting message\n",
    "    print(\"Hello,\", Cust.name)\n",
    "\n",
    "# Create an instance of the Customer class with the name \"nitish\"\n",
    "Cust = Customer(\"nitish\")\n",
    "\n",
    "# Call the Greet function, passing the Customer object as an argument\n",
    "greet = Greet(Cust)\n"
   ]
  },
  {
   "cell_type": "raw",
   "id": "06d10c3a-75bb-4c5d-bbe2-3319af134dbf",
   "metadata": {},
   "source": [
    "-The Cust object of the Customer class is created with the name \"nitish.\"\n",
    "-When the Greet() function is called, it receives the Cust object as its argument.\n",
    "-Inside the Greet() function, the Cust parameter references the same object as Cust in the outer scope.\n",
    "-This means any modification to the object inside the function will reflect outside the function because both refer to the same object in memory."
   ]
  },
  {
   "cell_type": "code",
   "execution_count": 51,
   "id": "0eab4a9f-6b5d-4144-bbb4-70245f6b296d",
   "metadata": {},
   "outputs": [
    {
     "name": "stdout",
     "output_type": "stream",
     "text": [
      "78.125\n",
      "25000\n",
      "320\n"
     ]
    }
   ],
   "source": [
    "## task 1: Call the attributes of the Carinfo with the object of another separate function \n",
    "## Task 2: inside the separate  function,Add a new attribute calculation to the set of attributes of the class Carinfo \n",
    "class CarInfo:\n",
    "    def __init__(self):\n",
    "        self.weight = 25000\n",
    "        self.speed = 320\n",
    "def Car(Carinfo):\n",
    "    calculation = Carinfo.weight / Carinfo.speed\n",
    "    Carinfo.calculation = calculation # Solution for task2 \n",
    "    return Carinfo\n",
    "\n",
    "carinfo = CarInfo()\n",
    "car = Car(carinfo)\n",
    "\n",
    "print(car.calculation) # Accessing the newly added attribute\n",
    "print(car.weight)## Soltion for task1\n",
    "print(car.speed) ## Solution for task 1"
   ]
  },
  {
   "cell_type": "code",
   "execution_count": 3,
   "id": "46229a33-e783-4a3d-985c-1c1502e6bf88",
   "metadata": {},
   "outputs": [
    {
     "name": "stdout",
     "output_type": "stream",
     "text": [
      "Weight of the car: 25000\n",
      "Speed of the car: 320\n",
      "Weight-to-speed ratio: 78.125\n",
      "78.125\n"
     ]
    }
   ],
   "source": [
    "## Solution for the same two tasks \n",
    "## task 1: Call the attributes of the Carinfo with the object of another separate function \n",
    "## Task 2: inside the separate  function,Add a new attribute calculation to the set of attributes of the class Carinfo\n",
    "# Define a class CarInfo\n",
    "class CarInfo:\n",
    "    def __init__(self):\n",
    "        # Initialize attributes weight and speed\n",
    "        self.weight = 25000  # Weight of the car\n",
    "        self.speed = 320     # Speed of the car\n",
    "\n",
    "# Define a function to perform a calculation\n",
    "def Car(carinfo):\n",
    "    # Perform a calculation using the attributes of the CarInfo object\n",
    "    calculation = carinfo.weight / carinfo.speed\n",
    "    carinfo.calculation = calculation  # Add the result as a new attribute\n",
    "    return carinfo  # Return the same object with the new attribute\n",
    "\n",
    "# Create an instance of CarInfo\n",
    "carinfo = CarInfo()\n",
    "\n",
    "# Use the Car function to perform the calculation\n",
    "car = Car(carinfo)\n",
    "\n",
    "# Access attributes using the 'car' object\n",
    "print(f\"Weight of the car: {car.weight}\")\n",
    "print(f\"Speed of the car: {car.speed}\")\n",
    "print(f\"Weight-to-speed ratio: {car.calculation}\")\n",
    "#We can also access the newly added attribute, which was added inside the Car function to the CarInfo class instance.\n",
    "print(carinfo.calculation)"
   ]
  },
  {
   "cell_type": "code",
   "execution_count": 21,
   "id": "8625038b-2870-40ea-b0dc-acb217575e9a",
   "metadata": {},
   "outputs": [
    {
     "name": "stdout",
     "output_type": "stream",
     "text": [
      "Before update: Name - Anushka, Gender - Female\n",
      "After update: Name - Aniket, Gender - Male\n"
     ]
    }
   ],
   "source": [
    "## Task1: Create a class `Info` with attributes `name` and `gender`\n",
    "class Info:\n",
    "    def __init__(self):\n",
    "        self.name = \"Anushka\"  # Default name\n",
    "        self.gender = \"Female\"  # Default gender\n",
    "\n",
    "## Task2: Define a function to modify attributes of the `Info` class\n",
    "def Info_2(info):\n",
    "    # New values for attributes\n",
    "    info.name = \"Aniket\"\n",
    "    info.gender = \"Male\"\n",
    "    return info  # Return the updated object\n",
    "\n",
    "# Create an instance of the Info class\n",
    "info = Info()\n",
    "\n",
    "# Print the initial values of attributes\n",
    "print(f\"Before update: Name - {info.name}, Gender - {info.gender}\")\n",
    "\n",
    "# Update the attributes using the function\n",
    "info2 = Info_2(info)\n",
    "\n",
    "# Print the updated values of attributes\n",
    "print(f\"After update: Name - {info2.name}, Gender - {info2.gender}\")\n"
   ]
  },
  {
   "cell_type": "markdown",
   "id": "bd2fbb57-d26c-44b3-ae88-5b106a904bdc",
   "metadata": {},
   "source": [
    "## 2:00:00 Aliasing by Pass By Refrence Method\n",
    "\n",
    "The task correctly demonstrates aliasing because the same object (info) is passed by reference into the Candidate function. Both the original info object and the info parameter in Candidate point to the same memory location."
   ]
  },
  {
   "cell_type": "code",
   "execution_count": 27,
   "id": "00a6363b-a217-4548-8caf-5aeabec2fe99",
   "metadata": {},
   "outputs": [
    {
     "name": "stdout",
     "output_type": "stream",
     "text": [
      "2337319036128\n",
      "2337319036128\n"
     ]
    }
   ],
   "source": [
    "## task 1 : Show an examle of Aliasing by Passing an object of a class as a refernece into the object of another function\n",
    "# Define a class INFO\n",
    "class INFO:\n",
    "    def __init__(self):\n",
    "        # Initialize the 'name' attribute with the value \"Nikhil\"\n",
    "        self.name = \"Nikhil\"\n",
    "\n",
    "# Define a function that takes an object as an argument\n",
    "def Candidate(info):\n",
    "    # Print the memory address (ID) of the object passed as a parameter\n",
    "    print(id(info))\n",
    "\n",
    "# Create an instance of the INFO class\n",
    "info = INFO()\n",
    "\n",
    "# Print the memory address (ID) of the 'info' object\n",
    "print(id(info))\n",
    "\n",
    "# Pass the 'info' object to the Candidate function and call it\n",
    "candidate = Candidate(info)\n"
   ]
  },
  {
   "cell_type": "markdown",
   "id": "5f71adab-b457-49fc-b6ad-aa2bd82d7452",
   "metadata": {},
   "source": [
    "## 2:16:53\n",
    "## Static/Class Variable and Instance Variable "
   ]
  },
  {
   "cell_type": "raw",
   "id": "c499eb7b-ad69-492f-aac7-14689e7e9b7e",
   "metadata": {},
   "source": [
    "1. Static/Class Variables\n",
    "Definition: A static variable is shared across all instances of the class. It belongs to the class itself and not to any specific object.\n",
    "Scope: It is defined at the class level, outside of any instance methods.\n",
    "Shared Value: All objects of the class share the same copy of the static variable. If the value is changed, it affects all instances.\n",
    "Access: It can be accessed using the class name or an object.\n",
    "\n",
    "2. Instance Variables\n",
    "Definition: An instance variable is unique to each object of the class. It stores data specific to that object.\n",
    "Scope: It is defined inside the __init__ method (or any method) and prefixed with self.\n",
    "Unique Value: Each instance of the class has its own separate copy of the instance variable.\n",
    "Access: It can be accessed using the object of the class."
   ]
  },
  {
   "cell_type": "code",
   "execution_count": 22,
   "id": "aa88f294-6f90-4b1f-931c-8972f1acb3fe",
   "metadata": {},
   "outputs": [
    {
     "name": "stdout",
     "output_type": "stream",
     "text": [
      "1\n",
      "2\n"
     ]
    }
   ],
   "source": [
    "# This code is a great example of understanding the difference between a static/class variable and an instance variable.\n",
    "\n",
    "class ATMM3:\n",
    "    # Static variable (class variable)\n",
    "    count = 0  # Keeps track of the total number of instances created \n",
    "\n",
    "    def __init__(self):\n",
    "        # Increment the static variable\n",
    "        ATMM3.count = ATMM3.count + 1\n",
    "        # Instance variable, unique for each instance\n",
    "        self.sr_no = ATMM3.count  # Assigns the current count to this instance's sr_no\n",
    "\n",
    "# Create the first instance\n",
    "atmm31 = ATMM3()\n",
    "print(atmm31.sr_no)  # Output: 1 (unique for this instance)\n",
    "\n",
    "# Create the second instance\n",
    "atmm32 = ATMM3()\n",
    "print(atmm32.sr_no)  # Output: 2 (unique for this instance, but derived from the shared count)\n"
   ]
  },
  {
   "cell_type": "markdown",
   "id": "e3d2d6f8-f19a-4382-a1da-a17a1733c702",
   "metadata": {},
   "source": [
    "## To understand the usecase of Static or Class Varibale and Instane variable better here is the code for the following task\n",
    "### Task1 : Write a code of atm machine which takes the input fromeach of the user for depositing the momey and calculates the :-\n",
    "### 1) Counts the number of transactions done by each of the user seperately\n",
    "### 2) Calculates the total amount of current balance in acoount of the respective users at the end of the transaction."
   ]
  },
  {
   "cell_type": "code",
   "execution_count": 47,
   "id": "78d6eb79-a597-4a0d-9c72-923589940f55",
   "metadata": {},
   "outputs": [
    {
     "name": "stdin",
     "output_type": "stream",
     "text": [
      "Enter the code:  1\n",
      "Ente rthe amount to deposite:  12000\n"
     ]
    },
    {
     "name": "stdout",
     "output_type": "stream",
     "text": [
      "12000 1\n"
     ]
    },
    {
     "name": "stdin",
     "output_type": "stream",
     "text": [
      "Enter the code:  1\n",
      "Ente rthe amount to deposite:  12000\n"
     ]
    },
    {
     "name": "stdout",
     "output_type": "stream",
     "text": [
      "24000 2\n"
     ]
    },
    {
     "name": "stdin",
     "output_type": "stream",
     "text": [
      "Enter the code:  5\n",
      "Enter the code:  1\n",
      "Ente rthe amount to deposite:  24000\n"
     ]
    },
    {
     "name": "stdout",
     "output_type": "stream",
     "text": [
      "24000 3\n"
     ]
    },
    {
     "name": "stdin",
     "output_type": "stream",
     "text": [
      "Enter the code:  1\n",
      "Ente rthe amount to deposite:  24000\n"
     ]
    },
    {
     "name": "stdout",
     "output_type": "stream",
     "text": [
      "48000 4\n"
     ]
    },
    {
     "name": "stdin",
     "output_type": "stream",
     "text": [
      "Enter the code:  5\n"
     ]
    }
   ],
   "source": [
    "# Solution 1 :-\n",
    "\n",
    "# task1: write a code for ATM machine, where a number of transactions will be counted for each user\n",
    "\n",
    "class ATM_MC :\n",
    "    trans_count = 0\n",
    "    def __init__(self):\n",
    "        self.balance = 0\n",
    "    def menu(self):\n",
    "        while True:\n",
    "            user_input = int(input(\"Enter the code: \"))\n",
    "            if user_input == 1:\n",
    "                self.deposite()\n",
    "            else:\n",
    "                break \n",
    "    def deposite(self):\n",
    "        self.amount = int(input(\"Ente rthe amount to deposite: \"))\n",
    "        if self.amount != 0:\n",
    "            self.balance = self.amount + self.balance\n",
    "            ATM_MC.trans_count +=1\n",
    "            print(self.balance, ATM_MC.trans_count)\n",
    "        else:\n",
    "            pass\n",
    "        \n",
    "user1= ATM_MC()\n",
    "user1.menu()\n",
    "user2 = ATM_MC()\n",
    "user2.menu()"
   ]
  },
  {
   "cell_type": "raw",
   "id": "716b1c08-1306-4710-bbeb-ee1de9744e89",
   "metadata": {},
   "source": [
    "Explanation :\n",
    "So in this solution 1 we can see that the trasn_count (Count of the transaction) is being carried forward for the next user or instance too\n",
    "We needed the trans_count(count of transaction) separately for each of the user(instances)\n",
    "This code demonstrates that the class variable (trans_count) will be updated and carried forward to the next instance because it is not defined inside any method of the class"
   ]
  },
  {
   "cell_type": "code",
   "execution_count": 51,
   "id": "1ad87cd4-49c5-480b-a115-65a537147c9b",
   "metadata": {},
   "outputs": [
    {
     "name": "stdin",
     "output_type": "stream",
     "text": [
      "Enter the code:  1\n",
      "Ente rthe amount to deposite:  12000\n"
     ]
    },
    {
     "name": "stdout",
     "output_type": "stream",
     "text": [
      "12000 1\n"
     ]
    },
    {
     "name": "stdin",
     "output_type": "stream",
     "text": [
      "Enter the code:  1\n",
      "Ente rthe amount to deposite:  12000\n"
     ]
    },
    {
     "name": "stdout",
     "output_type": "stream",
     "text": [
      "24000 2\n"
     ]
    },
    {
     "name": "stdin",
     "output_type": "stream",
     "text": [
      "Enter the code:  5\n",
      "Enter the code:  1\n",
      "Ente rthe amount to deposite:  24000\n"
     ]
    },
    {
     "name": "stdout",
     "output_type": "stream",
     "text": [
      "24000 1\n"
     ]
    },
    {
     "name": "stdin",
     "output_type": "stream",
     "text": [
      "Enter the code:  24000\n"
     ]
    }
   ],
   "source": [
    "# Solution 2:-\n",
    "# task1: write a code for ATM machine, where a number of transactions will be counted for each user\n",
    "\n",
    "class ATM_MC :\n",
    "    def __init__(self):\n",
    "        self.trans_count = 0\n",
    "        self.balance = 0\n",
    "    def menu(self):\n",
    "        while True:\n",
    "            user_input = int(input(\"Enter the code: \"))\n",
    "            if user_input == 1:\n",
    "                self.deposite()\n",
    "            else:\n",
    "                break \n",
    "    def deposite(self):\n",
    "        self.amount = int(input(\"Ente rthe amount to deposite: \"))\n",
    "        if self.amount != 0:\n",
    "            self.balance = self.amount + self.balance\n",
    "            self.trans_count +=1\n",
    "            print(self.balance, self.trans_count)\n",
    "        else:\n",
    "            pass\n",
    "        \n",
    "user1= ATM_MC()\n",
    "user1.menu()\n",
    "user2 = ATM_MC()\n",
    "user2.menu()"
   ]
  },
  {
   "cell_type": "raw",
   "id": "423087ff-1b66-4a84-b9fb-6ffff3064a01",
   "metadata": {},
   "source": [
    "Explanation :\n",
    "So in this solution 2 we can see that the trasn_count (Count of the transaction) is not being carried forward for the next user or instance\n",
    "So it successfully counts the number of transactions by incrementing it by 1 for each transaction that happens for each instance separately\n",
    "This code demonstrates that the instance variable (trans_count) will be updated but will not be carried forward to the next instance because it is defined inside any method of the class"
   ]
  },
  {
   "cell_type": "markdown",
   "id": "01cb9814-89ac-4dda-86b1-e9b0a1ade1a6",
   "metadata": {},
   "source": [
    "## 2:31:28\n",
    "## Class Relationships\n",
    "There are two type of relationships between classes:-\n",
    "### Aggregation :\n",
    "Definition: Aggregation is when one class contains a reference to another class, meaning it has a \"has-a\" relationship.\n",
    "Purpose: It enables one class to use another class as a part of its own structure.\n",
    "### Inheritance :\n",
    "Definition: Inheritance is when one class (child class) derives or inherits the properties and behaviors of another class (parent class).\n",
    "Purpose: It allows code reuse and the creation of a hierarchy of classes.\n",
    "\n"
   ]
  },
  {
   "cell_type": "markdown",
   "id": "4567c0cd-00fe-44d3-929f-0ab963d41005",
   "metadata": {},
   "source": [
    "## Simple code to understamd how Aggregation method in Class relationship works "
   ]
  },
  {
   "cell_type": "code",
   "execution_count": 3,
   "id": "d85bae7a-f83f-4794-8ac1-f08f2f7988e0",
   "metadata": {},
   "outputs": [
    {
     "data": {
      "text/plain": [
       "'411044'"
      ]
     },
     "execution_count": 3,
     "metadata": {},
     "output_type": "execute_result"
    }
   ],
   "source": [
    "# Class Address represents an entity that has an attribute (details) which is an object of another class (Details).\n",
    "class Address:\n",
    "    def __init__(self, details): \n",
    "        # 'details' is an object of the Details class, passed as an argument to aggregate its attributes.\n",
    "        self.details = details\n",
    "\n",
    "# Class Details contains attributes that will be aggregated into an object of the Address class.\n",
    "class Details:\n",
    "    def __init__(self, city, pincode): \n",
    "        # Initialize the attributes city and pincode for the Details class.\n",
    "        self.city = city\n",
    "        self.pincode = pincode\n",
    "\n",
    "# Create an object of the Details class with values for city and pincode.\n",
    "details = Details(\"Pune\", \"411044\")\n",
    "\n",
    "# Create an object of the Address class, passing the Details object as an attribute.\n",
    "add = Address(details)  \n",
    "\n",
    "# Access and print the pincode attribute of the Details class using the Address object.\n",
    "print(add.details.pincode)  # Output: 411044\n",
    "\n",
    "# Explanation:\n",
    "# 1. The 'details' attribute of the Address class holds an object of the Details class.\n",
    "# 2. To access attributes of the Details class (like pincode), you use 'add.details.pincode'.\n",
    "# 3. This demonstrates aggregation, where the Address class has a \"has-a\" relationship with the Details class.\n",
    "\n"
   ]
  },
  {
   "cell_type": "markdown",
   "id": "253106d4-f916-451a-a126-1d7cb18641a7",
   "metadata": {},
   "source": [
    "#### What is happening in the code?\n",
    "\n",
    "Classes Definition:\n",
    "\n",
    "    ### Details Class:\n",
    "    Represents detailed information about a place.\n",
    "    Contains attributes city and pincode.\n",
    "    ### Address Class:\n",
    "    Represents an address.\n",
    "    Contains a reference to an instance of the Details class as its attribute details.\n",
    "    \n",
    "Relationship:\n",
    "\n",
    "    The Address class does not inherit from the Details class. Instead, it uses an instance of the Details class as part of its own structure.\n",
    "    This is an aggregation relationship where Address \"has-a\" Details.\n",
    "    \n",
    "Object Creation:\n",
    "\n",
    "    An object of the Details class is created with the city as \"Pune\" and the pincode as \"411044\".\n",
    "    This Details object is then passed to the Address class while creating the Address object.\n",
    "    \n",
    "Accessing Aggregated Attributes:\n",
    "\n",
    "    The Address object can access the Details object and its attributes, e.g., add.details.pincode.\n",
    "    \n",
    "Why is this an example of aggregation?\n",
    "\n",
    "    ### \"Has-a\" Relationship: The Address class \"has-a\" Details.\n",
    "    ### Object Reference: Instead of inheriting properties, the Address class simply holds a reference to the Details object.\n",
    "    ### Weak Coupling: The Details class can exist independently of the Address class.\n",
    "    \n",
    "What does this code teach us about aggregation?\n",
    "\n",
    "    Aggregation allows a class to use another class's object as a component without inheriting from it.\n",
    "    It shows how classes can work together through composition while maintaining modularity and independence.\n",
    "    Real-world use case: An address \"has details\" (city and pincode), but details can exist independently of the address.\n"
   ]
  },
  {
   "cell_type": "markdown",
   "id": "4158939d-c289-436f-9b2f-fa13d980909c",
   "metadata": {},
   "source": [
    "## 2:43: 30"
   ]
  },
  {
   "cell_type": "markdown",
   "id": "9f9b5bc5-e2b8-474e-83e4-8589f1c3a3aa",
   "metadata": {},
   "source": [
    "## A Simple Code to Understand How Inheritance Works in Class Relationships \n",
    "\n",
    "The given code demonstrates inheritance, where the User class inherits from the Admin class. It shows how the child class (User) can access methods of the parent class (Admin) and also define its own unique methods (view and ask)."
   ]
  },
  {
   "cell_type": "code",
   "execution_count": 18,
   "id": "3dacadc4-55e3-4e36-a1b6-dc15500862a1",
   "metadata": {},
   "outputs": [
    {
     "name": "stdout",
     "output_type": "stream",
     "text": [
      "User view\n"
     ]
    }
   ],
   "source": [
    "# Define a parent class named Admin\n",
    "class Admin:\n",
    "    # Method to simulate an admin check operation\n",
    "    def check(self):\n",
    "        print(\"Admin Checks\")\n",
    "    \n",
    "    # Method to simulate an admin edit operation\n",
    "    def edit(self):\n",
    "        print(\"Admin Edits\")\n",
    "\n",
    "# Define a child class named User that inherits from Admin\n",
    "class User(Admin):\n",
    "    # Method to simulate a user viewing content\n",
    "    def view(self):\n",
    "        print(\"User view\")\n",
    "    \n",
    "    # Method to simulate a user asking something\n",
    "    def ask(self):\n",
    "        print(\"User asks\")\n",
    "\n",
    "# Create an instance of the Admin class\n",
    "admin = Admin()\n",
    "\n",
    "# Create an instance of the User class (inherits methods from Admin)\n",
    "user = User()\n",
    "\n",
    "# Call the 'view' method of the User class using the user instance\n",
    "user.view()  # Output: \"User view\"\n"
   ]
  },
  {
   "cell_type": "markdown",
   "id": "8f668b9b-e568-4c1f-9715-3f84d2ea1c45",
   "metadata": {},
   "source": [
    "## 3:00:00"
   ]
  },
  {
   "cell_type": "markdown",
   "id": "eb892ab1-e2ff-4449-bd94-1f4244cd9eed",
   "metadata": {},
   "source": [
    "## Polymorphism in Object-Oriented Programming (OOP)\n",
    "Polymorphism allows objects of different classes to be treated as objects of a common superclass. It enables the same method name or operator to perform different tasks based on the object calling it."
   ]
  },
  {
   "cell_type": "markdown",
   "id": "ee589026-d6b0-403a-97fc-6b690e913c2e",
   "metadata": {},
   "source": [
    "#### Techniques of Polmorphism in OOP\n",
    "\n",
    "Method Overriding: A child class provides its own implementation of a method that is already defined in the parent class.\n",
    "\n",
    "Method Overloading: Multiple methods in the same class with the same name but different parameters (not natively supported in Python, but can be emulated).\n",
    "\n",
    "Operator Overloading: Redefining the behavior of operators (like +, -, etc.) for user-defined types."
   ]
  },
  {
   "cell_type": "code",
   "execution_count": 35,
   "id": "08997667-e0be-4925-b96a-ea41ab83a078",
   "metadata": {},
   "outputs": [
    {
     "name": "stdout",
     "output_type": "stream",
     "text": [
      "This property is now passed on to the Child\n",
      "This is Parent's Business\n"
     ]
    }
   ],
   "source": [
    "## Simple example to understand Method Overriding in Polymorphism \n",
    "\"\"\" \n",
    "This code is a correct example of method overriding, where the child class provides its own implementation of \n",
    "the method defined in the parent class, while also inheriting other methods unchanged.\n",
    "\n",
    "\"\"\"\n",
    "\n",
    "# Directions:-\n",
    "### Make a parent class and a child class. The child class should inherit the methods and attributes of the Parent class.\n",
    "### The methods of the Parent class and child class should be identified with the same name, though they have different functionalities.\n",
    "\n",
    "# Define the Parent class\n",
    "class Parent:\n",
    "    def Business(self):\n",
    "        # Method in the Parent class to demonstrate a generic business\n",
    "        print(\"This is Parent's Business\")\n",
    "    \n",
    "    def Property(self):\n",
    "        # Method in the Parent class to show the property owned by the parent\n",
    "        print(\"This is Parent's property\")\n",
    "    \n",
    "# Define the Child class inheriting from Parent\n",
    "class Child(Parent):\n",
    "    def Property(self):\n",
    "        # Overriding the Property method of the Parent class\n",
    "        print(\"This property is now passed on to the Child\")\n",
    "\n",
    "# Create an instance of the Child class\n",
    "C = Child()\n",
    "\n",
    "# Call the Property method using the Child class instance\n",
    "# This will invoke the overridden method in the Child class\n",
    "C.Property()\n",
    "\n",
    "# Call the Business method using the Child class instance\n",
    "# This will invoke the method inherited from the Parent class\n",
    "C.Business()\n"
   ]
  },
  {
   "cell_type": "raw",
   "id": "31f16d88-a3a6-4e3a-bd2c-bcd1c1954628",
   "metadata": {},
   "source": [
    "### Explanation of Code:\n",
    "\n",
    "Parent Class (Parent):\n",
    "\n",
    "    Contains two methods: Business and Property.\n",
    "    The Property method shows the parent's property.\n",
    "\n",
    "Child Class (Child):\n",
    "\n",
    "    Inherits from the Parent class.\n",
    "    Overrides the Property method to provide a new implementation.\n",
    "\n",
    "Instance Creation (C = Child()):\n",
    "    An object C of the Child class is created.\n",
    "    The overridden Property method in the Child class is invoked when called using C.Property().\n",
    "    The inherited Business method from the Parent class is still accessible through the Child class instance."
   ]
  },
  {
   "cell_type": "code",
   "execution_count": 49,
   "id": "47939fac-b4eb-43aa-a5c8-c93b1faa9e68",
   "metadata": {},
   "outputs": [
    {
     "name": "stdout",
     "output_type": "stream",
     "text": [
      "Childs weight is 21\n"
     ]
    }
   ],
   "source": [
    "## Note: When the Child Class Has its own constructor then the constructor of the Parent Class will not be triggered\n",
    "\n",
    "\"\"\" \n",
    "Create a class inheritance system where the parent class has attributes for height and weight, and methods to display those attributes. \n",
    "The child class should inherit these methods from the parent but override them to display the child's height and weight instead.\n",
    "Provide an example showing how to create instances of both classes and display their respective height and weight.\n",
    "\"\"\"\n",
    "\n",
    "# Parent class with a constructor to initialize height and weight\n",
    "class Parent:\n",
    "    def __init__(self,height,weight):\n",
    "        # Assign the height and weight attributes to the instance\n",
    "        self.height = height\n",
    "        self.weight = weight\n",
    "\n",
    "    # Method to print parent's height\n",
    "    def Height(self):\n",
    "        # There is a typo here: 'pritn' should be 'print'\n",
    "        pritn(f\"parents height is {self.height}\")\n",
    "\n",
    "    # Method to print parent's weight\n",
    "    def Weight(self):\n",
    "        print(f\"parents weight is {self.weight}\")\n",
    "\n",
    "# Child class inherits from Parent class\n",
    "class Child(Parent):\n",
    "    def __init__(self, height, weight):\n",
    "        # Child constructor initializes height and weight\n",
    "        self.height = height\n",
    "        self.weight = weight\n",
    "\n",
    "    # Method to print child's height (Overriding the Parent class method)\n",
    "    def Height(self):\n",
    "        # There is a typo here: 'pritn' should be 'print'\n",
    "        pritn(f\"Childs height is {self.height}\")\n",
    "\n",
    "    # Method to print child's weight (Overriding the Parent class method)\n",
    "    def Weight(self):\n",
    "        print(f\"Childs weight is {self.weight}\")\n",
    "\n",
    "# Create an instance of Parent class\n",
    "p = Parent(100, 221)\n",
    "\n",
    "# Create an instance of Child class\n",
    "c = Child(10, 21)\n",
    "\n",
    "# Calling the overridden Weight method from the Child class\n",
    "c.Weight()\n"
   ]
  },
  {
   "cell_type": "markdown",
   "id": "3c2eee63-53d5-4d9e-a0fd-529021908f9a",
   "metadata": {},
   "source": [
    "## 3:10:27\n"
   ]
  },
  {
   "cell_type": "code",
   "execution_count": 35,
   "id": "76bf6c94-36f5-420b-a306-15b180948ff9",
   "metadata": {},
   "outputs": [
    {
     "name": "stdout",
     "output_type": "stream",
     "text": [
      "The Standard is 4th\n",
      "School Name is KV\n"
     ]
    }
   ],
   "source": [
    "class School:\n",
    "    def schoolName(self):\n",
    "        self.school_name = \"KV\"  # Sets the school name attribute\n",
    "    def View(self):\n",
    "        print(f\"School Name is {self.school_name}\")  # Prints the school name\n",
    "\n",
    "class Standard(School):\n",
    "    def standardName(self):\n",
    "        self.standard_name = \"4th\"  # Sets the standard name attribute\n",
    "    \n",
    "    def View(self):\n",
    "        # Either initialize the attributes (self.school_name and self.standard_name) \n",
    "        # by explicitly calling their respective methods (schoolName and standardName) here:\n",
    "        # self.standardName() \n",
    "        # self.schoolName()\n",
    "        # Or ensure these methods are called beforehand using the object of the class\n",
    "        # so the attributes are properly set before calling View().\n",
    "        \n",
    "        print(f\"The Standard is {self.standard_name}\")  # Prints the standard name\n",
    "        super().View()  # Calls the View method of the parent class (School) to display the school name\n",
    "        \n",
    "# Create an object of the School class and initialize the school name\n",
    "sch = School()\n",
    "sch.schoolName()\n",
    "\n",
    "# Create an object of the Standard class, initialize both standard name and school name\n",
    "std = Standard()\n",
    "std.standardName()  # Initialize the standard name\n",
    "std.schoolName()  # Initialize the school name\n",
    "std.View()  # Call the View method of Standard, which also calls the parent View method\n"
   ]
  },
  {
   "cell_type": "code",
   "execution_count": 37,
   "id": "3fa05aea-be9d-4652-8913-31e88f536a57",
   "metadata": {},
   "outputs": [
    {
     "name": "stdout",
     "output_type": "stream",
     "text": [
      "10\n"
     ]
    }
   ],
   "source": [
    "# This code demonstrates why it is important to initialize attributes before using them.\n",
    "# The `set_values` method initializes the attribute `self.value`, which is then accessed by `print_value`.\n",
    "# The `print_value` method ensures the attribute is set by calling `set_values` internally.\n",
    "# Attributes of a class are accessed through its object, and calling the appropriate methods ensures proper initialization.\n",
    "class Example:\n",
    "    def set_values(self):\n",
    "        self.value = 10  # Set an attribute\n",
    "\n",
    "    def print_value(self):\n",
    "        self.set_values()\n",
    "        print(self.value)  # Access the attribute set by another method\n",
    "\n",
    "obj = Example()\n",
    "# obj.set_values()  # Call the method to set the value\n",
    "obj.print_value()  # Call another method that relies on the attribute\n"
   ]
  },
  {
   "cell_type": "markdown",
   "id": "27bef2cb-fc24-46b2-952b-afd5679bd6ae",
   "metadata": {},
   "source": [
    "## 3:22:16\n"
   ]
  },
  {
   "cell_type": "markdown",
   "id": "37493c2b-ff77-46b1-a81e-5d4021e2c145",
   "metadata": {},
   "source": [
    "## Typer of Inherrritance "
   ]
  },
  {
   "cell_type": "markdown",
   "id": "bf27e3e3-055f-4639-8b71-b1ce4d5ee745",
   "metadata": {},
   "source": [
    "## 1. Single Inheritance\n",
    "\n",
    "A child class inherits from a single parent class.\n"
   ]
  },
  {
   "cell_type": "code",
   "execution_count": 10,
   "id": "8bbb8820-b4ae-4541-8470-a7a13d739663",
   "metadata": {},
   "outputs": [
    {
     "name": "stdout",
     "output_type": "stream",
     "text": [
      "Child class\n",
      "Parent class\n"
     ]
    }
   ],
   "source": [
    "class Parent:\n",
    "    def show(self):\n",
    "        print(\"Parent class\")\n",
    "class Child(Parent):\n",
    "    def display(self):\n",
    "        print(\"Child class\")\n",
    "p = Parent()\n",
    "c = Child()\n",
    "c.display()\n",
    "c.show()"
   ]
  },
  {
   "cell_type": "markdown",
   "id": "e1aa0b27-1120-4f7b-af3b-fbc5be338a0b",
   "metadata": {},
   "source": [
    "## 2. Multiple Inheritance\n",
    "\n",
    "A child class inherits from multiple parent classes."
   ]
  },
  {
   "cell_type": "code",
   "execution_count": 8,
   "id": "afec88ec-69ad-4580-9b64-578285808ade",
   "metadata": {},
   "outputs": [
    {
     "name": "stdout",
     "output_type": "stream",
     "text": [
      "Parent1 class\n",
      "Parent2 class\n",
      "Child class\n"
     ]
    }
   ],
   "source": [
    "class Parent1:\n",
    "    def show1(self):\n",
    "        print(\"Parent1 class\")\n",
    "class Parent2:\n",
    "    def show2(self):\n",
    "        print(\"Parent2 class\")\n",
    "class Child(Parent1, Parent2):\n",
    "    def display(self):\n",
    "        print(\"Child class\")\n",
    "p1 = Parent1()\n",
    "p2 = Parent2()\n",
    "c = Child()\n",
    "c.show1()\n",
    "c.show2()\n",
    "c.display()"
   ]
  },
  {
   "cell_type": "markdown",
   "id": "2939fe53-e5b7-4ee6-a97c-6262dabbec54",
   "metadata": {},
   "source": [
    "## 3. Multilevel Inheritance\n",
    "\n",
    "A class inherits from another class, and this derived class serves as a parent for the next class."
   ]
  },
  {
   "cell_type": "code",
   "execution_count": 14,
   "id": "5fe238cf-9fb0-449e-ac6f-cb6f11772748",
   "metadata": {},
   "outputs": [
    {
     "name": "stdout",
     "output_type": "stream",
     "text": [
      "Grandparent class\n"
     ]
    }
   ],
   "source": [
    "class Grandparent:\n",
    "    def show(self):\n",
    "        print(\"Grandparent class\")\n",
    "class Parent(Grandparent):\n",
    "    def display(self):\n",
    "        print(\"Parent class\")\n",
    "class Child(Parent):\n",
    "    def reveal(self):\n",
    "        print(\"Child class\")\n",
    "\n",
    "g = Grandparent()\n",
    "p = Parent()\n",
    "c = Child()\n",
    "c.show()\n"
   ]
  },
  {
   "cell_type": "markdown",
   "id": "a19676d5-e2c6-4ec5-8528-1cc4a1167cfd",
   "metadata": {},
   "source": [
    "## 4.Hierarchical Inheritance\n",
    "\n",
    "Multiple child classes inherit from a single parent class."
   ]
  },
  {
   "cell_type": "code",
   "execution_count": 17,
   "id": "440320d5-cc6b-4a59-9a30-efd3cf503792",
   "metadata": {},
   "outputs": [
    {
     "name": "stdout",
     "output_type": "stream",
     "text": [
      "Child2 class\n",
      "Parent class\n"
     ]
    }
   ],
   "source": [
    "class Parent:\n",
    "    def show(self):\n",
    "        print(\"Parent class\")\n",
    "class Child1(Parent):\n",
    "    def display(self):\n",
    "        print(\"Child1 class\")\n",
    "class Child2(Parent):\n",
    "    def reveal(self):\n",
    "        print(\"Child2 class\")\n",
    "p = Parent()\n",
    "c1 = Child1()\n",
    "c2 = Child2()\n",
    "\n",
    "c2.reveal()\n",
    "c2.show()"
   ]
  },
  {
   "cell_type": "markdown",
   "id": "54fbb7b3-29c5-4618-8a69-9fddc309a861",
   "metadata": {},
   "source": [
    "## 5.Hybrid Inheritance\n",
    "\n",
    "A combination of two or more types of inheritance, such as a mix of multiple and multilevel inheritance."
   ]
  },
  {
   "cell_type": "code",
   "execution_count": 21,
   "id": "935eda15-c355-46ea-8145-dab5cb11c1ff",
   "metadata": {},
   "outputs": [
    {
     "name": "stdout",
     "output_type": "stream",
     "text": [
      "Child2 class\n"
     ]
    }
   ],
   "source": [
    "class Parent:\n",
    "    def show(self):\n",
    "        print(\"Parent class\")\n",
    "class Child1(Parent):\n",
    "    def display(self):\n",
    "        print(\"Child1 class\")\n",
    "class Child2(Parent):\n",
    "    def reveal(self):\n",
    "        print(\"Child2 class\")\n",
    "class Grandchild(Child1, Child2):\n",
    "    def exhibit(self):\n",
    "        print(\"Grandchild class\")\n",
    "p = Parent()\n",
    "c1 = Child1()\n",
    "c2 = Child2()\n",
    "gc = Grandchild()\n",
    "gc.reveal()\n"
   ]
  },
  {
   "cell_type": "code",
   "execution_count": null,
   "id": "73b23702-aa5b-4f84-8a21-8fec7977c35a",
   "metadata": {},
   "outputs": [],
   "source": []
  }
 ],
 "metadata": {
  "kernelspec": {
   "display_name": "Python 3 (ipykernel)",
   "language": "python",
   "name": "python3"
  },
  "language_info": {
   "codemirror_mode": {
    "name": "ipython",
    "version": 3
   },
   "file_extension": ".py",
   "mimetype": "text/x-python",
   "name": "python",
   "nbconvert_exporter": "python",
   "pygments_lexer": "ipython3",
   "version": "3.12.4"
  }
 },
 "nbformat": 4,
 "nbformat_minor": 5
}
