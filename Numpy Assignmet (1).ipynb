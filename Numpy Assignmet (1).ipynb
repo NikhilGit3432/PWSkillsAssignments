{
 "cells": [
  {
   "cell_type": "code",
   "execution_count": 1,
   "id": "3f78db63-abc1-4f88-9c43-601918cf2698",
   "metadata": {},
   "outputs": [],
   "source": [
    "import numpy as np\n",
    "#Importing numpy Library "
   ]
  },
  {
   "cell_type": "code",
   "execution_count": 2,
   "id": "e5e0bf2f-fa58-4a3b-8622-17760b8b42fb",
   "metadata": {},
   "outputs": [
    {
     "data": {
      "text/plain": [
       "array([0, 1, 2, 3, 4, 5])"
      ]
     },
     "execution_count": 2,
     "metadata": {},
     "output_type": "execute_result"
    }
   ],
   "source": [
    "# 1) 1. Create a NumPy array 'arr' of integers from 0 to 5 and print its data type\n",
    "arr = np.array([0,1,2,3,4,5])\n",
    "arr"
   ]
  },
  {
   "cell_type": "code",
   "execution_count": 3,
   "id": "1b904d4f-6ca0-4bc4-a6bb-076c8d8192e3",
   "metadata": {},
   "outputs": [],
   "source": [
    "# 2) Give numpy array check if its data type is float\n",
    "arr1 = np.array([1.5, 2.6, 3.7])\n",
    "for x in arr:\n",
    "    if np.dtype(x) == float:\n",
    "        print(x,\"Is Float\")\n",
    "\n"
   ]
  },
  {
   "cell_type": "code",
   "execution_count": 4,
   "id": "888f9a83-51bf-4b7c-83c5-5afc144f8ef8",
   "metadata": {},
   "outputs": [
    {
     "data": {
      "text/plain": [
       "array([0.+0.j, 1.+0.j, 2.+0.j, 3.+0.j, 4.+0.j, 5.+0.j])"
      ]
     },
     "execution_count": 4,
     "metadata": {},
     "output_type": "execute_result"
    }
   ],
   "source": [
    "# 3) 3. Create a NumPy array 'arr' with a data type of complex128 containing three complex numbers\n",
    "## We can mention initially made array \"arr \" and convert its integer elements into a complex number\n",
    "arr.astype(\"complex128\")"
   ]
  },
  {
   "cell_type": "code",
   "execution_count": 5,
   "id": "9718a697-07da-4c64-af05-bbd3b8d4e909",
   "metadata": {},
   "outputs": [
    {
     "name": "stdout",
     "output_type": "stream",
     "text": [
      "int64\n",
      "float64\n"
     ]
    }
   ],
   "source": [
    "# 4. Convert an existing NumPy array 'arr' of integers to float32 data type.\n",
    "print(arr.dtype)\n",
    "# Converting the data type of arr from int to float\n",
    "arr = arr.astype(\"float64\") \n",
    "print(arr.dtype) # the data type of the array will show as float at this stage "
   ]
  },
  {
   "cell_type": "code",
   "execution_count": 6,
   "id": "dfda7123-6450-4c6c-b131-855a40a74e42",
   "metadata": {},
   "outputs": [
    {
     "name": "stdout",
     "output_type": "stream",
     "text": [
      "[1.78319123 1.46475546 1.43977259 1.39545307 1.53793959]\n"
     ]
    },
    {
     "data": {
      "text/plain": [
       "array([1.78, 1.46, 1.44, 1.4 , 1.54])"
      ]
     },
     "execution_count": 6,
     "metadata": {},
     "output_type": "execute_result"
    }
   ],
   "source": [
    "# 5. Given a NumPy array 'arr' with float64 data type, convert it to float32 to reduce decimal precision.\n",
    "# Lets creaate  some array of random flaot numbers \n",
    "arr2 = np.random.uniform(1,2,size = 5) # This array has 5 random flaot numbers between 1 and 2\n",
    "print(arr2) # This will return the elements of the array with more than Two decimal palces \n",
    "# Lets reduce the  after ecimal places of the elements to two decimal places \n",
    "arr2 = np.round(arr2,2)\n",
    "arr2 # This will return the elements with just two decimal places "
   ]
  },
  {
   "cell_type": "code",
   "execution_count": 7,
   "id": "2cc4d00a-520d-4aa9-9663-02e43f7c99b7",
   "metadata": {},
   "outputs": [
    {
     "name": "stdout",
     "output_type": "stream",
     "text": [
      "Shape: (5,)\n",
      "Size: 5\n",
      "Number of dimensions: 1\n"
     ]
    }
   ],
   "source": [
    "# 6. Write a function array_attributes that takes a NumPy array as input and returns its shape, size, and data type\n",
    "import numpy as np\n",
    "\n",
    "# Create a list and convert it to a NumPy array\n",
    "List = [1, 2, 3, 4, 5]\n",
    "array = np.array(List)\n",
    "\n",
    "# Define the function to return attributes of the NumPy array\n",
    "def attri_arr(array):\n",
    "    shape = array.shape  # Get the shape of the array\n",
    "    size = array.size    # Get the total number of elements\n",
    "    ndim = array.ndim    # Get the number of dimensions\n",
    "    return shape, size, ndim\n",
    "\n",
    "# Call the function and print the results\n",
    "shape, size, ndim = attri_arr(array)\n",
    "print(\"Shape:\", shape)\n",
    "print(\"Size:\", size)\n",
    "print(\"Number of dimensions:\", ndim)\n"
   ]
  },
  {
   "cell_type": "code",
   "execution_count": 8,
   "id": "5610827d-9ba5-42fc-8c99-2b777e6c9eca",
   "metadata": {},
   "outputs": [
    {
     "name": "stdout",
     "output_type": "stream",
     "text": [
      "3\n"
     ]
    }
   ],
   "source": [
    "# 7. Create a function array_dimension that takes a NumPy array as input and returns its dimensionality.\n",
    "\n",
    "\n",
    "array = np.array([[[1,2,3],[4,5,6],[7,8,9]]])\n",
    "def array_dimension (array):\n",
    "    ndim = array.ndim\n",
    "    return ndim\n",
    "\n",
    "print(array_dimension(array))\n"
   ]
  },
  {
   "cell_type": "code",
   "execution_count": 9,
   "id": "9c2c721c-e6bc-4cab-8821-707d4447669e",
   "metadata": {},
   "outputs": [
    {
     "name": "stdout",
     "output_type": "stream",
     "text": [
      "9\n"
     ]
    }
   ],
   "source": [
    "# 8. Design a function item_size_info that takes a NumPy array as input and returns the item size and the total size in bytes.\n",
    "\n",
    "array = np.array([[[1,2,3],[4,5,6],[7,8,9]]])\n",
    "def item_size(array):\n",
    "    size = array.size\n",
    "    return size\n",
    "\n",
    "print(item_size(array))\n"
   ]
  },
  {
   "cell_type": "code",
   "execution_count": 10,
   "id": "2513ebe4-65b6-4653-a9fc-8cb383b5421b",
   "metadata": {},
   "outputs": [
    {
     "name": "stdout",
     "output_type": "stream",
     "text": [
      "(72, 24, 8)\n"
     ]
    }
   ],
   "source": [
    "# 9. Create a function array_strides that takes a NumPy array as input and returns the strides of the array.\n",
    "\n",
    "array = np.array([[[1,2,3],[4,5,6],[7,8,9]]])\n",
    "def array_strides(array):\n",
    "    strides = array.strides\n",
    "    return strides\n",
    "\n",
    "print(array_strides(array))\n"
   ]
  },
  {
   "cell_type": "code",
   "execution_count": 11,
   "id": "17852974-aa1c-4fb6-8119-e613a24ef206",
   "metadata": {},
   "outputs": [
    {
     "name": "stdout",
     "output_type": "stream",
     "text": [
      "((1, 3, 3), (72, 24, 8))\n"
     ]
    }
   ],
   "source": [
    "#10. Design a function shape_stride_relationship that takes a NumPy array as input and returns the shape and strides of the array.\n",
    "\n",
    "\n",
    "array = np.array([[[1,2,3],[4,5,6],[7,8,9]]])\n",
    "def array_strides(array):\n",
    "    shape = array.shape\n",
    "    strides = array.strides\n",
    "    return shape,strides\n",
    "\n",
    "print(array_strides(array))\n"
   ]
  },
  {
   "cell_type": "code",
   "execution_count": 6,
   "id": "18f55311-22a2-4a72-a694-d59513e4ac5a",
   "metadata": {},
   "outputs": [
    {
     "name": "stdin",
     "output_type": "stream",
     "text": [
      "Enter the value of n 2\n"
     ]
    },
    {
     "name": "stdout",
     "output_type": "stream",
     "text": [
      "[0. 0.]\n"
     ]
    }
   ],
   "source": [
    "# 11 Create a function create_array that takes an integer n as an input and returns a Numpy array of Zeroes with n elemenets \n",
    "\n",
    "def create_array():\n",
    "    n = int(input(\"Enter the value of n\"))\n",
    "    zeroes_array = np.zeros(n)\n",
    "    return zeroes_array\n",
    "result = create_array()\n",
    "print(result)"
   ]
  },
  {
   "cell_type": "code",
   "execution_count": null,
   "id": "fbcd0bbf-de1e-4713-a191-c278c776d31c",
   "metadata": {},
   "outputs": [],
   "source": [
    "# 12. Write a function `create_ones_matrix` that takes integers `rows` and `cols` as inputs and generates a \n",
    "# 2D NumPy array filled with ones of size `rows x cols`.\n",
    "\n",
    "def create_ones_matrix(rows, col,n):\n",
    "    rows = int(input(\"Enter the values for rows: \"))\n",
    "    col = int(input(\"Enter the value for columns: \"))\n",
    "    n = rows*col    # Because the number of rows and colums should be the factors of the number of elemnts in the final array\n",
    "    ones_matrix = np.ones(n)\n",
    "    ones_matrix = ones_matrix.reshape(rows,col)\n",
    "    return ones_matrix,n\n",
    "\n",
    "ones = create_ones_matrix(2,3,n)\n",
    "print(ones)\n",
    "    \n",
    "    \n"
   ]
  },
  {
   "cell_type": "code",
   "execution_count": null,
   "id": "4b3204f0-c91e-4c7f-8362-9f806db99ea8",
   "metadata": {},
   "outputs": [],
   "source": [
    "\"\"\" 13. Write a function `generate_range_array` that takes three integers start, stop, and step as arguments and \n",
    "creates a NumPy array with a range starting from `start`, ending at stop (exclusive), and with the specified \n",
    "`step`. \"\"\"\n",
    "\n",
    "def generate_range_array(start,stop,step):\n",
    "    range_array = np.arange(start,stop,step)\n",
    "    return range_array\n",
    "\n",
    "print(generate_range_array(2,10,1))"
   ]
  },
  {
   "cell_type": "code",
   "execution_count": null,
   "id": "de8c0e38-82f7-4db3-9521-e101bb02a760",
   "metadata": {},
   "outputs": [],
   "source": [
    "\"\"\" 14. Design a function `generate_linear_space` that takes two floats `start`, `stop`, and an integer `num` as \n",
    "arguments and generates a NumPy array with num equally spaced values between `start` and `stop` \n",
    "(inclusive).\n",
    "\"\"\"\n",
    "def generate_linear_space(start,stop,num):\n",
    "    lin_array = np.linspace(start,stop,num)\n",
    "    return lin_array\n",
    "\n",
    "print(generate_linear_space(2,6,50))\n",
    "    "
   ]
  },
  {
   "cell_type": "code",
   "execution_count": null,
   "id": "dee4269d-1c48-4e26-92f3-df3b70f79b9a",
   "metadata": {},
   "outputs": [],
   "source": [
    "\"\"\" 15. Create a function `create_identity_matrix` that takes an integer `n` as input and generates a square \n",
    "identity matrix of size `n x n` using `numpy.eye`. \"\"\"\n",
    "\n",
    "\n",
    "\n",
    "def create_identity_matrix():\n",
    "    n = int(input(\"Enter the size of the identity matrix: \"))  # Take user input inside the function\n",
    "    identity_matrix = np.eye(n)  # Create an identity matrix of size n x n\n",
    "    return identity_matrix\n",
    "\n",
    "result = create_identity_matrix()\n",
    "print(result)\n"
   ]
  },
  {
   "cell_type": "code",
   "execution_count": null,
   "id": "4949c82d-a15a-4ba4-806b-1c3cc28a5eff",
   "metadata": {},
   "outputs": [],
   "source": [
    "# 16. Write a function that takes a Python list and converts it into a NumPy array.\n",
    "def arr_create():\n",
    "    numbers = (input(\"Enter the numbers here : \"))\n",
    "    List = list(numbers)\n",
    "    print(List)\n",
    "    for x in List:\n",
    "        x = int(x)\n",
    "        print(x, type(x))\n",
    "    arr1 =np.array(List)\n",
    "    return arr1\n",
    "\n",
    "print(arr_create(),type(arr1))"
   ]
  },
  {
   "cell_type": "code",
   "execution_count": null,
   "id": "5783a7ab-8bf0-4793-9877-57e5337cd297",
   "metadata": {},
   "outputs": [],
   "source": [
    "# 17. Create a NumPy array and demonstrate the use of `numpy.view` to create a new array object with the same data.\n",
    "original_array = np.random.uniform(0,10,10) # Craete an array\n",
    "view_original = original_array.view()  # create another array with the same elements \n",
    "if original_array is view_original: # Checks if the both the objects are same or not\n",
    "    print(\"True\")\n",
    "else:\n",
    "    print(\"False\")\n",
    "if np.shares_memory(original_array,view_original):# Checks if both the bojects have smae data or not\n",
    "    print(\"True\")\n",
    "else:\n",
    "    print(\"False\")\n",
    "    \n"
   ]
  },
  {
   "cell_type": "code",
   "execution_count": null,
   "id": "d1182082-c6d4-4979-8d5a-f97370d7e70f",
   "metadata": {},
   "outputs": [],
   "source": [
    "# 18. Write a function that takes two NumPy arrays and concatenates them along a specified axis.\n",
    "def concat_array():\n",
    "    List1 = list(input(\"List1: \"))\n",
    "    List2 = list(input(\"List2: \"))\n",
    "    arra1 = np.array(List1)\n",
    "    arra2 = np.array(List2)\n",
    "    reshape= input(f\"Want to reshape: arra1 {arra1.shape}  and arra2 {arra2.shape}\")\n",
    "    if reshape == \"yes\":\n",
    "        rows1 = int(input(\"Number of rows1: \"))\n",
    "        columns1 = int(input(\"Number of columns1: \"))\n",
    "        rows2 = int(input(\"Number of rows2: \"))\n",
    "        columns2 = int(input(\"Number of columns2\"))\n",
    "        if arra1.size== rows1* columns1 and arra2.size==rows2*columns2:\n",
    "            arra1 = arra1.reshape(rows1,columns1)\n",
    "            arra2 = arra2.reshape(rows2,columns2)\n",
    "    shape1 = list(arra1.shape)\n",
    "    shape2 = list(arra2.shape)\n",
    "    if len(shape1)>1 and len(shape2)>1:\n",
    "        axis = int(input(\"axis: \"))\n",
    "        concate = np.concat([arra1,arra2],axis)\n",
    "    else:\n",
    "        concate = np.concat([arra1,arra2],axis=0)\n",
    "\n",
    "    return concate\n",
    "    \n",
    "    \n",
    "concat_array()\n",
    "    "
   ]
  },
  {
   "cell_type": "code",
   "execution_count": null,
   "id": "0a7c9881-e85f-47b3-95da-73cfa2f483df",
   "metadata": {},
   "outputs": [],
   "source": [
    "# 19. Create two NumPy arrays with different shapes and concatenate them horizontally using `numpy.concatenate`.\n",
    "\n",
    "# Create two arrays with different shapes\n",
    "arr1 = np.array([[1, 2], [3, 4]])  # Shape: (2, 2)\n",
    "arr2 = np.array([[5], [6]])        # Shape: (2, 1)\n",
    "\n",
    "# Concatenate the arrays horizontally (axis=1)\n",
    "result = np.concatenate((arr1, arr2), axis=1)\n",
    "\n",
    "print(\"Array 1:\")\n",
    "print(arr1)\n",
    "print(\"Array 2:\")\n",
    "print(arr2)\n",
    "print(\"Concatenated Array:\")\n",
    "print(result)\n"
   ]
  },
  {
   "cell_type": "code",
   "execution_count": null,
   "id": "ec6595da-5fc1-45cc-9e20-88fe24555eda",
   "metadata": {},
   "outputs": [],
   "source": [
    "# 20. Write a function that vertically stacks multiple NumPy arrays given as a list.\n",
    "\n",
    "def stack_arrays_vertically(arrays_list):\n",
    "    return np.vstack(arrays_list) # Stacks veritcally\n",
    "\n",
    "# Example usage\n",
    "arr1 = np.array([1, 2])\n",
    "arr2 = np.array([3, 4])\n",
    "arr3 = np.array([5, 6])\n",
    "\n",
    "arrays_list = [arr1, arr2, arr3]\n",
    "result = stack_arrays_vertically(arrays_list)\n",
    "print(result)\n"
   ]
  },
  {
   "cell_type": "code",
   "execution_count": null,
   "id": "544314d9-3c79-44df-b1ee-03090b3bc329",
   "metadata": {},
   "outputs": [],
   "source": [
    "# 21. Write a Python function using NumPy to create an array of integers within a specified range (inclusive) with a given step size\n",
    "def create_array_in_range(start, end, step):\n",
    "    # Use np.arange to generate the array within the specified range and step size\n",
    "    return np.arange(start, end + 1, step)\n",
    "\n",
    "\n",
    "start = int(input(\"Enter the start value: \"))  \n",
    "end = int(input(\"Enter the end value: \"))      \n",
    "step = int(input(\"Enter the step size: \"))     \n",
    "\n",
    "# Call the function and store the result\n",
    "result = create_array_in_range(start, end, step)\n",
    "\n",
    "# Print the resulting NumPy array\n",
    "print(result)\n"
   ]
  },
  {
   "cell_type": "code",
   "execution_count": 13,
   "id": "763893c9-cc8c-4de5-8c6c-b18e540f76cb",
   "metadata": {},
   "outputs": [
    {
     "name": "stdout",
     "output_type": "stream",
     "text": [
      "[0.         0.11111111 0.22222222 0.33333333 0.44444444 0.55555556\n",
      " 0.66666667 0.77777778 0.88888889 1.        ]\n"
     ]
    }
   ],
   "source": [
    "# 22. Write a Python function using NumPy to generate an array of 10 equally spaced values between 0 and 1 (inclusive).\n",
    "\n",
    "def generate_spaced_values():\n",
    "    values = np.linspace(0, 1, 10)\n",
    "    return values\n",
    "\n",
    "\n",
    "result = generate_spaced_values()\n",
    "print(result)\n"
   ]
  },
  {
   "cell_type": "code",
   "execution_count": 14,
   "id": "35903593-1d9f-4779-8c88-47d241469c0d",
   "metadata": {},
   "outputs": [
    {
     "name": "stdout",
     "output_type": "stream",
     "text": [
      "[   1.            5.62341325   31.6227766   177.827941   1000.        ]\n"
     ]
    }
   ],
   "source": [
    "# 23. Write a Python function using NumPy to create an array of 5 logarithmically spaced values between 1 and 1000 (inclusive).\n",
    "\n",
    "def generate_log_spaced_values():\n",
    "    values = np.logspace(0, 3, 5)\n",
    "    return values\n",
    "\n",
    "\n",
    "result = generate_log_spaced_values()\n",
    "print(result)\n"
   ]
  },
  {
   "cell_type": "code",
   "execution_count": 9,
   "id": "88b0790e-3632-4ef5-83e7-1614d4d4cff0",
   "metadata": {},
   "outputs": [
    {
     "name": "stdout",
     "output_type": "stream",
     "text": [
      "   Colum1  Colun2  Colu3\n",
      "0      92      78     80\n",
      "1      89      64     90\n",
      "2      68      49     58\n",
      "3      78      14     47\n",
      "4      30      36     75\n"
     ]
    }
   ],
   "source": [
    "# 24. Create a Pandas DataFrame using a NumPy array that contains 5 rows and 3 columns, where the values are random integers between 1 and 100\n",
    "import pandas as pd\n",
    "\n",
    "def create_random_dataframe():\n",
    "    # Generate a 5x3 NumPy arry with random intgers between 1 and 100\n",
    "    random_array = np.random.randint(1, 101, size=(5, 3))\n",
    "    # Convert the NumPy aray to a Pandas DataFrame\n",
    "    df = pd.DataFrame(random_array, columns=['Colum1', 'Colun2', 'Colu3'])\n",
    "    # Assign colunm names as Column1, Column2, and Column3\n",
    "    return df\n",
    "\n",
    "\n",
    "result = create_random_dataframe()\n",
    "print(result)\n"
   ]
  },
  {
   "cell_type": "code",
   "execution_count": 16,
   "id": "0f1a54c5-5b46-4c93-8c74-faf07c29a8ae",
   "metadata": {},
   "outputs": [
    {
     "name": "stdout",
     "output_type": "stream",
     "text": [
      "   Column1  Column2  Column3\n",
      "0        3       85       68\n",
      "1       96       29       37\n",
      "2       95       91       74\n",
      "3       20       14        3\n",
      "4       58       86       87\n"
     ]
    }
   ],
   "source": [
    "# 25. Write a function that takes a Pandas DataFrame and replaces all negative values in a specific column with zeros. Use NumPy operations within the Pandas \n",
    "def create_random_dataframe():\n",
    "    # Generate a 5x3 NumPy arry with random intgers between 1 and 100\n",
    "    random_array = np.random.randint(1, 101, size=(5, 3))\n",
    "    # Convert the NumPy aray to a Pandas DataFrame\n",
    "    df = pd.DataFrame(random_array, columns=['Column1', 'Column2', 'Column3'])\n",
    "    # Assign colunm names as Column1, Column2, and Column3\n",
    "    return df\n",
    "\n",
    "# Call the funtion and display the DataFrame\n",
    "result = create_random_dataframe()\n",
    "print(result)"
   ]
  },
  {
   "cell_type": "code",
   "execution_count": 17,
   "id": "bcf44a0c-61ab-48e3-adb0-ce186e8dde5e",
   "metadata": {},
   "outputs": [
    {
     "name": "stdout",
     "output_type": "stream",
     "text": [
      "The 3rd element is: 30\n"
     ]
    }
   ],
   "source": [
    "# 26. Access the 3rd element from the given NumPy array.\n",
    "arr = np.array([10, 20, 30, 40, 50])\n",
    "\n",
    "# Accessing the 3rd element (index 2)\n",
    "third_element = arr[2]\n",
    "\n",
    "print(\"The 3rd element is:\", third_element)"
   ]
  },
  {
   "cell_type": "code",
   "execution_count": 19,
   "id": "f533cfdf-5237-4808-8acf-f5b7d8a1eef5",
   "metadata": {},
   "outputs": [
    {
     "name": "stdout",
     "output_type": "stream",
     "text": [
      "The element at index (1, 2) is: 6\n"
     ]
    }
   ],
   "source": [
    "# 27. Retrieve the element at index (1, 2) from the 2D NumPy array\n",
    "arr_2d = np.array([[1, 2, 3],\n",
    "                   [4, 5, 6],\n",
    "                   [7, 8, 9]])\n",
    "\n",
    "# Accessing the element at index (1, 2)\n",
    "element = arr_2d[1, 2]\n",
    "\n",
    "print(\"The element at index (1, 2) is:\", element)"
   ]
  },
  {
   "cell_type": "code",
   "execution_count": 20,
   "id": "86fa3600-1f25-4e28-bb24-807a6f2ca46d",
   "metadata": {},
   "outputs": [
    {
     "name": "stdout",
     "output_type": "stream",
     "text": [
      "Elements greater than 5: [ 8 10  7]\n"
     ]
    }
   ],
   "source": [
    "# 28. Using boolean indexing, extract elements greater than 5 from the given NumPy array\n",
    "arr = np.array([3, 8, 2, 10, 5, 7])\n",
    "\n",
    "# Using boolean indexing to extract elements greater than 5\n",
    "elements_greater_than_5 = arr[arr > 5]\n",
    "\n",
    "print(\"Elements greater than 5:\", elements_greater_than_5)"
   ]
  },
  {
   "cell_type": "code",
   "execution_count": 21,
   "id": "07971407-5531-4987-954a-00d87ab2b710",
   "metadata": {},
   "outputs": [
    {
     "name": "stdout",
     "output_type": "stream",
     "text": [
      "Elements from index 2 to 5: [3 4 5 6]\n"
     ]
    }
   ],
   "source": [
    "# 29. Perform basic slicing to extract elements from index 2 to 5 (inclusive) from the given NumPy array.\n",
    "arr = np.array([1, 2, 3, 4, 5, 6, 7, 8, 9])\n",
    "\n",
    "# Slicing from index 2 to 5 (inclusive)\n",
    "sliced_elements = arr[2:6]\n",
    "\n",
    "print(\"Elements from index 2 to 5:\", sliced_elements)"
   ]
  },
  {
   "cell_type": "code",
   "execution_count": 22,
   "id": "6155f617-24d1-4f35-9790-3edb390859d3",
   "metadata": {},
   "outputs": [
    {
     "name": "stdout",
     "output_type": "stream",
     "text": [
      "Extracted sub-array:\n",
      "[[2 3]\n",
      " [5 6]]\n"
     ]
    }
   ],
   "source": [
    "# 30. Slice the 2D NumPy array to extract the sub-array `[[2, 3], [5, 6]]` from the given array.\n",
    "arr_2d = np.array([[1, 2, 3],\n",
    "                   [4, 5, 6],\n",
    "                   [7, 8, 9]])\n",
    "\n",
    "# Slicing to extract the sub-array\n",
    "sub_array = arr_2d[0:2, 1:3]\n",
    "\n",
    "print(\"Extracted sub-array:\")\n",
    "print(sub_array)"
   ]
  },
  {
   "cell_type": "code",
   "execution_count": 23,
   "id": "65759bc3-035b-4ce2-873f-7ef0d8e265ed",
   "metadata": {},
   "outputs": [
    {
     "name": "stdout",
     "output_type": "stream",
     "text": [
      "Extracted elements in specific order:\n",
      "[20 60 70]\n"
     ]
    }
   ],
   "source": [
    "# 31.Write a NumPy function to extract elements in specific order from a given 2D array based on indices provided in another array.\n",
    "arr_2d = np.array([[10, 20, 30],\n",
    "                   [40, 50, 60],\n",
    "                   [70, 80, 90]])\n",
    "\n",
    "# Indices array (row, column)\n",
    "indices = np.array([[0, 1], [1, 2], [2, 0]])\n",
    "\n",
    "# Extract elements using the indices\n",
    "extracted_elements = arr_2d[indices[:, 0], indices[:, 1]]\n",
    "\n",
    "print(\"Extracted elements in specific order:\")\n",
    "print(extracted_elements)"
   ]
  },
  {
   "cell_type": "code",
   "execution_count": 24,
   "id": "8cf376dd-4a5a-46b1-b568-a351731b5253",
   "metadata": {},
   "outputs": [
    {
     "name": "stdout",
     "output_type": "stream",
     "text": [
      "Filtered elements greater than threshold:\n",
      "[ 8 12  7  9]\n"
     ]
    }
   ],
   "source": [
    "# 32. Create a NumPy function that filters elements greater than a threshold from a given 1D array using boolean indexing.\n",
    "\n",
    "def filter_elements(arr, threshold):\n",
    "    filtered_arr = arr[arr > threshold]\n",
    "    return filtered_arr\n",
    "\n",
    "\n",
    "arr = np.array([1, 5, 8, 12, 3, 7, 9])\n",
    "threshold = 6\n",
    "filtered_result = filter_elements(arr, threshold)\n",
    "\n",
    "print(\"Filtered elements greater than threshold:\")\n",
    "print(filtered_result)"
   ]
  },
  {
   "cell_type": "code",
   "execution_count": 8,
   "id": "30f9412b-db90-4b08-a5a8-abd860783986",
   "metadata": {},
   "outputs": [
    {
     "name": "stdout",
     "output_type": "stream",
     "text": [
      "Extraced elemnts: [ 2 28 45]\n"
     ]
    }
   ],
   "source": [
    "# 33. Develop a NumPy function that extracts specific elements from a 3D array using indices provided in three separate arrays for each dimension.\n",
    "def extract_elements_3d(arr, idx1, idx2, idx3):\n",
    "    extracted_elements = arr[idx1, idx2, idx3]\n",
    "    return extracted_elements\n",
    "\n",
    "# Creating a 3D array of shape (4, 4, 4)\n",
    "arr_3d = np.array([[[1, 2, 3, 4],\n",
    "                    [5, 6, 7, 8],\n",
    "                    [9, 10, 11, 12],\n",
    "                    [13, 14, 15, 16]],\n",
    "                   \n",
    "                   [[17, 18, 19, 20],\n",
    "                    [21, 22, 23, 24],\n",
    "                    [25, 26, 27, 28],\n",
    "                    [29, 30, 31, 32]],\n",
    "                   \n",
    "                   [[33, 34, 35, 36],\n",
    "                    [37, 38, 39, 40],\n",
    "                    [41, 42, 43, 44],\n",
    "                    [45, 46, 47, 48]],\n",
    "                   \n",
    "                   [[49, 50, 51, 52],\n",
    "                    [53, 54, 55, 56],\n",
    "                    [57, 58, 59, 60],\n",
    "                    [61, 62, 63, 64]]])\n",
    "\n",
    "# Indices for ech dimension (example)\n",
    "idx1 = np.array([0, 1, 2])  \n",
    "idx2 = np.array([0, 2, 3])  \n",
    "idx3 = np.array([1, 3, 0])  \n",
    "\n",
    "# Extrct ellements using the indices\n",
    "result = extract_elements_3d(arr_3d, idx1, idx2, idx3)\n",
    "\n",
    "print(\"Extraced elemnts:\", result)"
   ]
  },
  {
   "cell_type": "code",
   "execution_count": 10,
   "id": "f181d30d-b313-43ec-ba28-50186c0ab328",
   "metadata": {},
   "outputs": [
    {
     "ename": "IndentationError",
     "evalue": "unexpected indent (3556898596.py, line 14)",
     "output_type": "error",
     "traceback": [
      "\u001b[1;36m  Cell \u001b[1;32mIn[10], line 14\u001b[1;36m\u001b[0m\n\u001b[1;33m    mml.;\u001b[0m\n\u001b[1;37m    ^\u001b[0m\n\u001b[1;31mIndentationError\u001b[0m\u001b[1;31m:\u001b[0m unexpected indent\n"
     ]
    }
   ],
   "source": [
    "# 34. Write a NumPy function that returns elements from an array where both two conditions are satisfied using boolean indexing.\n",
    "def filter_elements(arr, condition1, condition2):\n",
    "    filtered_elements = arr[condition1 & condition2]\n",
    "    return filtered_elements\n",
    "\n",
    "# Creating a NumPy array\n",
    "arr = np.array([10, 20, 30, 40, 50, 60, 70, 80, 90])\n",
    "\n",
    "\n",
    "condition1 = arr > 30\n",
    "condition2 = arr < 80\n",
    "\n",
    "result = filter_elements(arr, condition1, condition2)\n",
    " mml.;\n",
    "print(\"Filtered elements:\", result)"
   ]
  },
  {
   "cell_type": "code",
   "execution_count": 11,
   "id": "dc0acc9d-116b-4a72-858f-71704c5a1179",
   "metadata": {},
   "outputs": [
    {
     "name": "stdout",
     "output_type": "stream",
     "text": [
      "Extracted elements: [1 5 9]\n"
     ]
    }
   ],
   "source": [
    "# 35. Create a NumPy function that extracts elements from a 2D array using row and column indices provided in separate arrays.\n",
    "def extract_elements_2d(arr, row_indices, col_indices):\n",
    "    elements = arr[row_indices, col_indices]\n",
    "    return elements\n",
    "\n",
    "# Example usage:\n",
    "# Creating a 2D NumPy array\n",
    "arr_2d = np.array([[1, 2, 3],\n",
    "                   [4, 5, 6],\n",
    "                   [7, 8, 9]])\n",
    "\n",
    "row_indices = np.array([0, 1, 2])  \n",
    "col_indices = np.array([0, 1, 2])  \n",
    "\n",
    "result = extract_elements_2d(arr_2d, row_indices, col_indices)\n",
    "\n",
    "print(\"Extracted elements:\", result)"
   ]
  },
  {
   "cell_type": "code",
   "execution_count": 28,
   "id": "628e390c-8605-4c65-97e6-bd188ff66267",
   "metadata": {},
   "outputs": [
    {
     "name": "stdout",
     "output_type": "stream",
     "text": [
      "Original array:\n",
      " [[1 2 3]\n",
      " [4 5 6]\n",
      " [7 8 9]]\n",
      "Array after adding scalar value:\n",
      " [[ 6  7  8]\n",
      " [ 9 10 11]\n",
      " [12 13 14]]\n"
     ]
    }
   ],
   "source": [
    "#  36. Given an array arr of shape (3, 3), add a scalar value of 5 to each element using NumPy broadcasting\n",
    "def add_scalar_to_array(arr, scalar):\n",
    "    result = arr + scalar\n",
    "    return result\n",
    "\n",
    "arr = np.array([[1, 2, 3],\n",
    "                [4, 5, 6],\n",
    "                [7, 8, 9]])\n",
    "\n",
    "scalar_value = 5\n",
    "\n",
    "result = add_scalar_to_array(arr, scalar_value)\n",
    "\n",
    "print(\"Original array:\\n\", arr)\n",
    "print(\"Array after adding scalar value:\\n\", result)"
   ]
  },
  {
   "cell_type": "code",
   "execution_count": 12,
   "id": "b45818a1-945b-470c-bd53-717abb237fb7",
   "metadata": {},
   "outputs": [
    {
     "ename": "ValueError",
     "evalue": "operands could not be broadcast together with shapes (1,3) (3,4) ",
     "output_type": "error",
     "traceback": [
      "\u001b[1;31m---------------------------------------------------------------------------\u001b[0m",
      "\u001b[1;31mValueError\u001b[0m                                Traceback (most recent call last)",
      "Cell \u001b[1;32mIn[12], line 13\u001b[0m\n\u001b[0;32m      8\u001b[0m arr2 \u001b[38;5;241m=\u001b[39m np\u001b[38;5;241m.\u001b[39marray([[\u001b[38;5;241m4\u001b[39m, \u001b[38;5;241m5\u001b[39m, \u001b[38;5;241m6\u001b[39m, \u001b[38;5;241m7\u001b[39m],  \u001b[38;5;66;03m# Shape (3, 4)\u001b[39;00m\n\u001b[0;32m      9\u001b[0m                  [\u001b[38;5;241m8\u001b[39m, \u001b[38;5;241m9\u001b[39m, \u001b[38;5;241m10\u001b[39m, \u001b[38;5;241m11\u001b[39m],\n\u001b[0;32m     10\u001b[0m                  [\u001b[38;5;241m12\u001b[39m, \u001b[38;5;241m13\u001b[39m, \u001b[38;5;241m14\u001b[39m, \u001b[38;5;241m15\u001b[39m]])\n\u001b[0;32m     12\u001b[0m \u001b[38;5;66;03m# Multiply each row of arr2 by the corresponding element in arr1 using broadcasting\u001b[39;00m\n\u001b[1;32m---> 13\u001b[0m result \u001b[38;5;241m=\u001b[39m \u001b[43mmultiply_rows_by_elements\u001b[49m\u001b[43m(\u001b[49m\u001b[43marr1\u001b[49m\u001b[43m,\u001b[49m\u001b[43m \u001b[49m\u001b[43marr2\u001b[49m\u001b[43m)\u001b[49m\n\u001b[0;32m     15\u001b[0m \u001b[38;5;28mprint\u001b[39m(\u001b[38;5;124m\"\u001b[39m\u001b[38;5;124marr1:\u001b[39m\u001b[38;5;130;01m\\n\u001b[39;00m\u001b[38;5;124m\"\u001b[39m, arr1)\n\u001b[0;32m     16\u001b[0m \u001b[38;5;28mprint\u001b[39m(\u001b[38;5;124m\"\u001b[39m\u001b[38;5;124marr2:\u001b[39m\u001b[38;5;130;01m\\n\u001b[39;00m\u001b[38;5;124m\"\u001b[39m, arr2)\n",
      "Cell \u001b[1;32mIn[12], line 3\u001b[0m, in \u001b[0;36mmultiply_rows_by_elements\u001b[1;34m(arr1, arr2)\u001b[0m\n\u001b[0;32m      2\u001b[0m \u001b[38;5;28;01mdef\u001b[39;00m \u001b[38;5;21mmultiply_rows_by_elements\u001b[39m(arr1, arr2):\n\u001b[1;32m----> 3\u001b[0m     result \u001b[38;5;241m=\u001b[39m \u001b[43marr1\u001b[49m\u001b[43m \u001b[49m\u001b[38;5;241;43m*\u001b[39;49m\u001b[43m \u001b[49m\u001b[43marr2\u001b[49m\n\u001b[0;32m      4\u001b[0m     \u001b[38;5;28;01mreturn\u001b[39;00m result\n",
      "\u001b[1;31mValueError\u001b[0m: operands could not be broadcast together with shapes (1,3) (3,4) "
     ]
    }
   ],
   "source": [
    "# 37. Consider two arrays arr1 of shape (1, 3) and arr2 of shape (3, 4). Multiply each row of arr2 by the corresponding element in arr1 using NumPy broadcasting.\n",
    "def multiply_rows_by_elements(arr1, arr2):\n",
    "    result = arr1 * arr2\n",
    "    return result\n",
    "\n",
    "# arr1 has shape (1, 3) and arr2 has shape (3, 4)\n",
    "arr1 = np.array([[1, 2, 3]])  # Shape (1, 3)\n",
    "arr2 = np.array([[4, 5, 6, 7],  # Shape (3, 4)\n",
    "                 [8, 9, 10, 11],\n",
    "                 [12, 13, 14, 15]])\n",
    "\n",
    "# Multiply each row of arr2 by the corresponding element in arr1 using broadcasting\n",
    "result = multiply_rows_by_elements(arr1, arr2)\n",
    "\n",
    "print(\"arr1:\\n\", arr1)\n",
    "print(\"arr2:\\n\", arr2)\n",
    "print(\"Result after multiplication:\\n\", result)"
   ]
  },
  {
   "cell_type": "code",
   "execution_count": 31,
   "id": "bb6b8b20-84fe-4e7c-a8de-103f42b99f1d",
   "metadata": {},
   "outputs": [
    {
     "name": "stdout",
     "output_type": "stream",
     "text": [
      "arr1:\n",
      " [[1 2 3 4]]\n",
      "arr2:\n",
      " [[ 5  6  7]\n",
      " [ 8  9 10]\n",
      " [11 12 13]\n",
      " [14 15 16]]\n",
      "Result after addition:\n",
      " [[ 6  7  8]\n",
      " [10 11 12]\n",
      " [14 15 16]\n",
      " [18 19 20]]\n"
     ]
    }
   ],
   "source": [
    "# 38. Given a 1D array arr1 of shape (1, 4) and a 2D array arr2 of shape (4, 3), add arr1 to each row of arr2 using NumPy broadcasting.\n",
    "def add_array_to_rows(arr1, arr2):\n",
    "    # Reshape arr1 to match the dimensions of arr2 for broadcasting\n",
    "    arr1 = arr1.T  # Transpose arr1 to shape (4, 1)\n",
    "    \n",
    "    # Add arr1 to each row of arr2 using broadcasting\n",
    "    result = arr2 + arr1\n",
    "    return result\n",
    "\n",
    "# Example usage:\n",
    "# arr1 has shape (1, 4) and arr2 has shape (4, 3)\n",
    "arr1 = np.array([[1, 2, 3, 4]])  # Shape (1, 4)\n",
    "arr2 = np.array([[5, 6, 7],      # Shape (4, 3)\n",
    "                 [8, 9, 10],\n",
    "                 [11, 12, 13],\n",
    "                 [14, 15, 16]])\n",
    "\n",
    "# Add arr1 to each row of arr2 using broadcasting\n",
    "result = add_array_to_rows(arr1, arr2)\n",
    "\n",
    "print(\"arr1:\\n\", arr1)\n",
    "print(\"arr2:\\n\", arr2)\n",
    "print(\"Result after addition:\\n\", result)"
   ]
  },
  {
   "cell_type": "code",
   "execution_count": 32,
   "id": "9286985a-bfc6-4973-91df-31aa52e27570",
   "metadata": {},
   "outputs": [
    {
     "name": "stdout",
     "output_type": "stream",
     "text": [
      "arr1:\n",
      " [[1]\n",
      " [2]\n",
      " [3]]\n",
      "arr2:\n",
      " [[4 5 6]]\n",
      "Result after addition:\n",
      " [[5 6 7]\n",
      " [6 7 8]\n",
      " [7 8 9]]\n"
     ]
    }
   ],
   "source": [
    "# 39. Consider two arrays arr1 of shape (3, 1) and arr2 of shape (1, 3). Add these arrays using NumPy broadcasting.\n",
    "def add_arrays_using_broadcasting(arr1, arr2):\n",
    "    result = arr1 + arr2\n",
    "    return result\n",
    "\n",
    "# Example usage:\n",
    "# arr1 has shape (3, 1) and arr2 has shape (1, 3)\n",
    "arr1 = np.array([[1], [2], [3]])  \n",
    "arr2 = np.array([[4, 5, 6]])     \n",
    "\n",
    "# Add the arrays using broadcasting\n",
    "result = add_arrays_using_broadcasting(arr1, arr2)\n",
    "\n",
    "print(\"arr1:\\n\", arr1)\n",
    "print(\"arr2:\\n\", arr2)\n",
    "print(\"Result after addition:\\n\", result)"
   ]
  },
  {
   "cell_type": "code",
   "execution_count": 13,
   "id": "67d597b2-02be-46da-9a3f-e652dc49bdbd",
   "metadata": {},
   "outputs": [
    {
     "ename": "ValueError",
     "evalue": "operands could not be broadcast together with shapes (2,3) (1,6) ",
     "output_type": "error",
     "traceback": [
      "\u001b[1;31m---------------------------------------------------------------------------\u001b[0m",
      "\u001b[1;31mValueError\u001b[0m                                Traceback (most recent call last)",
      "Cell \u001b[1;32mIn[13], line 14\u001b[0m\n\u001b[0;32m     11\u001b[0m arr2 \u001b[38;5;241m=\u001b[39m np\u001b[38;5;241m.\u001b[39marray([[\u001b[38;5;241m7\u001b[39m, \u001b[38;5;241m8\u001b[39m]])                 \n\u001b[0;32m     13\u001b[0m \u001b[38;5;66;03m# Perform multiplication using broadcasting after reshaping arr2\u001b[39;00m\n\u001b[1;32m---> 14\u001b[0m result \u001b[38;5;241m=\u001b[39m \u001b[43mmultiply_arrays_using_broadcasting\u001b[49m\u001b[43m(\u001b[49m\u001b[43marr1\u001b[49m\u001b[43m,\u001b[49m\u001b[43m \u001b[49m\u001b[43marr2\u001b[49m\u001b[43m)\u001b[49m\n\u001b[0;32m     16\u001b[0m \u001b[38;5;28mprint\u001b[39m(\u001b[38;5;124m\"\u001b[39m\u001b[38;5;124marr1:\u001b[39m\u001b[38;5;130;01m\\n\u001b[39;00m\u001b[38;5;124m\"\u001b[39m, arr1)\n\u001b[0;32m     17\u001b[0m \u001b[38;5;28mprint\u001b[39m(\u001b[38;5;124m\"\u001b[39m\u001b[38;5;124marr2 reshaped:\u001b[39m\u001b[38;5;130;01m\\n\u001b[39;00m\u001b[38;5;124m\"\u001b[39m, np\u001b[38;5;241m.\u001b[39mtile(arr2, (\u001b[38;5;241m1\u001b[39m, \u001b[38;5;241m3\u001b[39m)))  \u001b[38;5;66;03m# Showing reshaped arr2\u001b[39;00m\n",
      "Cell \u001b[1;32mIn[13], line 6\u001b[0m, in \u001b[0;36mmultiply_arrays_using_broadcasting\u001b[1;34m(arr1, arr2)\u001b[0m\n\u001b[0;32m      3\u001b[0m arr2_reshaped \u001b[38;5;241m=\u001b[39m np\u001b[38;5;241m.\u001b[39mtile(arr2, (\u001b[38;5;241m1\u001b[39m, \u001b[38;5;241m3\u001b[39m))  \u001b[38;5;66;03m# Repeat arr2 along the columns (2, 3)\u001b[39;00m\n\u001b[0;32m      5\u001b[0m \u001b[38;5;66;03m# Perform element-wise multiplication\u001b[39;00m\n\u001b[1;32m----> 6\u001b[0m result \u001b[38;5;241m=\u001b[39m \u001b[43marr1\u001b[49m\u001b[43m \u001b[49m\u001b[38;5;241;43m*\u001b[39;49m\u001b[43m \u001b[49m\u001b[43marr2_reshaped\u001b[49m\n\u001b[0;32m      7\u001b[0m \u001b[38;5;28;01mreturn\u001b[39;00m result\n",
      "\u001b[1;31mValueError\u001b[0m: operands could not be broadcast together with shapes (2,3) (1,6) "
     ]
    }
   ],
   "source": [
    "# 40. Given arrays arr1 of shape (2, 3) and arr2 of shape (2, 2), perform multiplication using NumPy broadcasting. Handle the shape incompatibility.\n",
    "def multiply_arrays_using_broadcasting(arr1, arr2):\n",
    "    arr2_reshaped = np.tile(arr2, (1, 3))  # Repeat arr2 along the columns (2, 3)\n",
    "    \n",
    "    # Perform element-wise multiplication\n",
    "    result = arr1 * arr2_reshaped\n",
    "    return result\n",
    "\n",
    "# Example usage:\n",
    "arr1 = np.array([[1, 2, 3], [4, 5, 6]])  \n",
    "arr2 = np.array([[7, 8]])                 \n",
    "\n",
    "# Perform multiplication using broadcasting after reshaping arr2\n",
    "result = multiply_arrays_using_broadcasting(arr1, arr2)\n",
    "\n",
    "print(\"arr1:\\n\", arr1)\n",
    "print(\"arr2 reshaped:\\n\", np.tile(arr2, (1, 3)))  # Showing reshaped arr2\n",
    "print(\"Result after multiplication:\\n\", result)"
   ]
  },
  {
   "cell_type": "code",
   "execution_count": 14,
   "id": "b728540f-6ea6-4c5e-b4a6-b111350cb4b1",
   "metadata": {},
   "outputs": [
    {
     "name": "stdout",
     "output_type": "stream",
     "text": [
      "Column-wise mean: [2.5 3.5 4.5]\n"
     ]
    }
   ],
   "source": [
    "# 41. Calculate column wise mean for the given array:\n",
    "arr = np.array([[1, 2, 3], [4, 5, 6]])\n",
    "# Calculate column-wise mean\n",
    "column_wise_mean = np.mean(arr, axis=0)\n",
    "\n",
    "print(\"Column-wise mean:\", column_wise_mean)"
   ]
  },
  {
   "cell_type": "code",
   "execution_count": 36,
   "id": "e7e51125-fd1f-442f-80f2-da02e1230939",
   "metadata": {},
   "outputs": [
    {
     "name": "stdout",
     "output_type": "stream",
     "text": [
      "Maximum value in each row: [3 6]\n"
     ]
    }
   ],
   "source": [
    "# 42. Find maximum value in each row of the given array:\n",
    "arr = np.array([[1, 2, 3], [4, 5, 6]])\n",
    "\n",
    "row_max = np.max(arr, axis=1)\n",
    "\n",
    "print(\"Maximum value in each row:\", row_max)"
   ]
  },
  {
   "cell_type": "code",
   "execution_count": 15,
   "id": "3a4b805d-d203-4d72-a90d-d71027f4080c",
   "metadata": {},
   "outputs": [
    {
     "name": "stdout",
     "output_type": "stream",
     "text": [
      "Indices of maximum values in each column: [1 1 1]\n"
     ]
    }
   ],
   "source": [
    "# 43. For the given array, find indices of maximum value in each column\n",
    "\n",
    "arr = np.array([[1, 2, 3], [4, 5, 6]])\n",
    "\n",
    "col_max_indices = np.argmax(arr, axis=0)\n",
    "\n",
    "print(\"Indices of maximum values in each column:\", col_max_indices)"
   ]
  },
  {
   "cell_type": "code",
   "execution_count": 16,
   "id": "8c6b2422-2a24-4659-a5a9-2a738918924a",
   "metadata": {},
   "outputs": [
    {
     "name": "stdout",
     "output_type": "stream",
     "text": [
      "Moving sum along rows:\n",
      " [[ 3.  5.]\n",
      " [ 9. 11.]]\n"
     ]
    }
   ],
   "source": [
    "# 44. For the given array, apply custom function to calculate moving sum along rows\n",
    "def moving_sum(arr, window_size):\n",
    "    return np.array([np.convolve(row, np.ones(window_size), mode='valid') for row in arr])\n",
    "\n",
    "arr = np.array([[1, 2, 3], [4, 5, 6]])\n",
    "\n",
    "# Apply custom moving sum function with a window size of 2\n",
    "result = moving_sum(arr, window_size=2)\n",
    "\n",
    "print(\"Moving sum along rows:\\n\", result)"
   ]
  },
  {
   "cell_type": "code",
   "execution_count": 17,
   "id": "c5b3e51d-3d1b-4a35-b116-2e42e7969d40",
   "metadata": {},
   "outputs": [
    {
     "name": "stdout",
     "output_type": "stream",
     "text": [
      "Are all elements in each column even? [False False False]\n"
     ]
    }
   ],
   "source": [
    "# 45. In the given array, check if all elements in each column are even.\n",
    "# Given array\n",
    "arr = np.array([[2, 4, 6], [3, 5, 7]])\n",
    "\n",
    "# Check if each element is even\n",
    "even_check = (arr % 2 == 0)\n",
    "\n",
    "# Check if all elements in each column are even\n",
    "result = np.all(even_check, axis=0)\n",
    "\n",
    "print(\"Are all elements in each column even?\", result)"
   ]
  },
  {
   "cell_type": "code",
   "execution_count": 18,
   "id": "ca5e17dd-e63f-414a-81ed-a5f8725c80e9",
   "metadata": {},
   "outputs": [
    {
     "name": "stdout",
     "output_type": "stream",
     "text": [
      "Reshaped Array:\n",
      "[[1 2 3]\n",
      " [4 5 6]]\n"
     ]
    }
   ],
   "source": [
    "# 46. Given a NumPy array arr, reshape it into a matrix of dimensions `m` rows and `n` columns. Return the reshaped matrix.\n",
    "original_array = np.array([1, 2, 3, 4, 5, 6])\n",
    "\n",
    "m, n = 2, 3\n",
    "\n",
    "# Reshape the array\n",
    "reshaped_array = original_array.reshape(m, n)\n",
    "\n",
    "print(\"Reshaped Array:\")\n",
    "print(reshaped_array)"
   ]
  },
  {
   "cell_type": "code",
   "execution_count": 19,
   "id": "877f9ad2-5e89-4ca8-a640-dc3b09e7eb33",
   "metadata": {},
   "outputs": [
    {
     "name": "stdout",
     "output_type": "stream",
     "text": [
      "Flattened Array:\n",
      "[1 2 3 4 5 6]\n"
     ]
    }
   ],
   "source": [
    "# 47. Create a function that takes a matrix as input and returns the flattened array.\n",
    "def flatten_matrix(matrix):\n",
    "    return matrix.flatten()\n",
    "\n",
    "# Input matrix\n",
    "input_matrix = np.array([[1, 2, 3], [4, 5, 6]])\n",
    "\n",
    "# Call the function to flatten the matrix\n",
    "flattened_array = flatten_matrix(input_matrix)\n",
    "\n",
    "print(\"Flattened Array:\")\n",
    "print(flattened_array)\n"
   ]
  },
  {
   "cell_type": "code",
   "execution_count": 20,
   "id": "e6d2061a-9aa5-4cae-8ce9-07b10ee1f480",
   "metadata": {},
   "outputs": [
    {
     "name": "stdout",
     "output_type": "stream",
     "text": [
      "Concatenated Array along axis 0:\n",
      "[[1 2]\n",
      " [3 4]\n",
      " [5 6]\n",
      " [7 8]]\n",
      "Concatenated Array along axis 1:\n",
      "[[1 2 5 6]\n",
      " [3 4 7 8]]\n"
     ]
    }
   ],
   "source": [
    "# 48. Write a function that concatenates two given arrays along a specified axis\n",
    "\n",
    "def concatenate_arrays(array1, array2, axis):\n",
    "    # Check if arrays can be concatenated along the specified axis\n",
    "    if axis == 0 and array1.shape[1] == array2.shape[1]:\n",
    "        return np.concatenate((array1, array2), axis=axis)\n",
    "    elif axis == 1 and array1.shape[0] == array2.shape[0]:\n",
    "        return np.concatenate((array1, array2), axis=axis)\n",
    "    else:\n",
    "        print(\"Shape mismatch: Cannot concatenate along the specified axis.\")\n",
    "        return None\n",
    "\n",
    "array1 = np.array([[1, 2], [3, 4]])\n",
    "array2 = np.array([[5, 6], [7, 8]])\n",
    "\n",
    "concatenated_array = concatenate_arrays(array1, array2, axis=0)\n",
    "\n",
    "print(\"Concatenated Array along axis 0:\")\n",
    "print(concatenated_array)\n",
    "\n",
    "concatenated_array_axis1 = concatenate_arrays(array1, array2, axis=1)\n",
    "\n",
    "print(\"Concatenated Array along axis 1:\")\n",
    "print(concatenated_array_axis1)"
   ]
  },
  {
   "cell_type": "code",
   "execution_count": 21,
   "id": "6a3edd1c-8d1d-48f1-878e-08fabe3428e9",
   "metadata": {},
   "outputs": [
    {
     "name": "stdout",
     "output_type": "stream",
     "text": [
      "Array split along axis 0:\n",
      "[[1 2 3]]\n",
      "[[4 5 6]]\n",
      "[[7 8 9]]\n",
      "\n",
      "Array split along axis 1:\n",
      "[[1]\n",
      " [4]\n",
      " [7]]\n",
      "[[2]\n",
      " [5]\n",
      " [8]]\n",
      "[[3]\n",
      " [6]\n",
      " [9]]\n"
     ]
    }
   ],
   "source": [
    "# 49. Create a function that splits an array into multiple sub-arrays along a specified axis.\n",
    "# Function to split an array into multiple sub-arrays along a specified axis\n",
    "def split_array(array, axis, num_splits):\n",
    "    if axis == 0 and array.shape[0] % num_splits == 0:\n",
    "        return np.array_split(array, num_splits, axis=axis)\n",
    "    elif axis == 1 and array.shape[1] % num_splits == 0:\n",
    "        return np.array_split(array, num_splits, axis=axis)\n",
    "    else:\n",
    "        print(\"Shape mismatch: Cannot split along the specified axis.\")\n",
    "        return None\n",
    "\n",
    "original_array = np.array([[1, 2, 3], [4, 5, 6], [7, 8, 9]])\n",
    "\n",
    "# Split the array along axis 0 (vertically) into 3 sub-arrays\n",
    "split_array_axis0 = split_array(original_array, axis=0, num_splits=3)\n",
    "print(\"Array split along axis 0:\")\n",
    "for sub_array in split_array_axis0:\n",
    "    print(sub_array)\n",
    "\n",
    "# Split the array along axis 1 (horizontally) into 3 sub-arrays\n",
    "split_array_axis1 = split_array(original_array, axis=1, num_splits=3)\n",
    "print(\"\\nArray split along axis 1:\")\n",
    "for sub_array in split_array_axis1:\n",
    "    print(sub_array)"
   ]
  },
  {
   "cell_type": "code",
   "execution_count": 22,
   "id": "3ef976fa-faaf-4271-903e-aa4ad0e373b0",
   "metadata": {},
   "outputs": [
    {
     "name": "stdout",
     "output_type": "stream",
     "text": [
      "Modified Array: [ 1 10 11  4  5]\n"
     ]
    }
   ],
   "source": [
    "# 50. Write a function that inserts and then deletes elements from a given array at specified indices.\n",
    "def insert_and_delete_elements(array, indices_to_insert, values_to_insert, indices_to_delete):\n",
    "    # Insert elements at specified indices\n",
    "    for idx, value in zip(indices_to_insert, values_to_insert):\n",
    "        array = np.insert(array, idx, value)\n",
    "    \n",
    "    # Delete elements at specified indices\n",
    "    for idx in sorted(indices_to_delete, reverse=True):  # Deletin\\g from highest index to avoid shifting\n",
    "        array = np.delete(array, idx)\n",
    "    \n",
    "    return array\n",
    "\n",
    "# Given original array and specified innndices\n",
    "original_array = np.array([1, 2, 3, 4, 5])\n",
    "indices_to_insert = [2, 4]  \n",
    "values_to_insert = [10, 11] \n",
    "indices_to_delete = [1, 3] \n",
    "\n",
    "modified_array = insert_and_delete_elements(original_array, indices_to_insert, values_to_insert, indices_to_delete)\n",
    "\n",
    "print(\"Modified Array:\", modified_array)"
   ]
  },
  {
   "cell_type": "code",
   "execution_count": 23,
   "id": "b031a4e5-e086-452f-9558-cf9b0a2056ab",
   "metadata": {},
   "outputs": [
    {
     "name": "stdout",
     "output_type": "stream",
     "text": [
      "Array 1 (random integers):\n",
      "[[ 3 12  1]\n",
      " [18  2 14]\n",
      " [ 5 12 12]]\n",
      "\n",
      "Array 2 (integers from 1 to 10):\n",
      "[[1 2 3]\n",
      " [4 5 6]\n",
      " [7 8 9]]\n",
      "\n",
      "Result of elementwise addition:\n",
      "[[ 4 14  4]\n",
      " [22  7 20]\n",
      " [12 20 21]]\n"
     ]
    }
   ],
   "source": [
    "# 51. Create a NumPy array `arr1` with random integers and another array `arr2` with integers from 1 to 10. Perform element-wise addition between `arr1` and `arr2`.\n",
    "# Function to perform element-wise addition of two arrays\n",
    "def elementwise_addition():\n",
    "    arr1 = np.random.randint(1, 20, size=(3, 3))  # Example shape (3, 3)\n",
    "    print(\"Array 1 (random integers):\")\n",
    "    print(arr1)\n",
    "    \n",
    "    # Createee an array arr2 with integers from 1 to 10\n",
    "    arr2 = np.arange(1, 10).reshape(3, 3)  # Example shape (3, 3)\n",
    "    print(\"\\nArray 2 (integers from 1 to 10):\")\n",
    "    print(arr2)\n",
    "    \n",
    "    # Perform element-wise addition\n",
    "    result = arr1 + arr2\n",
    "    return result\n",
    "\n",
    "result = elementwise_addition()\n",
    "print(\"\\nResult of elementwise addition:\")\n",
    "print(result)\n"
   ]
  },
  {
   "cell_type": "code",
   "execution_count": 48,
   "id": "6fa2471a-a23e-4235-9550-8f6bf2700b30",
   "metadata": {},
   "outputs": [
    {
     "name": "stdout",
     "output_type": "stream",
     "text": [
      "Array 1 (sequential integers from 10 to 1):\n",
      "[10  9  8  7  6  5  4  3  2  1]\n",
      "\n",
      "Array 2 (integers from 1 to 10):\n",
      "[ 1  2  3  4  5  6  7  8  9 10]\n",
      "\n",
      "Result of element-wise subtraction:\n",
      "[ 9  7  5  3  1 -1 -3 -5 -7 -9]\n"
     ]
    }
   ],
   "source": [
    "# 52. Generate a NumPy array `arr1` with sequential integers from 10 to 1 and another array `arr2` with integers from 1 to 10. Subtract `arr2` from `arr1` element-wise.\n",
    "# Function to subtract arr2 from arr1 element-wise\n",
    "def elementwise_subtraction():\n",
    "    # Create arr1 with sequential integers from 10 to 1\n",
    "    arr1 = np.arange(10, 0, -1)  # Sequential integers from 10 to 1\n",
    "    print(\"Array 1 (sequential integers from 10 to 1):\")\n",
    "    print(arr1)\n",
    "    \n",
    "    # Create arr2 with integers from 1 to 10\n",
    "    arr2 = np.arange(1, 11)  # Integers from 1 to 10\n",
    "    print(\"\\nArray 2 (integers from 1 to 10):\")\n",
    "    print(arr2)\n",
    "    \n",
    "    # Perform element-wise subtraction (arr1 - arr2)\n",
    "    result = arr1 - arr2\n",
    "    return result\n",
    "\n",
    "# Call the function and print the result\n",
    "result = elementwise_subtraction()\n",
    "print(\"\\nResult of element-wise subtraction:\")\n",
    "print(result)"
   ]
  },
  {
   "cell_type": "code",
   "execution_count": 24,
   "id": "3aa60d22-b1f7-41bb-a8d9-e1d7afe36bc8",
   "metadata": {},
   "outputs": [
    {
     "name": "stdout",
     "output_type": "stream",
     "text": [
      "Array 1 (random integers):\n",
      "[5 4 7 7 3]\n",
      "\n",
      "Array 2 (integers from 1 to 5):\n",
      "[1 2 3 4 5]\n",
      "\n",
      "Result of element-wise multiplication:\n",
      "[ 5  8 21 28 15]\n"
     ]
    }
   ],
   "source": [
    "# 53. Create a NumPy array `arr1` with random integers and another array `arr2` with integers from 1 to 5. Perform element-wise multiplication between `arr1` and `arr2`.\n",
    "# Function to multiply arr1 and arr2 element-wise\n",
    "def elementwise_multiplication():\n",
    "    arr1 = np.random.randint(1, 10, size=5)  # Random integers between 1 and 10\n",
    "    print(\"Array 1 (random integers):\")\n",
    "    print(arr1)\n",
    "    \n",
    "    # Create arr2 with integers from 1 to 5\n",
    "    arr2 = np.arange(1, 6)  # Integers from 1 to 5\n",
    "    print(\"\\nArray 2 (integers from 1 to 5):\")\n",
    "    print(arr2)\n",
    "    \n",
    "    # Perform elementwise multiplication (arr1 * arr2)\n",
    "    result = arr1 * arr2\n",
    "    return result\n",
    "\n",
    "result = elementwise_multiplication()\n",
    "print(\"\\nResult of element-wise multiplication:\")\n",
    "print(result)"
   ]
  },
  {
   "cell_type": "code",
   "execution_count": 50,
   "id": "fd833d76-8215-47d6-af60-aac73abe3ef4",
   "metadata": {},
   "outputs": [
    {
     "name": "stdout",
     "output_type": "stream",
     "text": [
      "Array 1 (even integers from 2 to 10):\n",
      "[ 2  4  6  8 10]\n",
      "\n",
      "Array 2 (integers from 1 to 5):\n",
      "[1 2 3 4 5]\n",
      "\n",
      "Result of element-wise division:\n",
      "[2. 2. 2. 2. 2.]\n"
     ]
    }
   ],
   "source": [
    "# 54. Generate a NumPy array `arr1` with even integers from 2 to 10 and another array `arr2` with integers from 1 to 5. Perform element-wise division of `arr1` by `arr2`.\n",
    "# Function to divide arr1 by arr2 element-wise\n",
    "def elementwise_division():\n",
    "    # Create arr1 with even integers from 2 to 10\n",
    "    arr1 = np.arange(2, 11, 2)  # Even integers between 2 and 10\n",
    "    print(\"Array 1 (even integers from 2 to 10):\")\n",
    "    print(arr1)\n",
    "    \n",
    "    # Create arr2 with integers from 1 to 5\n",
    "    arr2 = np.arange(1, 6)  # Integers from 1 to 5\n",
    "    print(\"\\nArray 2 (integers from 1 to 5):\")\n",
    "    print(arr2)\n",
    "    \n",
    "    # Perform element-wise division (arr1 / arr2)\n",
    "    result = arr1 / arr2\n",
    "    return result\n",
    "\n",
    "# Call the function and print the result\n",
    "result = elementwise_division()\n",
    "print(\"\\nResult of element-wise division:\")\n",
    "print(result)"
   ]
  },
  {
   "cell_type": "code",
   "execution_count": 25,
   "id": "010e4b3e-0ebc-45e8-add4-a454d95e7d3b",
   "metadata": {},
   "outputs": [
    {
     "name": "stdout",
     "output_type": "stream",
     "text": [
      "Array 1 (even integers from 2 to 10):\n",
      "[ 2  4  6  8 10]\n",
      "\n",
      "Array 2 (integers from 1 to 5):\n",
      "[1 2 3 4 5]\n",
      "\n",
      "Result of element-wise division:\n",
      "[2. 2. 2. 2. 2.]\n"
     ]
    }
   ],
   "source": [
    "# 55. Create a NumPy array `arr1` with integers from 1 to 5 and another array `arr2` with the same numbers reversed. Calculate the exponentiation of `arr1` raised to the power of `arr2` element-wise.\n",
    "# Function to divide arr1 by arr2 element-wise\n",
    "def elementwise_division():\n",
    "    arr1 = np.arange(2, 11, 2) \n",
    "    print(\"Array 1 (even integers from 2 to 10):\")\n",
    "    print(arr1)\n",
    "    \n",
    "    arr2 = np.arange(1, 6)  # Integers from 1 to 5\n",
    "    print(\"\\nArray 2 (integers from 1 to 5):\")\n",
    "    print(arr2)\n",
    "    \n",
    "    result = arr1 / arr2\n",
    "    return result\n",
    "\n",
    "result = elementwise_division()\n",
    "print(\"\\nResult of element-wise division:\")\n",
    "print(result)"
   ]
  },
  {
   "cell_type": "code",
   "execution_count": 52,
   "id": "83722cfd-a26e-44ae-b479-c1dfd70cfd3c",
   "metadata": {},
   "outputs": [
    {
     "name": "stdout",
     "output_type": "stream",
     "text": [
      "Array 1 (integers from 1 to 5):\n",
      "[1 2 3 4 5]\n",
      "\n",
      "Array 2 (integers from 5 to 1):\n",
      "[5 4 3 2 1]\n",
      "\n",
      "Result of element-wise exponentiation:\n",
      "[ 1 16 27 16  5]\n"
     ]
    }
   ],
   "source": [
    "# 56. Write a function that counts the occurrences of a specific substring within a NumPy array of strings.\n",
    "# Function to perform exponentiation of arr1 raised to the power of arr2 element-wise\n",
    "def elementwise_exponentiation():\n",
    "    # Create arr1 with integers from 1 to 5\n",
    "    arr1 = np.array([1, 2, 3, 4, 5])\n",
    "    print(\"Array 1 (integers from 1 to 5):\")\n",
    "    print(arr1)\n",
    "    \n",
    "    # Create arr2 with the same numbers reversed\n",
    "    arr2 = np.array([5, 4, 3, 2, 1])\n",
    "    print(\"\\nArray 2 (integers from 5 to 1):\")\n",
    "    print(arr2)\n",
    "    \n",
    "    # Perform element-wise exponentiation (arr1 ** arr2)\n",
    "    result = arr1 ** arr2\n",
    "    return result\n",
    "\n",
    "result = elementwise_exponentiation()\n",
    "print(\"\\nResult of element-wise exponentiation:\")\n",
    "print(result)"
   ]
  },
  {
   "cell_type": "code",
   "execution_count": 26,
   "id": "d6f7194b-596e-4ad8-9c58-53a36338a32b",
   "metadata": {},
   "outputs": [
    {
     "ename": "AttributeError",
     "evalue": "module 'numpy.char' has no attribute 'extract'",
     "output_type": "error",
     "traceback": [
      "\u001b[1;31m---------------------------------------------------------------------------\u001b[0m",
      "\u001b[1;31mAttributeError\u001b[0m                            Traceback (most recent call last)",
      "Cell \u001b[1;32mIn[26], line 10\u001b[0m\n\u001b[0;32m      6\u001b[0m     \u001b[38;5;28;01mreturn\u001b[39;00m \u001b[38;5;124m'\u001b[39m\u001b[38;5;124m'\u001b[39m\u001b[38;5;241m.\u001b[39mjoin(uppercase_chars[\u001b[38;5;241m~\u001b[39mnp\u001b[38;5;241m.\u001b[39mchar\u001b[38;5;241m.\u001b[39meq(uppercase_chars, \u001b[38;5;124m'\u001b[39m\u001b[38;5;124m'\u001b[39m)])\n\u001b[0;32m      8\u001b[0m arr \u001b[38;5;241m=\u001b[39m np\u001b[38;5;241m.\u001b[39marray([\u001b[38;5;124m'\u001b[39m\u001b[38;5;124mHello\u001b[39m\u001b[38;5;124m'\u001b[39m, \u001b[38;5;124m'\u001b[39m\u001b[38;5;124mWorld\u001b[39m\u001b[38;5;124m'\u001b[39m, \u001b[38;5;124m'\u001b[39m\u001b[38;5;124mOpenAI\u001b[39m\u001b[38;5;124m'\u001b[39m, \u001b[38;5;124m'\u001b[39m\u001b[38;5;124mGPT\u001b[39m\u001b[38;5;124m'\u001b[39m])\n\u001b[1;32m---> 10\u001b[0m result \u001b[38;5;241m=\u001b[39m \u001b[43mextract_uppercase\u001b[49m\u001b[43m(\u001b[49m\u001b[43marr\u001b[49m\u001b[43m)\u001b[49m\n\u001b[0;32m     11\u001b[0m \u001b[38;5;28mprint\u001b[39m(\u001b[38;5;124mf\u001b[39m\u001b[38;5;124m\"\u001b[39m\u001b[38;5;124mExtracted uppercase characters: \u001b[39m\u001b[38;5;132;01m{\u001b[39;00mresult\u001b[38;5;132;01m}\u001b[39;00m\u001b[38;5;124m\"\u001b[39m)\n",
      "Cell \u001b[1;32mIn[26], line 4\u001b[0m, in \u001b[0;36mextract_uppercase\u001b[1;34m(arr)\u001b[0m\n\u001b[0;32m      3\u001b[0m \u001b[38;5;28;01mdef\u001b[39;00m \u001b[38;5;21mextract_uppercase\u001b[39m(arr):\n\u001b[1;32m----> 4\u001b[0m     uppercase_chars \u001b[38;5;241m=\u001b[39m \u001b[43mnp\u001b[49m\u001b[38;5;241;43m.\u001b[39;49m\u001b[43mchar\u001b[49m\u001b[38;5;241;43m.\u001b[39;49m\u001b[43mextract\u001b[49m(arr, \u001b[38;5;124mr\u001b[39m\u001b[38;5;124m'\u001b[39m\u001b[38;5;124m[A-Z]\u001b[39m\u001b[38;5;124m'\u001b[39m) \n\u001b[0;32m      5\u001b[0m     \u001b[38;5;66;03m# Flatten the result and remove empty entries\u001b[39;00m\n\u001b[0;32m      6\u001b[0m     \u001b[38;5;28;01mreturn\u001b[39;00m \u001b[38;5;124m'\u001b[39m\u001b[38;5;124m'\u001b[39m\u001b[38;5;241m.\u001b[39mjoin(uppercase_chars[\u001b[38;5;241m~\u001b[39mnp\u001b[38;5;241m.\u001b[39mchar\u001b[38;5;241m.\u001b[39meq(uppercase_chars, \u001b[38;5;124m'\u001b[39m\u001b[38;5;124m'\u001b[39m)])\n",
      "\u001b[1;31mAttributeError\u001b[0m: module 'numpy.char' has no attribute 'extract'"
     ]
    }
   ],
   "source": [
    "# 57. Write a function that extracts uppercase characters from a NumPy array of strings.\n",
    "\n",
    "def extract_uppercase(arr):\n",
    "    uppercase_chars = np.char.extract(arr, r'[A-Z]') \n",
    "    # Flatten the result and remove empty entries\n",
    "    return ''.join(uppercase_chars[~np.char.eq(uppercase_chars, '')])\n",
    "\n",
    "arr = np.array(['Hello', 'World', 'OpenAI', 'GPT'])\n",
    "\n",
    "result = extract_uppercase(arr)\n",
    "print(f\"Extracted uppercase characters: {result}\")"
   ]
  },
  {
   "cell_type": "code",
   "execution_count": 27,
   "id": "d851d1d9-e3f0-4c16-88f0-3337dcaab46e",
   "metadata": {},
   "outputs": [
    {
     "name": "stdout",
     "output_type": "stream",
     "text": [
      "Replaced array: ['fruit' 'banana' 'grape' 'pinefruit']\n"
     ]
    }
   ],
   "source": [
    "# 58. Write a function that replaces occurrences of a substring in a NumPy array of strings with a new string.\n",
    "\n",
    "def replace_substring(arr, old_substring, new_substring):\n",
    "    return np.char.replace(arr, old_substring, new_substring)\n",
    "\n",
    "arr = np.array(['apple', 'banana', 'grape', 'pineapple'])\n",
    "\n",
    "# Replace 'apple' with 'fruit' in the array\n",
    "result = replace_substring(arr, 'apple', 'fruit')\n",
    "print(f\"Replaced array: {result}\")"
   ]
  },
  {
   "cell_type": "code",
   "execution_count": 28,
   "id": "3c81663e-6dc8-4637-bc87-353425944ad7",
   "metadata": {},
   "outputs": [
    {
     "name": "stdout",
     "output_type": "stream",
     "text": [
      "Concatenated array: ['HelloOpen' 'WorldAI']\n"
     ]
    }
   ],
   "source": [
    "# 59. Write a function that concatenates strings in a NumPy array element-wise.\n",
    "# Function to concatenate strings in two NumPy arrays element-wise\n",
    "def concatenate_strings(arr1, arr2):\n",
    "    return np.char.add(arr1, arr2)\n",
    "\n",
    "arr1 = np.array(['Hello', 'World'])\n",
    "arr2 = np.array(['Open', 'AI'])\n",
    "\n",
    "# Concatenate the strings from both arrays\n",
    "result = concatenate_strings(arr1, arr2)\n",
    "print(f\"Concatenated array: {result}\")"
   ]
  },
  {
   "cell_type": "code",
   "execution_count": 29,
   "id": "2ef8113b-c6a6-4710-bb2a-3c577abac4aa",
   "metadata": {},
   "outputs": [
    {
     "name": "stdout",
     "output_type": "stream",
     "text": [
      "The length of the longest string is: 9\n"
     ]
    }
   ],
   "source": [
    "# 60. Write a function that finds the length of the longest string in a NumPy array.\n",
    "\n",
    "# Function to find the length of the longest string in a NumPy array\n",
    "def longest_string_length(arr):\n",
    "    string_lengths = np.vectorize(len)(arr)\n",
    "    return np.max(string_lengths)\n",
    "\n",
    "arr = np.array(['apple', 'banana', 'grape', 'pineapple'])\n",
    "\n",
    "result = longest_string_length(arr)\n",
    "print(f\"The length of the longest string is: {result}\")"
   ]
  },
  {
   "cell_type": "code",
   "execution_count": 30,
   "id": "14a451c5-9de4-4049-8ef8-b18a6b0d31ec",
   "metadata": {},
   "outputs": [
    {
     "name": "stdout",
     "output_type": "stream",
     "text": [
      "Mean: 442.84\n",
      "Median: 431.0\n",
      "Variance: 83517.1544\n",
      "Standard Deviation: 288.99334663621585\n"
     ]
    }
   ],
   "source": [
    "# 61. Create a dataset of 100 random integers between 1 and 1000. Compute the mean, median, variance, and standard deviation of the dataset using NumPy's functions.\n",
    "# Create a dataset of 100 random integers between 1 and 1000\n",
    "dataset = np.random.randint(1, 1001, size=100)\n",
    "\n",
    "# Compute the mean, median, variance, and standard deviation\n",
    "mean = np.mean(dataset)\n",
    "median = np.median(dataset)\n",
    "variance = np.var(dataset)\n",
    "std_deviation = np.std(dataset)\n",
    "\n",
    "print(f\"Mean: {mean}\")\n",
    "print(f\"Median: {median}\")\n",
    "print(f\"Variance: {variance}\")\n",
    "print(f\"Standard Deviation: {std_deviation}\")"
   ]
  },
  {
   "cell_type": "code",
   "execution_count": 31,
   "id": "0232ae73-e329-4e6f-9a76-3dc913547a1a",
   "metadata": {},
   "outputs": [
    {
     "name": "stdout",
     "output_type": "stream",
     "text": [
      "25th Percentile: 15.25\n",
      "75th Percentile: 68.0\n"
     ]
    }
   ],
   "source": [
    "# 62. Generate an array of 50 random numbers between 1 and 100. Find the 25th and 75th percentiles of the dataset.\n",
    "\n",
    "import numpy as np\n",
    "\n",
    "dataset = np.random.randint(1, 101, size=50)\n",
    "\n",
    "# Find the 25th and 75th percentiles\n",
    "percentile_25 = np.percentile(dataset, 25)\n",
    "percentile_75 = np.percentile(dataset, 75)\n",
    "\n",
    "print(f\"25th Percentile: {percentile_25}\")\n",
    "print(f\"75th Percentile: {percentile_75}\")"
   ]
  },
  {
   "cell_type": "code",
   "execution_count": 62,
   "id": "49afc7e7-2ee1-4fdb-9fa0-ea90afc68a21",
   "metadata": {},
   "outputs": [
    {
     "name": "stdout",
     "output_type": "stream",
     "text": [
      "Correlation Coefficient Matrix:\n",
      "[[ 1. -1.]\n",
      " [-1.  1.]]\n",
      "Correlation Coefficient between arr1 and arr2: -0.9999999999999999\n"
     ]
    }
   ],
   "source": [
    "# 63. Create two arrays representing two sets of variables. Compute the correlation coefficient between these arrays using NumPy's corrcoef function.\n",
    "\n",
    "# Define two arrays representing two sets of variables\n",
    "arr1 = np.array([1, 2, 3, 4, 5])\n",
    "arr2 = np.array([5, 4, 3, 2, 1])\n",
    "\n",
    "# Compute the correlation coefficient between arr1 and arr2\n",
    "correlation_matrix = np.corrcoef(arr1, arr2)\n",
    "\n",
    "# Print the correlation matrix\n",
    "print(f\"Correlation Coefficient Matrix:\\n{correlation_matrix}\")\n",
    "\n",
    "# Extract the correlation coefficient between arr1 and arr2\n",
    "correlation = correlation_matrix[0, 1]\n",
    "print(f\"Correlation Coefficient between arr1 and arr2: {correlation}\")"
   ]
  },
  {
   "cell_type": "code",
   "execution_count": 32,
   "id": "845ede38-129f-4661-9393-ba135ab081d6",
   "metadata": {},
   "outputs": [
    {
     "name": "stdout",
     "output_type": "stream",
     "text": [
      "Result of Matrix Multiplication:\n",
      "[[19 22]\n",
      " [43 50]]\n"
     ]
    }
   ],
   "source": [
    "# 64. Create two matrices and perform matrix multiplication using NumPy's `dot` function.\n",
    "matrix1 = np.array([[1, 2], [3, 4]])\n",
    "matrix2 = np.array([[5, 6], [7, 8]])\n",
    "\n",
    "# Perform matrix multiplication using the dot function\n",
    "result = np.dot(matrix1, matrix2)\n",
    "\n",
    "print(f\"Result of Matrix Multiplication:\\n{result}\")"
   ]
  },
  {
   "cell_type": "code",
   "execution_count": 33,
   "id": "f53fa2cb-333b-40f7-bf1f-6748841cb30e",
   "metadata": {},
   "outputs": [
    {
     "name": "stdout",
     "output_type": "stream",
     "text": [
      "10th Percentile: 162.0\n",
      "50th Percentile (Median): 435.5\n",
      "90th Percentile: 880.6\n",
      "First Quartile (25th Percentile): 261.25\n",
      "Third Quartile (75th Percentile): 738.75\n"
     ]
    }
   ],
   "source": [
    "# 65. Create an array of 50 integers between 10 and 1000. Calculate the 10th, 50th (median), and 90th percentiles along with the first and third quartiles\n",
    "# Create an array of 50 random integers between 10 and 1000\n",
    "arr = np.random.randint(10, 1001, size=50)\n",
    "\n",
    "# Calculate the 10th, 50th (median), and 90th percentiles\n",
    "percentile_10 = np.percentile(arr, 10)\n",
    "median = np.percentile(arr, 50)\n",
    "percentile_90 = np.percentile(arr, 90)\n",
    "\n",
    "# Calculate the first and third quartiles\n",
    "first_quartile = np.percentile(arr, 25)\n",
    "third_quartile = np.percentile(arr, 75)\n",
    "\n",
    "print(f\"10th Percentile: {percentile_10}\")\n",
    "print(f\"50th Percentile (Median): {median}\")\n",
    "print(f\"90th Percentile: {percentile_90}\")\n",
    "print(f\"First Quartile (25th Percentile): {first_quartile}\")\n",
    "print(f\"Third Quartile (75th Percentile): {third_quartile}\")"
   ]
  },
  {
   "cell_type": "code",
   "execution_count": 35,
   "id": "b2e772d4-a26b-4ddc-8804-6891703ccf9a",
   "metadata": {},
   "outputs": [
    {
     "name": "stdout",
     "output_type": "stream",
     "text": [
      "The index of element 40 is 3.\n"
     ]
    }
   ],
   "source": [
    "# 66. Create a NumPy array of integers and find the index of a specific element.\n",
    "# Create a NumPy array of integers\n",
    "import numpy as np\n",
    "arr = np.array([10, 20, 30, 40, 50, 60, 70])\n",
    "\n",
    "# Specify the element whose index you want to find\n",
    "element = 40\n",
    "\n",
    "# Find the index of the element\n",
    "index = np.where(arr == element)\n",
    "\n",
    "# Check if the element is found\n",
    "if index[0].size > 0:\n",
    "    print(f\"The index of element {element} is {index[0][0]}.\")\n",
    "else:\n",
    "    print(f\"The elment {element} is not found in the array.\")"
   ]
  },
  {
   "cell_type": "code",
   "execution_count": 38,
   "id": "39258cad-d674-4f99-9243-5ce36ebd5937",
   "metadata": {},
   "outputs": [
    {
     "name": "stdout",
     "output_type": "stream",
     "text": [
      "Original array: [35 28 71 40 42  3 71  5 63 26]\n",
      "Sorted array: [ 3  5 26 28 35 40 42 63 71 71]\n"
     ]
    }
   ],
   "source": [
    "# 67. Generate a random NumPy array and sort it in ascending order.\n",
    "\n",
    "# Generate a random NumPy array with 10 integers between 1 and 100\n",
    "random_array = np.random.randint(1, 101, size=10)\n",
    "\n",
    "# Sort the array in ascending order\n",
    "sorted_array = np.sort(random_array)\n",
    "\n",
    "print(\"Original array:\", random_array) \n",
    "print(\"Sorted array:\", sorted_array)  "
   ]
  },
  {
   "cell_type": "code",
   "execution_count": 37,
   "id": "0625f3a4-8365-4283-b1d4-fc603492989b",
   "metadata": {},
   "outputs": [
    {
     "name": "stdout",
     "output_type": "stream",
     "text": [
      "Original array: [12 25  6 42  8 30]\n",
      "Filtered elements (greater than 20): [25 42 30]\n"
     ]
    }
   ],
   "source": [
    "# 68. Filter elements >20  in the given NumPy array.\n",
    "arr = np.array([12, 25, 6, 42, 8, 30])\n",
    "\n",
    "# Filter elements greater than 20\n",
    "filtered_elements = arr[arr > 20]\n",
    "\n",
    "print(\"Original array:\", arr)  # Array before filtering\n",
    "print(\"Filtered elements (greater than 20):\", filtered_elements)  # Elements >20"
   ]
  },
  {
   "cell_type": "code",
   "execution_count": 39,
   "id": "55c1cf04-f30c-4e92-b113-0aa92ed92720",
   "metadata": {},
   "outputs": [
    {
     "name": "stdout",
     "output_type": "stream",
     "text": [
      "Original array: [ 1  5  8 12 15]\n",
      "Elements divisible by 3: [12 15]\n"
     ]
    }
   ],
   "source": [
    "# 69. Filter elements which are divisible by 3 from a given NumPy array\n",
    "# Given NumPy array\n",
    "arr = np.array([1, 5, 8, 12, 15])\n",
    "\n",
    "# Filter elements divisible by 3\n",
    "divisible_by_3 = arr[arr % 3 == 0]\n",
    "\n",
    "print(\"Original array:\", arr)  \n",
    "print(\"Elements divisible by 3:\", divisible_by_3)  "
   ]
  },
  {
   "cell_type": "code",
   "execution_count": 40,
   "id": "66bf8c2d-5f65-49c4-ad86-7c454dc9259b",
   "metadata": {},
   "outputs": [
    {
     "name": "stdout",
     "output_type": "stream",
     "text": [
      "Original array: [10 20 30 40 50]\n",
      "Elements between 20 and 40 (inclusive): [20 30 40]\n"
     ]
    }
   ],
   "source": [
    "# 70. Filter elements which are ≥ 20 and ≤ 40 from a given NumPy array.\n",
    "# Given NumPy array\n",
    "arr = np.array([10, 20, 30, 40, 50])\n",
    "\n",
    "# Filter elements where 20 ≤ element ≤ 40\n",
    "filtered_elements = arr[(arr >= 20) & (arr <= 40)]\n",
    "\n",
    "print(\"Original array:\", arr)  # Original array\n",
    "print(\"Elements between 20 and 40 (inclusive):\", filtered_elements)  \n",
    "\n"
   ]
  },
  {
   "cell_type": "code",
   "execution_count": 10,
   "id": "87823754-3b90-46d7-946a-c97de0939e9b",
   "metadata": {},
   "outputs": [
    {
     "name": "stdout",
     "output_type": "stream",
     "text": [
      "Byte order of the array: =\n"
     ]
    }
   ],
   "source": [
    "# 71. For the given NumPy array, check its byte order using the `dtype` attribute byteorder.\n",
    "\n",
    "\n",
    "arr = np.array([1, 2, 3])\n",
    "\n",
    "# Check the byte order\n",
    "byte_order = arr.dtype.byteorder\n",
    "\n",
    "# Print the byte order\n",
    "print(\"Byte order of the array:\", byte_order)\n"
   ]
  },
  {
   "cell_type": "code",
   "execution_count": 41,
   "id": "b6e35b66-af03-4de2-b0ae-e72003b12d31",
   "metadata": {},
   "outputs": [
    {
     "name": "stdout",
     "output_type": "stream",
     "text": [
      "Array after byte swapping: [16777216 33554432 50331648]\n"
     ]
    }
   ],
   "source": [
    "# 72. For the given NumPy array, perform byte swapping in place using `byteswap()`.\n",
    "# Given NumPy array\n",
    "arr = np.array([1, 2, 3], dtype=np.int32)\n",
    "\n",
    "# Perform byte swapping in place\n",
    "arr.byteswap(inplace=True)\n",
    "\n",
    "print(\"Array after byte swapping:\", arr)"
   ]
  },
  {
   "cell_type": "code",
   "execution_count": 42,
   "id": "83e6ddf5-3a60-4655-b9fd-72777a4fc4ae",
   "metadata": {},
   "outputs": [
    {
     "ename": "AttributeError",
     "evalue": "`newbyteorder` was removed from the ndarray class in NumPy 2.0. Use `arr.view(arr.dtype.newbyteorder(order))` instead.",
     "output_type": "error",
     "traceback": [
      "\u001b[1;31m---------------------------------------------------------------------------\u001b[0m",
      "\u001b[1;31mAttributeError\u001b[0m                            Traceback (most recent call last)",
      "Cell \u001b[1;32mIn[42], line 5\u001b[0m\n\u001b[0;32m      2\u001b[0m arr \u001b[38;5;241m=\u001b[39m np\u001b[38;5;241m.\u001b[39marray([\u001b[38;5;241m1\u001b[39m, \u001b[38;5;241m2\u001b[39m, \u001b[38;5;241m3\u001b[39m], dtype\u001b[38;5;241m=\u001b[39mnp\u001b[38;5;241m.\u001b[39mint32)\n\u001b[0;32m      4\u001b[0m \u001b[38;5;66;03m# Create a new array with swapped byte order\u001b[39;00m\n\u001b[1;32m----> 5\u001b[0m swapped_arr \u001b[38;5;241m=\u001b[39m \u001b[43marr\u001b[49m\u001b[38;5;241;43m.\u001b[39;49m\u001b[43mnewbyteorder\u001b[49m()\n\u001b[0;32m      7\u001b[0m \u001b[38;5;66;03m# Print the original and the swapped arrays\u001b[39;00m\n\u001b[0;32m      8\u001b[0m \u001b[38;5;28mprint\u001b[39m(\u001b[38;5;124m\"\u001b[39m\u001b[38;5;124mOriginal array:\u001b[39m\u001b[38;5;124m\"\u001b[39m, arr)\n",
      "\u001b[1;31mAttributeError\u001b[0m: `newbyteorder` was removed from the ndarray class in NumPy 2.0. Use `arr.view(arr.dtype.newbyteorder(order))` instead."
     ]
    }
   ],
   "source": [
    "# 73. For the given NumPy array, swap its byte order without modifying the original array using newbyteorder()\n",
    "arr = np.array([1, 2, 3], dtype=np.int32)\n",
    "\n",
    "# Create a new array with swapped byte order\n",
    "swapped_arr = arr.newbyteorder()\n",
    "\n",
    "# Print the original and the swapped arrays\n",
    "print(\"Original array:\", arr)\n",
    "print(\"Swapped byte order array:\", swapped_arr)"
   ]
  },
  {
   "cell_type": "code",
   "execution_count": 45,
   "id": "0ef07de7-7503-4c94-8327-4eff983d525d",
   "metadata": {},
   "outputs": [
    {
     "ename": "AttributeError",
     "evalue": "'numpy.ndarray' object has no attribute 'newbyotder'",
     "output_type": "error",
     "traceback": [
      "\u001b[1;31m---------------------------------------------------------------------------\u001b[0m",
      "\u001b[1;31mAttributeError\u001b[0m                            Traceback (most recent call last)",
      "Cell \u001b[1;32mIn[45], line 9\u001b[0m\n\u001b[0;32m      7\u001b[0m \u001b[38;5;66;03m# Swap byte order conditionally based on system endianness\u001b[39;00m\n\u001b[0;32m      8\u001b[0m \u001b[38;5;28;01mif\u001b[39;00m arr\u001b[38;5;241m.\u001b[39mdtype\u001b[38;5;241m.\u001b[39mbyteorder \u001b[38;5;241m==\u001b[39m \u001b[38;5;124m'\u001b[39m\u001b[38;5;124m=\u001b[39m\u001b[38;5;124m'\u001b[39m:  \u001b[38;5;66;03m# check for native byteorder\u001b[39;00m\n\u001b[1;32m----> 9\u001b[0m     swapped_arr \u001b[38;5;241m=\u001b[39m \u001b[43marr\u001b[49m\u001b[38;5;241;43m.\u001b[39;49m\u001b[43mnewbyotder\u001b[49m()  \u001b[38;5;66;03m# incorrect method name\u001b[39;00m\n\u001b[0;32m     10\u001b[0m \u001b[38;5;28;01melse\u001b[39;00m:\n\u001b[0;32m     11\u001b[0m     swapped_arr \u001b[38;5;241m=\u001b[39m arr\u001b[38;5;241m.\u001b[39mnewbyteorder(\u001b[38;5;124m'\u001b[39m\u001b[38;5;124mS\u001b[39m\u001b[38;5;124m'\u001b[39m)  \u001b[38;5;66;03m# swapping the byte order\u001b[39;00m\n",
      "\u001b[1;31mAttributeError\u001b[0m: 'numpy.ndarray' object has no attribute 'newbyotder'"
     ]
    }
   ],
   "source": [
    "# 74. For the given NumPy array and swap its byte order conditionally based on system endianness using `newbyteorder()`.\n",
    "arr = np.array([1, 2, 3], dtype=np.int23)\n",
    "\n",
    "# Swap byte order conditionally based on system endianness\n",
    "if arr.dtype.byteorder == '=':  # check for native byteorder\n",
    "    swapped_arr = arr.newbyotder()  # incorrect method name\n",
    "else:\n",
    "    swapped_arr = arr.newbyteorder('S')  # swapping the byte order\n",
    "\n",
    "print(\"Original array:\", arr)\n",
    "print(\"Swapped array:\", swapped_arr)"
   ]
  },
  {
   "cell_type": "code",
   "execution_count": 47,
   "id": "58bee398-12e3-478b-88fd-f907df01b22b",
   "metadata": {},
   "outputs": [
    {
     "ename": "AttributeError",
     "evalue": "`newbyteorder` was removed from the ndarray class in NumPy 2.0. Use `arr.view(arr.dtype.newbyteorder(order))` instead.",
     "output_type": "error",
     "traceback": [
      "\u001b[1;31m---------------------------------------------------------------------------\u001b[0m",
      "\u001b[1;31mAttributeError\u001b[0m                            Traceback (most recent call last)",
      "Cell \u001b[1;32mIn[47], line 14\u001b[0m\n\u001b[0;32m     11\u001b[0m \u001b[38;5;66;03m# Swap byte order conditionally based on the system's endianness\u001b[39;00m\n\u001b[0;32m     12\u001b[0m \u001b[38;5;28;01mif\u001b[39;00m system_endianness \u001b[38;5;241m==\u001b[39m \u001b[38;5;124m'\u001b[39m\u001b[38;5;124mlittle\u001b[39m\u001b[38;5;124m'\u001b[39m:\n\u001b[0;32m     13\u001b[0m     \u001b[38;5;66;03m# If system is little-endian, swap the byte order\u001b[39;00m\n\u001b[1;32m---> 14\u001b[0m     swapped_arr \u001b[38;5;241m=\u001b[39m \u001b[43marr\u001b[49m\u001b[38;5;241;43m.\u001b[39;49m\u001b[43mnewbyteorder\u001b[49m(\u001b[38;5;124m'\u001b[39m\u001b[38;5;124m>\u001b[39m\u001b[38;5;124m'\u001b[39m)\n\u001b[0;32m     15\u001b[0m \u001b[38;5;28;01melse\u001b[39;00m:\n\u001b[0;32m     16\u001b[0m     \u001b[38;5;66;03m# If system is big-endian, no need to swap\u001b[39;00m\n\u001b[0;32m     17\u001b[0m     swapped_arr \u001b[38;5;241m=\u001b[39m arr\n",
      "\u001b[1;31mAttributeError\u001b[0m: `newbyteorder` was removed from the ndarray class in NumPy 2.0. Use `arr.view(arr.dtype.newbyteorder(order))` instead."
     ]
    }
   ],
   "source": [
    "# 75. For the given NumPy array, check if byte swapping is necessary for the current system using `dtype` attribute `byteorder`.\n",
    "# arr = np.array([1, 2, 3], dtype=np.int32)\n",
    "import sys\n",
    "\n",
    "# Given NumPy array\n",
    "arr = np.array([1, 2, 3], dtype=np.int32)\n",
    "\n",
    "# Check system endianness\n",
    "system_endianness = sys.byteorder  # 'little' or 'big'\n",
    "\n",
    "# Swap byte order conditionally based on the system's endianness\n",
    "if system_endianness == 'little':\n",
    "    # If system is little-endian, swap the byte order\n",
    "    swapped_arr = arr.newbyteorder('>')\n",
    "else:\n",
    "    # If system is big-endian, no need to swap\n",
    "    swapped_arr = arr\n",
    "\n",
    "# Print the original and swapped arrays\n",
    "print(\"Original array:\", arr)\n",
    "print(\"Conditionally swapped byte order array:\", swapped_arr)"
   ]
  },
  {
   "cell_type": "code",
   "execution_count": 48,
   "id": "136ed0d9-6199-4cb8-8515-76616fe01a8b",
   "metadata": {},
   "outputs": [
    {
     "name": "stdout",
     "output_type": "stream",
     "text": [
      "arr1: [ 1  2  3  4  5  6  7  8  9 10]\n",
      "copy_arr: [100   2   3   4   5   6   7   8   9  10]\n"
     ]
    }
   ],
   "source": [
    "# 76. Create a NumPy array `arr1` with values from 1 to 10. Create a copy of `arr1` named `copy_arr` and modify an element in `copy_arr`. Check if modifying `copy_arr` affects `arr1`.\n",
    "# Create a NumPy array arr1 with values from 1 to 10\n",
    "arr1 = np.arange(1, 11)\n",
    "\n",
    "# Create a copy of arr1 named copy_arr\n",
    "copy_arr = arr1.copy()\n",
    "\n",
    "# Modify an element in copy_arr\n",
    "copy_arr[0] = 100\n",
    "\n",
    "# Check if modifying copy_arr affects arr1\n",
    "print(\"arr1:\", arr1)\n",
    "print(\"copy_arr:\", copy_arr)"
   ]
  },
  {
   "cell_type": "code",
   "execution_count": 49,
   "id": "5fe6a6a3-31b7-4f00-b7d7-163bad8f6e56",
   "metadata": {},
   "outputs": [
    {
     "name": "stdout",
     "output_type": "stream",
     "text": [
      "Original matrix:\n",
      "[[100   1   9]\n",
      " [  5   9   9]\n",
      " [  9   5   7]]\n",
      "\n",
      "Modified view_slice:\n",
      "[[100   1]\n",
      " [  5   9]]\n"
     ]
    }
   ],
   "source": [
    "# 77. Create a 2D NumPy array `matrix` of shape (3, 3) with random integers. Extract a slice `view_slice` from the matrix. \n",
    "# Modify an element in `view_slice` and observe if it changes the original `matrix`.\n",
    "matrix = np.random.randint(1, 10, size=(3, 3))\n",
    "\n",
    "# Extract a slice view from the matrix\n",
    "view_slice = matrix[0:2, 0:2]\n",
    "\n",
    "view_slice[0, 0] = 100\n",
    "\n",
    "# Observe if modifying view_slice changes the original matrix\n",
    "print(\"Original matrix:\")\n",
    "print(matrix)\n",
    "print(\"\\nModified view_slice:\")\n",
    "print(view_slice)"
   ]
  },
  {
   "cell_type": "code",
   "execution_count": 50,
   "id": "23624775-2534-4d91-bc2c-a819d21a0f48",
   "metadata": {},
   "outputs": [
    {
     "name": "stdout",
     "output_type": "stream",
     "text": [
      "Original array_a:\n",
      "[[ 1  2  3]\n",
      " [ 9 10  6]\n",
      " [12 13  9]\n",
      " [10 11 12]]\n",
      "\n",
      "Modified view_b:\n",
      "[[ 9 10]\n",
      " [12 13]]\n"
     ]
    }
   ],
   "source": [
    "# 78. Create a NumPy array `array_a` of shape (4, 3) with sequential integers from 1 to 12. Extract a slice `view_b` from `array_a` and broadcast the addition of 5 to view_b. Check if it alters the original `array_a`\n",
    "# Create a NumPy array array_a of shape (4, 3) with sequential integers from 1 to 12\n",
    "array_a = np.arange(1, 13).reshape(4, 3)\n",
    "\n",
    "view_b = array_a[1:3, 0:2]\n",
    "\n",
    "# Broadcast the addition of 5 to view_b\n",
    "view_b += 5\n",
    "\n",
    "# Check if modifying view_b alters the original array_a\n",
    "print(\"Original array_a:\")\n",
    "print(array_a)\n",
    "print(\"\\nModified view_b:\")\n",
    "print(view_b)"
   ]
  },
  {
   "cell_type": "code",
   "execution_count": 52,
   "id": "846aa609-2bfa-4e3e-9e5b-058b75618a8e",
   "metadata": {},
   "outputs": [
    {
     "name": "stdout",
     "output_type": "stream",
     "text": [
      "Original orig_array:\n",
      "[[100   2   3   4]\n",
      " [  5   6   7   8]]\n",
      "\n",
      "Modified reshaped_view:\n",
      "[[100   2]\n",
      " [  3   4]\n",
      " [  5   6]\n",
      " [  7   8]]\n"
     ]
    }
   ],
   "source": [
    "# 79. Create a NumPy array `orig_array` of shape (2, 4) with values from 1 to 8. Create a reshaped view \n",
    "# `reshaped_view` of shape (4, 2) from orig_array. Modify an element in `reshaped_view` and check if it \n",
    "# reflects changes in the original `orig_array`.\n",
    "\n",
    "\n",
    "orig_array = np.arange(1, 9).reshape(2, 4)\n",
    "\n",
    "# Create a reshaped view reshaped_view of shape (4, 2) from orig_array\n",
    "reshaped_view = orig_array.reshape(4, 2)\n",
    "\n",
    "# Modify an element in reshaped_view\n",
    "reshaped_view[0, 0] = 100\n",
    "\n",
    "# Check if modifying reshaped_view affects orig_array\n",
    "print(\"Original orig_array:\")\n",
    "print(orig_array)\n",
    "\n",
    "print(\"\\nModified reshaped_view:\")\n",
    "print(reshaped_view)\n"
   ]
  },
  {
   "cell_type": "code",
   "execution_count": 30,
   "id": "db782c0b-257c-410c-a90d-be95a0be1522",
   "metadata": {},
   "outputs": [
    {
     "name": "stdout",
     "output_type": "stream",
     "text": [
      "Original data:\n",
      "[[ 5  3  9  6]\n",
      " [ 1  5 10  5]\n",
      " [10  7  6  5]]\n",
      "\n",
      "Modified data_copy:\n",
      "[999   6  10  10   7   6]\n"
     ]
    }
   ],
   "source": [
    "# 80. Create a NumPy array `data` of shape (3, 4) with random integers. Extract a copy `data_copy` of lements greater than 5. Modify an element in `data_copy` and verify if it affects the original `data`.\n",
    "# Create a NumPy array 'data' of shape (3, 4) with random integers between 1 and 10\n",
    "data = np.random.randint(1, 11, size=(3, 4))\n",
    "\n",
    "# Extract a copy of elements greater than 5 from 'data'\n",
    "data_copy = data[data > 5].copy()\n",
    "\n",
    "# Modify an element in 'data_copy'\n",
    "data_copy[0] = 999\n",
    "\n",
    "# Print the original 'data' and the modified 'data_copy'\n",
    "print(\"Original data:\")\n",
    "print(data)\n",
    "\n",
    "print(\"\\nModified data_copy:\")\n",
    "print(data_copy)"
   ]
  },
  {
   "cell_type": "code",
   "execution_count": 32,
   "id": "1c0f4e08-4a72-4f58-b015-83f4a7d6b4f0",
   "metadata": {},
   "outputs": [
    {
     "name": "stdout",
     "output_type": "stream",
     "text": [
      "Matrix A:\n",
      "[[ 2 10  9]\n",
      " [ 8  1  1]\n",
      " [ 6  2  2]]\n",
      "\n",
      "Matrix B:\n",
      "[[ 4  7  3]\n",
      " [10  1  7]\n",
      " [ 6  3  4]]\n",
      "\n",
      "Addition of A and B:\n",
      "[[ 6 17 12]\n",
      " [18  2  8]\n",
      " [12  5  6]]\n",
      "\n",
      "Subtraction of A and B:\n",
      "[[-2  3  6]\n",
      " [-2  0 -6]\n",
      " [ 0 -1 -2]]\n"
     ]
    }
   ],
   "source": [
    "# 81. Create two matrices A and B of identical shape containing integers and perform addition and subtraction operations between them.\n",
    "# Create two matrices A and B of shape (3, 3) containing random integers between 1 and 10\n",
    "A = np.random.randint(1, 11, size=(3, 3))\n",
    "B = np.random.randint(1, 11, size=(3, 3))\n",
    "\n",
    "# Perform element-wise addition\n",
    "addition_result = A + B\n",
    "\n",
    "# Perform element-wise subtraction\n",
    "subtraction_result = A - B\n",
    "\n",
    "# Print the matrices and results\n",
    "print(\"Matrix A:\")\n",
    "print(A)\n",
    "\n",
    "print(\"\\nMatrix B:\")\n",
    "print(B)\n",
    "\n",
    "print(\"\\nAddition of A and B:\")\n",
    "print(addition_result)\n",
    "\n",
    "print(\"\\nSubtraction of A and B:\")\n",
    "print(subtraction_result)"
   ]
  },
  {
   "cell_type": "code",
   "execution_count": 33,
   "id": "402868e3-e34d-4b31-bb5d-89b2b9dbf58e",
   "metadata": {},
   "outputs": [
    {
     "name": "stdout",
     "output_type": "stream",
     "text": [
      "Matrix C (3x2):\n",
      "[[6 8]\n",
      " [5 1]\n",
      " [3 3]]\n",
      "\n",
      "Matrix D (2x4):\n",
      "[[5 5 3 7]\n",
      " [6 9 8 3]]\n",
      "\n",
      "Result of matrix multiplication (3x4):\n",
      "[[ 78 102  82  66]\n",
      " [ 31  34  23  38]\n",
      " [ 33  42  33  30]]\n"
     ]
    }
   ],
   "source": [
    "# Generate matrix C (3x2) with random integers\n",
    "C = np.random.randint(1, 11, size=(3, 2))\n",
    "\n",
    "# Generate matrix D (2x4) with random integers\n",
    "D = np.random.randint(1, 11, size=(2, 4))\n",
    "\n",
    "# Perform matrix multiplication\n",
    "result = np.dot(C, D)\n",
    "\n",
    "# Print the matrices and the result\n",
    "print(\"Matrix C (3x2):\")\n",
    "print(C)\n",
    "\n",
    "print(\"\\nMatrix D (2x4):\")\n",
    "print(D)\n",
    "\n",
    "print(\"\\nResult of matrix multiplication (3x4):\")\n",
    "print(result)"
   ]
  },
  {
   "cell_type": "code",
   "execution_count": 34,
   "id": "752f718c-140f-4df0-b1b1-e6a80f1c9055",
   "metadata": {},
   "outputs": [
    {
     "name": "stdout",
     "output_type": "stream",
     "text": [
      "Matrix E (3x4):\n",
      "[[2 2 1 4]\n",
      " [1 6 8 6]\n",
      " [8 3 9 7]]\n",
      "\n",
      "Transpose of Matrix E (4x3):\n",
      "[[2 1 8]\n",
      " [2 6 3]\n",
      " [1 8 9]\n",
      " [4 6 7]]\n"
     ]
    }
   ],
   "source": [
    "# 83. Create a matrix `E` and find its transpose.\n",
    "# Create matrix E (3x4) with random integers\n",
    "E = np.random.randint(1, 11, size=(3, 4))\n",
    "\n",
    "# Find the transpose of matrix E\n",
    "E_transpose = E.T\n",
    "\n",
    "# Print matrix E and its transpose\n",
    "print(\"Matrix E (3x4):\")\n",
    "print(E)\n",
    "\n",
    "print(\"\\nTranspose of Matrix E (4x3):\")\n",
    "print(E_transpose)"
   ]
  },
  {
   "cell_type": "code",
   "execution_count": 35,
   "id": "6adcfc2d-fc83-49ac-8ae7-97cff3609a96",
   "metadata": {},
   "outputs": [
    {
     "name": "stdout",
     "output_type": "stream",
     "text": [
      "Matrix F (3x3):\n",
      "[[4 9 3]\n",
      " [9 6 2]\n",
      " [5 2 5]]\n",
      "\n",
      "Determinant of Matrix F:\n",
      "-247.00000000000006\n"
     ]
    }
   ],
   "source": [
    "# 84. Generate a square matrix `F` and compute its determinant.\n",
    "# Generate a square matrix F (e.g., 3x3) with random integers\n",
    "F = np.random.randint(1, 11, size=(3, 3))\n",
    "\n",
    "# Compute the determinant of the matrix F\n",
    "det_F = np.linalg.det(F)\n",
    "\n",
    "# Print matrix F and its determinant\n",
    "print(\"Matrix F (3x3):\")\n",
    "print(F)\n",
    "\n",
    "print(\"\\nDeterminant of Matrix F:\")\n",
    "print(det_F)"
   ]
  },
  {
   "cell_type": "code",
   "execution_count": 36,
   "id": "d2afbea4-f8b4-40eb-9bf4-a7a0d82089e4",
   "metadata": {},
   "outputs": [
    {
     "name": "stdout",
     "output_type": "stream",
     "text": [
      "Matrix G (3x3):\n",
      "[[ 9  7 10]\n",
      " [ 3  1  6]\n",
      " [ 1  9  6]]\n",
      "\n",
      "Inverse of Matrix G:\n",
      "[[ 0.1875    -0.1875    -0.125    ]\n",
      " [ 0.046875  -0.171875   0.09375  ]\n",
      " [-0.1015625  0.2890625  0.046875 ]]\n"
     ]
    }
   ],
   "source": [
    "# 85. Create a square matrix `G` and find its inverse.\n",
    "# Generate a square matrix G (e.g., 3x3) with random integers\n",
    "G = np.random.randint(1, 11, size=(3, 3))\n",
    "\n",
    "# Compute the inverse of matrix G\n",
    "# Check if the matrix is invertible by ensuring its determinant is non-zero\n",
    "det_G = np.linalg.det(G)\n",
    "\n",
    "if det_G != 0:\n",
    "    inv_G = np.linalg.inv(G)\n",
    "    print(\"Matrix G (3x3):\")\n",
    "    print(G)\n",
    "\n",
    "    print(\"\\nInverse of Matrix G:\")\n",
    "    print(inv_G)\n",
    "else:\n",
    "    print(\"Matrix G is singular and does not have an inverse.\")"
   ]
  },
  {
   "cell_type": "code",
   "execution_count": null,
   "id": "6a393cd5-1a28-4203-994e-9d166199924d",
   "metadata": {},
   "outputs": [],
   "source": []
  }
 ],
 "metadata": {
  "kernelspec": {
   "display_name": "Python 3 (ipykernel)",
   "language": "python",
   "name": "python3"
  },
  "language_info": {
   "codemirror_mode": {
    "name": "ipython",
    "version": 3
   },
   "file_extension": ".py",
   "mimetype": "text/x-python",
   "name": "python",
   "nbconvert_exporter": "python",
   "pygments_lexer": "ipython3",
   "version": "3.13.0"
  }
 },
 "nbformat": 4,
 "nbformat_minor": 5
}
