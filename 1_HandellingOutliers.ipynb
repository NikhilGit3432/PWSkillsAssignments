{
 "cells": [
  {
   "cell_type": "raw",
   "id": "97a8e6ed-45de-4199-9f61-6392cb8dd40f",
   "metadata": {},
   "source": [
    "Handling Outliers by Drooping the Outliers"
   ]
  },
  {
   "cell_type": "raw",
   "id": "b14772f1-a561-4850-81ef-e9470a397cd9",
   "metadata": {},
   "source": [
    "Indetifying the Outliers\n",
    "Use 5 Quantile method to identif the outliers\n",
    "The values lower than (Lower Fence) q1 and higher than q3(Higher fence ) are the outliers\n",
    "\n",
    "Lower Fence = q1-1.5IQR\n",
    "Higher Fence = q3+1.5IQR\n",
    "IQR = Q3-Q1 (Inter Qunatile Range)\n",
    "\n",
    "Quantiles :- \n",
    "q1 =25\n",
    "q2 =50\n",
    "q3 = 75\n"
   ]
  },
  {
   "cell_type": "raw",
   "id": "aab907cf-c589-4592-a4c1-4ac2ec009618",
   "metadata": {},
   "source": [
    "For this we can use iris dataset to eliminate the outliers in each of the Features\n"
   ]
  },
  {
   "cell_type": "code",
   "execution_count": 1,
   "id": "e08e5a75-71a1-48c9-8c12-aa8399f23dda",
   "metadata": {},
   "outputs": [],
   "source": [
    "import pandas as pd\n",
    "import numpy as np\n",
    "import matplotlib.pyplot as plt\n",
    "import seaborn as sns "
   ]
  },
  {
   "cell_type": "code",
   "execution_count": 2,
   "id": "73f486e5-7253-402d-9412-da7d2e25e213",
   "metadata": {},
   "outputs": [],
   "source": [
    "from sklearn.datasets import load_iris\n"
   ]
  },
  {
   "cell_type": "code",
   "execution_count": 3,
   "id": "4a8aa26f-eadf-44d2-aaad-b24696217e44",
   "metadata": {},
   "outputs": [
    {
     "name": "stdout",
     "output_type": "stream",
     "text": [
      "dict_keys(['data', 'target', 'frame', 'target_names', 'DESCR', 'feature_names', 'filename', 'data_module'])\n"
     ]
    }
   ],
   "source": [
    "# Loading the iris dataset into a variable. The dataset is stored as a dictionary-like object.\n",
    "iris = load_iris()  \n",
    "\n",
    "# Displaying the keys of the iris dataset to explore its parameters and structure.\n",
    "print(iris.keys())"
   ]
  },
  {
   "cell_type": "code",
   "execution_count": 4,
   "id": "652641c6-8145-4dbc-bc96-b1597c22c2f8",
   "metadata": {},
   "outputs": [
    {
     "data": {
      "text/html": [
       "<div>\n",
       "<style scoped>\n",
       "    .dataframe tbody tr th:only-of-type {\n",
       "        vertical-align: middle;\n",
       "    }\n",
       "\n",
       "    .dataframe tbody tr th {\n",
       "        vertical-align: top;\n",
       "    }\n",
       "\n",
       "    .dataframe thead th {\n",
       "        text-align: right;\n",
       "    }\n",
       "</style>\n",
       "<table border=\"1\" class=\"dataframe\">\n",
       "  <thead>\n",
       "    <tr style=\"text-align: right;\">\n",
       "      <th></th>\n",
       "      <th>sepal length (cm)</th>\n",
       "      <th>sepal width (cm)</th>\n",
       "      <th>petal length (cm)</th>\n",
       "      <th>petal width (cm)</th>\n",
       "    </tr>\n",
       "  </thead>\n",
       "  <tbody>\n",
       "    <tr>\n",
       "      <th>0</th>\n",
       "      <td>5.1</td>\n",
       "      <td>3.5</td>\n",
       "      <td>1.4</td>\n",
       "      <td>0.2</td>\n",
       "    </tr>\n",
       "    <tr>\n",
       "      <th>1</th>\n",
       "      <td>4.9</td>\n",
       "      <td>3.0</td>\n",
       "      <td>1.4</td>\n",
       "      <td>0.2</td>\n",
       "    </tr>\n",
       "    <tr>\n",
       "      <th>2</th>\n",
       "      <td>4.7</td>\n",
       "      <td>3.2</td>\n",
       "      <td>1.3</td>\n",
       "      <td>0.2</td>\n",
       "    </tr>\n",
       "    <tr>\n",
       "      <th>3</th>\n",
       "      <td>4.6</td>\n",
       "      <td>3.1</td>\n",
       "      <td>1.5</td>\n",
       "      <td>0.2</td>\n",
       "    </tr>\n",
       "    <tr>\n",
       "      <th>4</th>\n",
       "      <td>5.0</td>\n",
       "      <td>3.6</td>\n",
       "      <td>1.4</td>\n",
       "      <td>0.2</td>\n",
       "    </tr>\n",
       "    <tr>\n",
       "      <th>...</th>\n",
       "      <td>...</td>\n",
       "      <td>...</td>\n",
       "      <td>...</td>\n",
       "      <td>...</td>\n",
       "    </tr>\n",
       "    <tr>\n",
       "      <th>145</th>\n",
       "      <td>6.7</td>\n",
       "      <td>3.0</td>\n",
       "      <td>5.2</td>\n",
       "      <td>2.3</td>\n",
       "    </tr>\n",
       "    <tr>\n",
       "      <th>146</th>\n",
       "      <td>6.3</td>\n",
       "      <td>2.5</td>\n",
       "      <td>5.0</td>\n",
       "      <td>1.9</td>\n",
       "    </tr>\n",
       "    <tr>\n",
       "      <th>147</th>\n",
       "      <td>6.5</td>\n",
       "      <td>3.0</td>\n",
       "      <td>5.2</td>\n",
       "      <td>2.0</td>\n",
       "    </tr>\n",
       "    <tr>\n",
       "      <th>148</th>\n",
       "      <td>6.2</td>\n",
       "      <td>3.4</td>\n",
       "      <td>5.4</td>\n",
       "      <td>2.3</td>\n",
       "    </tr>\n",
       "    <tr>\n",
       "      <th>149</th>\n",
       "      <td>5.9</td>\n",
       "      <td>3.0</td>\n",
       "      <td>5.1</td>\n",
       "      <td>1.8</td>\n",
       "    </tr>\n",
       "  </tbody>\n",
       "</table>\n",
       "<p>150 rows × 4 columns</p>\n",
       "</div>"
      ],
      "text/plain": [
       "     sepal length (cm)  sepal width (cm)  petal length (cm)  petal width (cm)\n",
       "0                  5.1               3.5                1.4               0.2\n",
       "1                  4.9               3.0                1.4               0.2\n",
       "2                  4.7               3.2                1.3               0.2\n",
       "3                  4.6               3.1                1.5               0.2\n",
       "4                  5.0               3.6                1.4               0.2\n",
       "..                 ...               ...                ...               ...\n",
       "145                6.7               3.0                5.2               2.3\n",
       "146                6.3               2.5                5.0               1.9\n",
       "147                6.5               3.0                5.2               2.0\n",
       "148                6.2               3.4                5.4               2.3\n",
       "149                5.9               3.0                5.1               1.8\n",
       "\n",
       "[150 rows x 4 columns]"
      ]
     },
     "execution_count": 4,
     "metadata": {},
     "output_type": "execute_result"
    }
   ],
   "source": [
    "df_iris = pd.DataFrame(iris.data,columns=iris.feature_names)\n",
    "df_iris"
   ]
  },
  {
   "cell_type": "code",
   "execution_count": 12,
   "id": "6dd8403e-1b62-4a9a-a2e8-e8bec2141436",
   "metadata": {},
   "outputs": [
    {
     "data": {
      "image/png": "[encoded data removed]",
      "text/plain": [
       "<Figure size 800x600 with 1 Axes>"
      ]
     },
     "metadata": {},
     "output_type": "display_data"
    }
   ],
   "source": [
    "# Lets dermine the outliers in the sepal lenth feature of the givien data set\n",
    "# plotting the box plot we can detrmine the outliers in the data\n",
    "# Create a DataFrame from the dataset\n",
    "df_iris = pd.DataFrame(iris.data, columns=iris.feature_names)\n",
    "\n",
    "# Plot a boxplot for the \"sepal length (cm)\" feature\n",
    "plt.figure(figsize=(8, 6))\n",
    "plt.boxplot(df_iris['sepal length (cm)'], vert=True, patch_artist=True, boxprops=dict(facecolor='lightblue'))\n",
    "plt.title('Boxplot for Sepal Length')\n",
    "plt.xlabel('Sepal Length (cm)')\n",
    "plt.show()\n"
   ]
  },
  {
   "cell_type": "raw",
   "id": "a5b4c6b3-889d-41be-8788-dec0fbd34d69",
   "metadata": {},
   "source": [
    "Since thre sno outliers in the given data\n",
    "So we can proceed with finding the essential parameters \n",
    "Q1,Q2,Q3, and IQR\n",
    "Then to determine the Outliers we can finalise the upper and lower fence"
   ]
  },
  {
   "cell_type": "code",
   "execution_count": 59,
   "id": "68d9085a-a873-4456-9c5f-99dcbda01c3a",
   "metadata": {},
   "outputs": [
    {
     "name": "stdout",
     "output_type": "stream",
     "text": [
      "Q1 (25th Percentile):\n",
      "sepal length (cm)    5.1\n",
      "sepal width (cm)     2.8\n",
      "petal length (cm)    1.6\n",
      "petal width (cm)     0.3\n",
      "Name: 0.25, dtype: float64\n",
      "\n",
      "Q2 (50th Percentile - Median):\n",
      "sepal length (cm)    5.80\n",
      "sepal width (cm)     3.00\n",
      "petal length (cm)    4.35\n",
      "petal width (cm)     1.30\n",
      "Name: 0.5, dtype: float64\n",
      "\n",
      "Q3 (75th Percentile):\n",
      "sepal length (cm)    6.4\n",
      "sepal width (cm)     3.3\n",
      "petal length (cm)    5.1\n",
      "petal width (cm)     1.8\n",
      "Name: 0.75, dtype: float64\n",
      "\n",
      "Interquartile Range (IQR):\n",
      "sepal length (cm)    1.3\n",
      "sepal width (cm)     0.5\n",
      "petal length (cm)    3.5\n",
      "petal width (cm)     1.5\n",
      "dtype: float64\n"
     ]
    }
   ],
   "source": [
    "## describe funcion in pandas can help us to detmine the q1,q2,q3  of the data \n",
    "# Calculate the 25th percentile (Q1) for each column\n",
    "# Calculate Q1 (25th percentile), Q2 (50th percentile), and Q3 (75th percentile)\n",
    "q1 = df_iris.quantile(0.25)  # 25th percentile\n",
    "q2 = df_iris.quantile(0.50)  # 50th percentile (median)\n",
    "q3 = df_iris.quantile(0.75)  # 75th percentile\n",
    "\n",
    "# Calculate the Interquartile Range (IQR)\n",
    "iqr = q3 - q1\n",
    "\n",
    "# Display the results\n",
    "print(\"Q1 (25th Percentile):\")\n",
    "print(q1)\n",
    "print(\"\\nQ2 (50th Percentile - Median):\")\n",
    "print(q2)\n",
    "print(\"\\nQ3 (75th Percentile):\")\n",
    "print(q3)\n",
    "print(\"\\nInterquartile Range (IQR):\")\n",
    "print(iqr)"
   ]
  },
  {
   "cell_type": "code",
   "execution_count": 63,
   "id": "34980d9d-81f6-40d6-8d88-30562ddcfc5d",
   "metadata": {},
   "outputs": [
    {
     "name": "stdout",
     "output_type": "stream",
     "text": [
      "Lower Fence for each feature:\n",
      "sepal length (cm)    3.15\n",
      "sepal width (cm)     2.05\n",
      "petal length (cm)   -3.65\n",
      "petal width (cm)    -1.95\n",
      "dtype: float64\n",
      "\n",
      "Upper Fence for each feature:\n",
      "sepal length (cm)     8.35\n",
      "sepal width (cm)      4.05\n",
      "petal length (cm)    10.35\n",
      "petal width (cm)      4.05\n",
      "dtype: float64\n"
     ]
    }
   ],
   "source": [
    "## lets setup the Lower Fence and Upper fence\n",
    "## So that we can spot the ouliers if theres any one\n",
    "\n",
    "# Calculate Lower Fence and Upper Fence\n",
    "lower_fence = q1 - 1.5 * iqr\n",
    "upper_fence = q3 + 1.5 * iqr\n",
    "\n",
    "# Display the results\n",
    "print(\"Lower Fence for each feature:\")\n",
    "print(lower_fence)\n",
    "print(\"\\nUpper Fence for each feature:\")\n",
    "print(upper_fence)"
   ]
  },
  {
   "cell_type": "code",
   "execution_count": 69,
   "id": "8871707c-89c6-46d8-9aef-ac503d555c32",
   "metadata": {},
   "outputs": [
    {
     "name": "stdout",
     "output_type": "stream",
     "text": [
      "Outliers in 'sepal length (cm)':\n",
      "No outliers detected.\n",
      "\n",
      "Outliers in 'sepal width (cm)':\n",
      "4.4\n",
      "4.1\n",
      "4.2\n",
      "2.0 \n",
      "\n",
      "Outliers in 'petal length (cm)':\n",
      "No outliers detected.\n",
      "\n",
      "Outliers in 'petal width (cm)':\n",
      "No outliers detected.\n",
      "\n"
     ]
    }
   ],
   "source": [
    "## Now lets detrmine if thres any ouiliers \n",
    "# Identify outliers for each feature\n",
    "# Identify outliers for each feature\n",
    "outliers = {}\n",
    "\n",
    "for column in df_iris.columns:\n",
    "    # Calculate Q1, Q3, IQR\n",
    "    q1 = df_iris[column].quantile(0.25)\n",
    "    q3 = df_iris[column].quantile(0.75)\n",
    "    iqr = q3 - q1\n",
    "\n",
    "    # Calculate Lower Fence and Upper Fence\n",
    "    lower_fence = q1 - 1.5 * iqr\n",
    "    upper_fence = q3 + 1.5 * iqr\n",
    "\n",
    "    # Identify outliers\n",
    "    outlier_values = df_iris[(df_iris[column] < lower_fence) | (df_iris[column] > upper_fence)][column]\n",
    "    outliers[column] = outlier_values\n",
    "\n",
    "# Display outliers for each feature\n",
    "for feature, outlier_values in outliers.items():\n",
    "    print(f\"Outliers in '{feature}':\")\n",
    "    if outlier_values.empty:\n",
    "        print(\"No outliers detected.\\n\")\n",
    "    else:\n",
    "        print(outlier_values.to_string(index=False), \"\\n\")\n",
    "\n",
    "\n",
    "\n",
    "\n",
    "    "
   ]
  },
  {
   "cell_type": "code",
   "execution_count": 73,
   "id": "d5b2778a-40f0-47c1-953b-a66dcf2d9466",
   "metadata": {},
   "outputs": [
    {
     "data": {
      "image/png": "[encoded data removed]",
      "text/plain": [
       "<Figure size 800x600 with 1 Axes>"
      ]
     },
     "metadata": {},
     "output_type": "display_data"
    }
   ],
   "source": [
    "## Since weobserved some outliers in the sepal width feature , lets plot  box plot for the same feature and visualise it\n",
    "# plotting the box plot we can detrmine the outliers in the data\n",
    "# Create a DataFrame from the dataset\n",
    "df_iris = pd.DataFrame(iris.data, columns=iris.feature_names)\n",
    "\n",
    "# Plot a boxplot for the \"sepal length (cm)\" feature\n",
    "plt.figure(figsize=(8, 6))\n",
    "plt.boxplot(df_iris['sepal width (cm)'], vert=True, patch_artist=True, boxprops=dict(facecolor='lightblue'))\n",
    "plt.title('Boxplot for Sepal Length')\n",
    "plt.xlabel('Sepal Length (cm)')\n",
    "plt.show()\n"
   ]
  },
  {
   "cell_type": "code",
   "execution_count": null,
   "id": "aedc5e83-ad85-44f3-a23e-1430a0cf917b",
   "metadata": {},
   "outputs": [],
   "source": []
  }
 ],
 "metadata": {
  "kernelspec": {
   "display_name": "Python 3 (ipykernel)",
   "language": "python",
   "name": "python3"
  },
  "language_info": {
   "codemirror_mode": {
    "name": "ipython",
    "version": 3
   },
   "file_extension": ".py",
   "mimetype": "text/x-python",
   "name": "python",
   "nbconvert_exporter": "python",
   "pygments_lexer": "ipython3",
   "version": "3.12.4"
  }
 },
 "nbformat": 4,
 "nbformat_minor": 5
}
