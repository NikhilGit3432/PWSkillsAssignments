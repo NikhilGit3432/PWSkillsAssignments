{
 "cells": [
  {
   "cell_type": "code",
   "execution_count": 1,
   "id": "4308382e-68eb-48d0-b776-57aefe44e5e1",
   "metadata": {},
   "outputs": [],
   "source": [
    "import numpy as np\n",
    "import pandas as pd\n"
   ]
  },
  {
   "cell_type": "code",
   "execution_count": 2,
   "id": "f14efdc1-b226-4a14-8219-439a19d71bc2",
   "metadata": {},
   "outputs": [],
   "source": [
    "salaries = [32, 35, 37, 40, 42, 45, 48, 50, 52, 55, 90, 95, 100, 110, 200]"
   ]
  },
  {
   "cell_type": "code",
   "execution_count": 3,
   "id": "226815f9-ca2b-4b12-a8f8-14ef9b9e3c0e",
   "metadata": {},
   "outputs": [
    {
     "data": {
      "text/html": [
       "<div>\n",
       "<style scoped>\n",
       "    .dataframe tbody tr th:only-of-type {\n",
       "        vertical-align: middle;\n",
       "    }\n",
       "\n",
       "    .dataframe tbody tr th {\n",
       "        vertical-align: top;\n",
       "    }\n",
       "\n",
       "    .dataframe thead th {\n",
       "        text-align: right;\n",
       "    }\n",
       "</style>\n",
       "<table border=\"1\" class=\"dataframe\">\n",
       "  <thead>\n",
       "    <tr style=\"text-align: right;\">\n",
       "      <th></th>\n",
       "      <th>salary</th>\n",
       "    </tr>\n",
       "  </thead>\n",
       "  <tbody>\n",
       "    <tr>\n",
       "      <th>0</th>\n",
       "      <td>32</td>\n",
       "    </tr>\n",
       "    <tr>\n",
       "      <th>1</th>\n",
       "      <td>35</td>\n",
       "    </tr>\n",
       "    <tr>\n",
       "      <th>2</th>\n",
       "      <td>37</td>\n",
       "    </tr>\n",
       "    <tr>\n",
       "      <th>3</th>\n",
       "      <td>40</td>\n",
       "    </tr>\n",
       "    <tr>\n",
       "      <th>4</th>\n",
       "      <td>42</td>\n",
       "    </tr>\n",
       "    <tr>\n",
       "      <th>5</th>\n",
       "      <td>45</td>\n",
       "    </tr>\n",
       "    <tr>\n",
       "      <th>6</th>\n",
       "      <td>48</td>\n",
       "    </tr>\n",
       "    <tr>\n",
       "      <th>7</th>\n",
       "      <td>50</td>\n",
       "    </tr>\n",
       "    <tr>\n",
       "      <th>8</th>\n",
       "      <td>52</td>\n",
       "    </tr>\n",
       "    <tr>\n",
       "      <th>9</th>\n",
       "      <td>55</td>\n",
       "    </tr>\n",
       "    <tr>\n",
       "      <th>10</th>\n",
       "      <td>90</td>\n",
       "    </tr>\n",
       "    <tr>\n",
       "      <th>11</th>\n",
       "      <td>95</td>\n",
       "    </tr>\n",
       "    <tr>\n",
       "      <th>12</th>\n",
       "      <td>100</td>\n",
       "    </tr>\n",
       "    <tr>\n",
       "      <th>13</th>\n",
       "      <td>110</td>\n",
       "    </tr>\n",
       "    <tr>\n",
       "      <th>14</th>\n",
       "      <td>200</td>\n",
       "    </tr>\n",
       "  </tbody>\n",
       "</table>\n",
       "</div>"
      ],
      "text/plain": [
       "    salary\n",
       "0       32\n",
       "1       35\n",
       "2       37\n",
       "3       40\n",
       "4       42\n",
       "5       45\n",
       "6       48\n",
       "7       50\n",
       "8       52\n",
       "9       55\n",
       "10      90\n",
       "11      95\n",
       "12     100\n",
       "13     110\n",
       "14     200"
      ]
     },
     "execution_count": 3,
     "metadata": {},
     "output_type": "execute_result"
    }
   ],
   "source": [
    "df = pd.DataFrame(salaries,columns=[\"salary\"])\n",
    "df"
   ]
  },
  {
   "cell_type": "code",
   "execution_count": 4,
   "id": "3027465f-2f0e-4cb3-8af1-a0ff4f342125",
   "metadata": {},
   "outputs": [
    {
     "data": {
      "text/html": [
       "<div>\n",
       "<style scoped>\n",
       "    .dataframe tbody tr th:only-of-type {\n",
       "        vertical-align: middle;\n",
       "    }\n",
       "\n",
       "    .dataframe tbody tr th {\n",
       "        vertical-align: top;\n",
       "    }\n",
       "\n",
       "    .dataframe thead th {\n",
       "        text-align: right;\n",
       "    }\n",
       "</style>\n",
       "<table border=\"1\" class=\"dataframe\">\n",
       "  <thead>\n",
       "    <tr style=\"text-align: right;\">\n",
       "      <th></th>\n",
       "      <th>salary</th>\n",
       "    </tr>\n",
       "  </thead>\n",
       "  <tbody>\n",
       "    <tr>\n",
       "      <th>count</th>\n",
       "      <td>15.000000</td>\n",
       "    </tr>\n",
       "    <tr>\n",
       "      <th>mean</th>\n",
       "      <td>68.733333</td>\n",
       "    </tr>\n",
       "    <tr>\n",
       "      <th>std</th>\n",
       "      <td>44.642175</td>\n",
       "    </tr>\n",
       "    <tr>\n",
       "      <th>min</th>\n",
       "      <td>32.000000</td>\n",
       "    </tr>\n",
       "    <tr>\n",
       "      <th>25%</th>\n",
       "      <td>41.000000</td>\n",
       "    </tr>\n",
       "    <tr>\n",
       "      <th>50%</th>\n",
       "      <td>50.000000</td>\n",
       "    </tr>\n",
       "    <tr>\n",
       "      <th>75%</th>\n",
       "      <td>92.500000</td>\n",
       "    </tr>\n",
       "    <tr>\n",
       "      <th>max</th>\n",
       "      <td>200.000000</td>\n",
       "    </tr>\n",
       "  </tbody>\n",
       "</table>\n",
       "</div>"
      ],
      "text/plain": [
       "           salary\n",
       "count   15.000000\n",
       "mean    68.733333\n",
       "std     44.642175\n",
       "min     32.000000\n",
       "25%     41.000000\n",
       "50%     50.000000\n",
       "75%     92.500000\n",
       "max    200.000000"
      ]
     },
     "execution_count": 4,
     "metadata": {},
     "output_type": "execute_result"
    }
   ],
   "source": [
    "df.describe()"
   ]
  },
  {
   "cell_type": "markdown",
   "id": "9586e85c-af8b-4bf5-b206-52980c3788c6",
   "metadata": {},
   "source": [
    "## Checking outLiers"
   ]
  },
  {
   "cell_type": "markdown",
   "id": "cc4a9099-161d-4031-a443-b4f3a5ada0fb",
   "metadata": {},
   "source": [
    "### 1 Checking outliers with help of Distplot\n"
   ]
  },
  {
   "cell_type": "code",
   "execution_count": 7,
   "id": "a8a76ce3-edf8-4fe5-9931-f1b44e703ec9",
   "metadata": {},
   "outputs": [],
   "source": [
    "import matplotlib.pyplot as plt\n",
    "import seaborn as sns\n"
   ]
  },
  {
   "cell_type": "code",
   "execution_count": 8,
   "id": "c1d85bd7-1070-4ff0-994a-f18181281ff7",
   "metadata": {},
   "outputs": [
    {
     "data": {
      "text/plain": [
       "Text(0.5, 1.0, 'The BOX Plot')"
      ]
     },
     "execution_count": 8,
     "metadata": {},
     "output_type": "execute_result"
    },
    {
     "data": {
      "image/png": "[encoded data removed]",
      "text/plain": [
       "<Figure size 1200x500 with 2 Axes>"
      ]
     },
     "metadata": {},
     "output_type": "display_data"
    }
   ],
   "source": [
    "plt.figure(figsize= (12,5))\n",
    "plt.subplot(1,2,1)\n",
    "sns.histplot(df[\"salary\"], kde =  True)\n",
    "plt.title(\"The districution Plot\")\n",
    "plt.xlabel(\"Salary\")\n",
    "plt.ylabel(\"Counts\")\n",
    "\n",
    "plt.subplot(1,2,2)\n",
    "sns.boxplot(data = df, x= \"salary\")\n",
    "plt.title(\"The BOX Plot\")\n",
    "\n"
   ]
  },
  {
   "cell_type": "markdown",
   "id": "ab9abbb0-e389-4095-83d2-5c4bd3893de2",
   "metadata": {},
   "source": [
    "## Dropping The outliers "
   ]
  },
  {
   "cell_type": "code",
   "execution_count": 10,
   "id": "f6e5edad-58e4-45ae-a282-cf2fcc321f52",
   "metadata": {},
   "outputs": [
    {
     "data": {
      "text/plain": [
       "(15, 1)"
      ]
     },
     "execution_count": 10,
     "metadata": {},
     "output_type": "execute_result"
    }
   ],
   "source": [
    "df.shape"
   ]
  },
  {
   "cell_type": "code",
   "execution_count": 11,
   "id": "2354d211-bf43-4814-b028-63f021ba8225",
   "metadata": {},
   "outputs": [
    {
     "data": {
      "text/plain": [
       "51.5"
      ]
     },
     "execution_count": 11,
     "metadata": {},
     "output_type": "execute_result"
    }
   ],
   "source": [
    "# Fro dropping the outliers we will have todermine the Quartiles in the Box plot for the given dataset\n",
    "# Determine Q1,Q3 and IQR\n",
    "# Detrmine the upperfence and Lower fence \n",
    "# Drop the values greter than uppper fence and Lower Than the Lower fence \n",
    "Q1 = df[\"salary\"].quantile(0.25)\n",
    "Q3 = df[\"salary\"].quantile(0.75)\n",
    "# InterQuartile range \n",
    "IQR = Q3-Q1\n",
    "IQR"
   ]
  },
  {
   "cell_type": "code",
   "execution_count": 12,
   "id": "9d450002-7bd3-4e42-bab4-d8bd91daf0f3",
   "metadata": {},
   "outputs": [
    {
     "data": {
      "text/plain": [
       "169.75"
      ]
     },
     "execution_count": 12,
     "metadata": {},
     "output_type": "execute_result"
    }
   ],
   "source": [
    "# Detrmine the Upper Fence \n",
    "upper_fence = Q3 + 1.5*IQR\n",
    "lower_fence = Q1 - 1.5*IQR\n",
    "upper_fence\n",
    "# lower_fence"
   ]
  },
  {
   "cell_type": "code",
   "execution_count": 13,
   "id": "223652a5-c5df-4feb-bdd9-2e58201c98c4",
   "metadata": {},
   "outputs": [
    {
     "data": {
      "text/plain": [
       "(14, 1)"
      ]
     },
     "execution_count": 13,
     "metadata": {},
     "output_type": "execute_result"
    }
   ],
   "source": [
    "df_filtered = df[(df.salary >= lower_fence) & (df.salary <= upper_fence)]\n",
    "df_filtered.shape"
   ]
  },
  {
   "cell_type": "code",
   "execution_count": 14,
   "id": "72bede07-3a90-48ea-8b5c-c485e3162fe7",
   "metadata": {},
   "outputs": [
    {
     "data": {
      "text/plain": [
       "Text(0.5, 1.0, 'The BOX Plot')"
      ]
     },
     "execution_count": 14,
     "metadata": {},
     "output_type": "execute_result"
    },
    {
     "data": {
      "image/png": "[encoded data removed]",
      "text/plain": [
       "<Figure size 1200x500 with 2 Axes>"
      ]
     },
     "metadata": {},
     "output_type": "display_data"
    }
   ],
   "source": [
    "# Plotting for the df_filtered \n",
    "plt.figure(figsize= (12,5))\n",
    "plt.subplot(1,2,1)\n",
    "sns.histplot(df_filtered[\"salary\"], kde =  True)\n",
    "plt.title(\"The districution Plot\")\n",
    "plt.xlabel(\"Salary\")\n",
    "plt.ylabel(\"Counts\")\n",
    "\n",
    "plt.subplot(1,2,2)\n",
    "sns.boxplot(data = df_filtered, x= \"salary\")\n",
    "plt.title(\"The BOX Plot\")\n"
   ]
  },
  {
   "cell_type": "markdown",
   "id": "2d7456a6-f9e9-4c31-90d0-5f57b8140b76",
   "metadata": {},
   "source": [
    "## Imputation outliers with Mean and Meadian \n"
   ]
  },
  {
   "cell_type": "code",
   "execution_count": 16,
   "id": "732c5533-636f-403d-aeca-5c1f74b8892e",
   "metadata": {},
   "outputs": [
    {
     "data": {
      "text/plain": [
       "68.73333333333333"
      ]
     },
     "execution_count": 16,
     "metadata": {},
     "output_type": "execute_result"
    }
   ],
   "source": [
    "df['salary'].mean()"
   ]
  },
  {
   "cell_type": "code",
   "execution_count": 17,
   "id": "c4d0fe48-42e1-4baf-aaff-df085009a252",
   "metadata": {},
   "outputs": [
    {
     "data": {
      "text/html": [
       "<div>\n",
       "<style scoped>\n",
       "    .dataframe tbody tr th:only-of-type {\n",
       "        vertical-align: middle;\n",
       "    }\n",
       "\n",
       "    .dataframe tbody tr th {\n",
       "        vertical-align: top;\n",
       "    }\n",
       "\n",
       "    .dataframe thead th {\n",
       "        text-align: right;\n",
       "    }\n",
       "</style>\n",
       "<table border=\"1\" class=\"dataframe\">\n",
       "  <thead>\n",
       "    <tr style=\"text-align: right;\">\n",
       "      <th></th>\n",
       "      <th>salary</th>\n",
       "    </tr>\n",
       "  </thead>\n",
       "  <tbody>\n",
       "    <tr>\n",
       "      <th>0</th>\n",
       "      <td>32</td>\n",
       "    </tr>\n",
       "    <tr>\n",
       "      <th>1</th>\n",
       "      <td>35</td>\n",
       "    </tr>\n",
       "    <tr>\n",
       "      <th>2</th>\n",
       "      <td>37</td>\n",
       "    </tr>\n",
       "    <tr>\n",
       "      <th>3</th>\n",
       "      <td>40</td>\n",
       "    </tr>\n",
       "    <tr>\n",
       "      <th>4</th>\n",
       "      <td>42</td>\n",
       "    </tr>\n",
       "    <tr>\n",
       "      <th>5</th>\n",
       "      <td>45</td>\n",
       "    </tr>\n",
       "    <tr>\n",
       "      <th>6</th>\n",
       "      <td>48</td>\n",
       "    </tr>\n",
       "    <tr>\n",
       "      <th>7</th>\n",
       "      <td>50</td>\n",
       "    </tr>\n",
       "    <tr>\n",
       "      <th>8</th>\n",
       "      <td>52</td>\n",
       "    </tr>\n",
       "    <tr>\n",
       "      <th>9</th>\n",
       "      <td>55</td>\n",
       "    </tr>\n",
       "    <tr>\n",
       "      <th>10</th>\n",
       "      <td>90</td>\n",
       "    </tr>\n",
       "    <tr>\n",
       "      <th>11</th>\n",
       "      <td>95</td>\n",
       "    </tr>\n",
       "    <tr>\n",
       "      <th>12</th>\n",
       "      <td>100</td>\n",
       "    </tr>\n",
       "    <tr>\n",
       "      <th>13</th>\n",
       "      <td>110</td>\n",
       "    </tr>\n",
       "    <tr>\n",
       "      <th>14</th>\n",
       "      <td>200</td>\n",
       "    </tr>\n",
       "  </tbody>\n",
       "</table>\n",
       "</div>"
      ],
      "text/plain": [
       "    salary\n",
       "0       32\n",
       "1       35\n",
       "2       37\n",
       "3       40\n",
       "4       42\n",
       "5       45\n",
       "6       48\n",
       "7       50\n",
       "8       52\n",
       "9       55\n",
       "10      90\n",
       "11      95\n",
       "12     100\n",
       "13     110\n",
       "14     200"
      ]
     },
     "execution_count": 17,
     "metadata": {},
     "output_type": "execute_result"
    }
   ],
   "source": [
    "df"
   ]
  },
  {
   "cell_type": "code",
   "execution_count": 18,
   "id": "badce6b1-5b71-41cd-abcb-8d18b8c3c508",
   "metadata": {},
   "outputs": [],
   "source": [
    "df[\"salary_imputed_median\"] = np.where((df[\"salary\"] <= lower_fence) | (df[\"salary\"] >= upper_fence), df[\"salary\"].median(), df[\"salary\"])"
   ]
  },
  {
   "cell_type": "code",
   "execution_count": 36,
   "id": "2a92edc2-04a3-4f7a-b29c-4640e6abe404",
   "metadata": {},
   "outputs": [],
   "source": [
    "df[\"salary_imputed_mean\"] = np.where((df[\"salary\"] <= lower_fence) | (df[\"salary\"] >= upper_fence), df[\"salary\"].mean(), df[\"salary\"])"
   ]
  },
  {
   "cell_type": "code",
   "execution_count": 38,
   "id": "6400adaa-f566-45b4-8251-36ef652a1319",
   "metadata": {},
   "outputs": [
    {
     "data": {
      "text/html": [
       "<div>\n",
       "<style scoped>\n",
       "    .dataframe tbody tr th:only-of-type {\n",
       "        vertical-align: middle;\n",
       "    }\n",
       "\n",
       "    .dataframe tbody tr th {\n",
       "        vertical-align: top;\n",
       "    }\n",
       "\n",
       "    .dataframe thead th {\n",
       "        text-align: right;\n",
       "    }\n",
       "</style>\n",
       "<table border=\"1\" class=\"dataframe\">\n",
       "  <thead>\n",
       "    <tr style=\"text-align: right;\">\n",
       "      <th></th>\n",
       "      <th>salary</th>\n",
       "      <th>salary_imputed_median</th>\n",
       "      <th>salary_imputed_mean</th>\n",
       "    </tr>\n",
       "  </thead>\n",
       "  <tbody>\n",
       "    <tr>\n",
       "      <th>0</th>\n",
       "      <td>32</td>\n",
       "      <td>32.0</td>\n",
       "      <td>32.000000</td>\n",
       "    </tr>\n",
       "    <tr>\n",
       "      <th>1</th>\n",
       "      <td>35</td>\n",
       "      <td>35.0</td>\n",
       "      <td>35.000000</td>\n",
       "    </tr>\n",
       "    <tr>\n",
       "      <th>2</th>\n",
       "      <td>37</td>\n",
       "      <td>37.0</td>\n",
       "      <td>37.000000</td>\n",
       "    </tr>\n",
       "    <tr>\n",
       "      <th>3</th>\n",
       "      <td>40</td>\n",
       "      <td>40.0</td>\n",
       "      <td>40.000000</td>\n",
       "    </tr>\n",
       "    <tr>\n",
       "      <th>4</th>\n",
       "      <td>42</td>\n",
       "      <td>42.0</td>\n",
       "      <td>42.000000</td>\n",
       "    </tr>\n",
       "    <tr>\n",
       "      <th>5</th>\n",
       "      <td>45</td>\n",
       "      <td>45.0</td>\n",
       "      <td>45.000000</td>\n",
       "    </tr>\n",
       "    <tr>\n",
       "      <th>6</th>\n",
       "      <td>48</td>\n",
       "      <td>48.0</td>\n",
       "      <td>48.000000</td>\n",
       "    </tr>\n",
       "    <tr>\n",
       "      <th>7</th>\n",
       "      <td>50</td>\n",
       "      <td>50.0</td>\n",
       "      <td>50.000000</td>\n",
       "    </tr>\n",
       "    <tr>\n",
       "      <th>8</th>\n",
       "      <td>52</td>\n",
       "      <td>52.0</td>\n",
       "      <td>52.000000</td>\n",
       "    </tr>\n",
       "    <tr>\n",
       "      <th>9</th>\n",
       "      <td>55</td>\n",
       "      <td>55.0</td>\n",
       "      <td>55.000000</td>\n",
       "    </tr>\n",
       "    <tr>\n",
       "      <th>10</th>\n",
       "      <td>90</td>\n",
       "      <td>90.0</td>\n",
       "      <td>90.000000</td>\n",
       "    </tr>\n",
       "    <tr>\n",
       "      <th>11</th>\n",
       "      <td>95</td>\n",
       "      <td>95.0</td>\n",
       "      <td>95.000000</td>\n",
       "    </tr>\n",
       "    <tr>\n",
       "      <th>12</th>\n",
       "      <td>100</td>\n",
       "      <td>100.0</td>\n",
       "      <td>100.000000</td>\n",
       "    </tr>\n",
       "    <tr>\n",
       "      <th>13</th>\n",
       "      <td>110</td>\n",
       "      <td>110.0</td>\n",
       "      <td>110.000000</td>\n",
       "    </tr>\n",
       "    <tr>\n",
       "      <th>14</th>\n",
       "      <td>200</td>\n",
       "      <td>50.0</td>\n",
       "      <td>68.733333</td>\n",
       "    </tr>\n",
       "  </tbody>\n",
       "</table>\n",
       "</div>"
      ],
      "text/plain": [
       "    salary  salary_imputed_median  salary_imputed_mean\n",
       "0       32                   32.0            32.000000\n",
       "1       35                   35.0            35.000000\n",
       "2       37                   37.0            37.000000\n",
       "3       40                   40.0            40.000000\n",
       "4       42                   42.0            42.000000\n",
       "5       45                   45.0            45.000000\n",
       "6       48                   48.0            48.000000\n",
       "7       50                   50.0            50.000000\n",
       "8       52                   52.0            52.000000\n",
       "9       55                   55.0            55.000000\n",
       "10      90                   90.0            90.000000\n",
       "11      95                   95.0            95.000000\n",
       "12     100                  100.0           100.000000\n",
       "13     110                  110.0           110.000000\n",
       "14     200                   50.0            68.733333"
      ]
     },
     "execution_count": 38,
     "metadata": {},
     "output_type": "execute_result"
    }
   ],
   "source": [
    "df"
   ]
  },
  {
   "cell_type": "code",
   "execution_count": 46,
   "id": "13b84588-2585-48fb-9d0c-e3b63ec7bea5",
   "metadata": {},
   "outputs": [
    {
     "data": {
      "image/png": "[encoded data removed]",
      "text/plain": [
       "<Figure size 800x500 with 2 Axes>"
      ]
     },
     "metadata": {},
     "output_type": "display_data"
    }
   ],
   "source": [
    "# Plotting for the salary_imputed_mean\n",
    "plt.figure(figsize=(8, 5))\n",
    "\n",
    "# First subplot: Histogram with KDE for salary_imputed_mean\n",
    "plt.subplot(1, 2, 1)\n",
    "sns.histplot(df[\"salary_imputed_mean\"], kde=True)\n",
    "plt.title(\"The Distribution Plot for Salary Imputed Mean\")\n",
    "plt.xlabel(\"Salary\")\n",
    "plt.ylabel(\"Counts\")\n",
    "\n",
    "# Second subplot: Boxplot for salary_imputed_mean\n",
    "plt.subplot(1, 2, 2)\n",
    "sns.boxplot(data=df, x=\"salary_imputed_mean\")  # Use the full df since salary_imputed_mean is in df\n",
    "plt.title(\"The Box Plot for Salary Imputed Mean\")\n",
    "\n",
    "# Display the plots\n",
    "plt.tight_layout()\n",
    "plt.show()"
   ]
  },
  {
   "cell_type": "markdown",
   "id": "ce6ea4bc-ff05-4b7f-998e-d447419be581",
   "metadata": {},
   "source": [
    "## Capping Method to Handle the Outliers\n",
    "### Replacing with the nearest value which is not an outlier"
   ]
  },
  {
   "cell_type": "code",
   "execution_count": 55,
   "id": "65da7bf7-1add-49c0-bf95-6dff9a9bfb0f",
   "metadata": {},
   "outputs": [],
   "source": [
    "# Determine the Lower Cap and Upper Cap \n",
    "lower_cap = df[\"salary\"].quantile(0.05) # Lower Cap as 5th percentile \n",
    "upper_cap = df[\"salary\"].quantile(0.95) # Upper cap as 95th percentile "
   ]
  },
  {
   "cell_type": "code",
   "execution_count": 63,
   "id": "4f0a73c2-b93f-42c6-b144-17a4a7e5cd4a",
   "metadata": {},
   "outputs": [],
   "source": [
    "# Replacing the outliers with nearest caps\n",
    "df[\"Salary_capped\"] = np.where(df[\"salary\"] < lower_cap, lower_cap, \n",
    "                               np.where(df[\"salary\"] > upper_cap, upper_cap, df[\"salary\"]))"
   ]
  },
  {
   "cell_type": "code",
   "execution_count": 65,
   "id": "f703aa09-6a83-4bf5-8cba-b93fe082361d",
   "metadata": {},
   "outputs": [
    {
     "data": {
      "text/html": [
       "<div>\n",
       "<style scoped>\n",
       "    .dataframe tbody tr th:only-of-type {\n",
       "        vertical-align: middle;\n",
       "    }\n",
       "\n",
       "    .dataframe tbody tr th {\n",
       "        vertical-align: top;\n",
       "    }\n",
       "\n",
       "    .dataframe thead th {\n",
       "        text-align: right;\n",
       "    }\n",
       "</style>\n",
       "<table border=\"1\" class=\"dataframe\">\n",
       "  <thead>\n",
       "    <tr style=\"text-align: right;\">\n",
       "      <th></th>\n",
       "      <th>salary</th>\n",
       "      <th>salary_imputed_median</th>\n",
       "      <th>salary_imputed_mean</th>\n",
       "      <th>Salary_capped</th>\n",
       "    </tr>\n",
       "  </thead>\n",
       "  <tbody>\n",
       "    <tr>\n",
       "      <th>0</th>\n",
       "      <td>32</td>\n",
       "      <td>32.0</td>\n",
       "      <td>32.000000</td>\n",
       "      <td>34.1</td>\n",
       "    </tr>\n",
       "    <tr>\n",
       "      <th>1</th>\n",
       "      <td>35</td>\n",
       "      <td>35.0</td>\n",
       "      <td>35.000000</td>\n",
       "      <td>35.0</td>\n",
       "    </tr>\n",
       "    <tr>\n",
       "      <th>2</th>\n",
       "      <td>37</td>\n",
       "      <td>37.0</td>\n",
       "      <td>37.000000</td>\n",
       "      <td>37.0</td>\n",
       "    </tr>\n",
       "    <tr>\n",
       "      <th>3</th>\n",
       "      <td>40</td>\n",
       "      <td>40.0</td>\n",
       "      <td>40.000000</td>\n",
       "      <td>40.0</td>\n",
       "    </tr>\n",
       "    <tr>\n",
       "      <th>4</th>\n",
       "      <td>42</td>\n",
       "      <td>42.0</td>\n",
       "      <td>42.000000</td>\n",
       "      <td>42.0</td>\n",
       "    </tr>\n",
       "    <tr>\n",
       "      <th>5</th>\n",
       "      <td>45</td>\n",
       "      <td>45.0</td>\n",
       "      <td>45.000000</td>\n",
       "      <td>45.0</td>\n",
       "    </tr>\n",
       "    <tr>\n",
       "      <th>6</th>\n",
       "      <td>48</td>\n",
       "      <td>48.0</td>\n",
       "      <td>48.000000</td>\n",
       "      <td>48.0</td>\n",
       "    </tr>\n",
       "    <tr>\n",
       "      <th>7</th>\n",
       "      <td>50</td>\n",
       "      <td>50.0</td>\n",
       "      <td>50.000000</td>\n",
       "      <td>50.0</td>\n",
       "    </tr>\n",
       "    <tr>\n",
       "      <th>8</th>\n",
       "      <td>52</td>\n",
       "      <td>52.0</td>\n",
       "      <td>52.000000</td>\n",
       "      <td>52.0</td>\n",
       "    </tr>\n",
       "    <tr>\n",
       "      <th>9</th>\n",
       "      <td>55</td>\n",
       "      <td>55.0</td>\n",
       "      <td>55.000000</td>\n",
       "      <td>55.0</td>\n",
       "    </tr>\n",
       "    <tr>\n",
       "      <th>10</th>\n",
       "      <td>90</td>\n",
       "      <td>90.0</td>\n",
       "      <td>90.000000</td>\n",
       "      <td>90.0</td>\n",
       "    </tr>\n",
       "    <tr>\n",
       "      <th>11</th>\n",
       "      <td>95</td>\n",
       "      <td>95.0</td>\n",
       "      <td>95.000000</td>\n",
       "      <td>95.0</td>\n",
       "    </tr>\n",
       "    <tr>\n",
       "      <th>12</th>\n",
       "      <td>100</td>\n",
       "      <td>100.0</td>\n",
       "      <td>100.000000</td>\n",
       "      <td>100.0</td>\n",
       "    </tr>\n",
       "    <tr>\n",
       "      <th>13</th>\n",
       "      <td>110</td>\n",
       "      <td>110.0</td>\n",
       "      <td>110.000000</td>\n",
       "      <td>110.0</td>\n",
       "    </tr>\n",
       "    <tr>\n",
       "      <th>14</th>\n",
       "      <td>200</td>\n",
       "      <td>50.0</td>\n",
       "      <td>68.733333</td>\n",
       "      <td>137.0</td>\n",
       "    </tr>\n",
       "  </tbody>\n",
       "</table>\n",
       "</div>"
      ],
      "text/plain": [
       "    salary  salary_imputed_median  salary_imputed_mean  Salary_capped\n",
       "0       32                   32.0            32.000000           34.1\n",
       "1       35                   35.0            35.000000           35.0\n",
       "2       37                   37.0            37.000000           37.0\n",
       "3       40                   40.0            40.000000           40.0\n",
       "4       42                   42.0            42.000000           42.0\n",
       "5       45                   45.0            45.000000           45.0\n",
       "6       48                   48.0            48.000000           48.0\n",
       "7       50                   50.0            50.000000           50.0\n",
       "8       52                   52.0            52.000000           52.0\n",
       "9       55                   55.0            55.000000           55.0\n",
       "10      90                   90.0            90.000000           90.0\n",
       "11      95                   95.0            95.000000           95.0\n",
       "12     100                  100.0           100.000000          100.0\n",
       "13     110                  110.0           110.000000          110.0\n",
       "14     200                   50.0            68.733333          137.0"
      ]
     },
     "execution_count": 65,
     "metadata": {},
     "output_type": "execute_result"
    }
   ],
   "source": [
    "df"
   ]
  },
  {
   "cell_type": "code",
   "execution_count": 67,
   "id": "f8102f30-5694-41fa-b89d-8eced46c42e5",
   "metadata": {},
   "outputs": [
    {
     "data": {
      "image/png": "[encoded data removed]",
      "text/plain": [
       "<Figure size 800x500 with 2 Axes>"
      ]
     },
     "metadata": {},
     "output_type": "display_data"
    }
   ],
   "source": [
    "# Plotting for the Salary Capped values\n",
    "plt.figure(figsize=(8, 5))\n",
    "\n",
    "# First subplot: Histogram with KDE for salary_imputed_mean\n",
    "plt.subplot(1, 2, 1)\n",
    "sns.histplot(df[\"Salary_capped\"], kde=True)\n",
    "plt.title(\"The Distribution Plot for Salary Imputed Mean\")\n",
    "plt.xlabel(\"Salary\")\n",
    "plt.ylabel(\"Counts\")\n",
    "\n",
    "# Second subplot: Boxplot for salary_imputed_mean\n",
    "plt.subplot(1, 2, 2)\n",
    "sns.boxplot(data=df, x=\"Salary_capped\")  # Use the full df since salary_imputed_mean is in df\n",
    "plt.title(\"The Box Plot for Salary Imputed Mean\")\n",
    "\n",
    "# Display the plots\n",
    "plt.tight_layout()\n",
    "plt.show()"
   ]
  },
  {
   "cell_type": "code",
   "execution_count": null,
   "id": "d9d96419-4238-4dc1-86e5-211bc0a02147",
   "metadata": {},
   "outputs": [],
   "source": []
  }
 ],
 "metadata": {
  "kernelspec": {
   "display_name": "Python 3 (ipykernel)",
   "language": "python",
   "name": "python3"
  },
  "language_info": {
   "codemirror_mode": {
    "name": "ipython",
    "version": 3
   },
   "file_extension": ".py",
   "mimetype": "text/x-python",
   "name": "python",
   "nbconvert_exporter": "python",
   "pygments_lexer": "ipython3",
   "version": "3.12.4"
  }
 },
 "nbformat": 4,
 "nbformat_minor": 5
}
