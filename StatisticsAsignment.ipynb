{
 "cells": [
  {
   "cell_type": "markdown",
   "id": "f50202aa-5400-4ee3-833b-9a194a1f4bb4",
   "metadata": {},
   "source": [
    "### 1. Generate a list of 100 integers containing values between 90 to 130 and store it in the variable `int_list`. After generating the list, find the following"
   ]
  },
  {
   "cell_type": "code",
   "execution_count": 27,
   "id": "6e3e6366-95d8-4745-b0d2-508a8e9b832c",
   "metadata": {},
   "outputs": [],
   "source": [
    "import random"
   ]
  },
  {
   "cell_type": "code",
   "execution_count": 29,
   "id": "be329abe-4eac-4dca-8606-9cd36cfd3fb1",
   "metadata": {},
   "outputs": [
    {
     "name": "stdout",
     "output_type": "stream",
     "text": [
      "Generated List: [100, 125, 109, 94, 96, 116, 101, 114, 99, 126, 109, 99, 114, 107, 106, 118, 112, 110, 121, 120, 103, 113, 119, 95, 103, 93, 95, 130, 92, 98, 102, 115, 129, 92, 95, 123, 109, 127, 108, 95, 128, 108, 94, 116, 104, 93, 108, 91, 118, 109, 126, 109, 118, 110, 98, 128, 122, 110, 107, 127, 106, 108, 129, 105, 96, 109, 115, 125, 127, 129, 107, 90, 91, 93, 108, 110, 95, 95, 115, 124, 91, 106, 129, 115, 121, 102, 106, 101, 99, 102, 110, 116, 123, 101, 103, 107, 109, 108, 91, 96]\n"
     ]
    }
   ],
   "source": [
    "\n",
    "\n",
    "int_list = [random.randint(90, 130) for _ in range(100)]\n",
    "print(\"Generated List:\", int_list)"
   ]
  },
  {
   "cell_type": "raw",
   "id": "4e6bd138-2d86-4473-bdcc-d94c5115242a",
   "metadata": {},
   "source": [
    " (i) Write a Python function to calculate the mean of a given list of numbers.\n",
    "\n",
    "Create a function to find the median of a list of numbers."
   ]
  },
  {
   "cell_type": "code",
   "execution_count": 31,
   "id": "3e37fb16-a584-47e9-a9ab-57a9b2d7a8c4",
   "metadata": {},
   "outputs": [
    {
     "name": "stdout",
     "output_type": "stream",
     "text": [
      "Mean: 108.69\n",
      "Median: 108.0\n"
     ]
    }
   ],
   "source": [
    "def calculate_mean(numbers):\n",
    "    return sum(numbers) / len(numbers)\n",
    "def calculate_median(numbers):\n",
    "    sorted_list = sorted(numbers)\n",
    "    n = len(sorted_list)\n",
    "    middle = n // 2\n",
    "    if n % 2 == 0:\n",
    "        return (sorted_list[middle - 1] + sorted_list[middle]) / 2\n",
    "    else:\n",
    "        return sorted_list[middle]\n",
    "mean = calculate_mean(int_list)\n",
    "median = calculate_median(int_list)\n",
    "\n",
    "print(f\"Mean: {mean}\")\n",
    "print(f\"Median: {median}\")"
   ]
  },
  {
   "cell_type": "raw",
   "id": "10728414-3072-4246-b09b-a8105e0cd590",
   "metadata": {},
   "source": [
    " (ii) Develop a program to compute the mode of a list of integers"
   ]
  },
  {
   "cell_type": "code",
   "execution_count": 33,
   "id": "9edd11f1-9dc3-40a9-8f91-f6dfe6252ceb",
   "metadata": {},
   "outputs": [
    {
     "name": "stdout",
     "output_type": "stream",
     "text": [
      "Mode: 109\n"
     ]
    }
   ],
   "source": [
    "from collections import Counter\n",
    "\n",
    "def calculate_mode(numbers):\n",
    "    counts = Counter(numbers)\n",
    "    max_count = max(counts.values())\n",
    "    mode = [key for key, value in counts.items() if value == max_count]\n",
    "    return mode if len(mode) > 1 else mode[0]\n",
    "\n",
    "# Example usage\n",
    "mode = calculate_mode(int_list)\n",
    "print(f\"Mode: {mode}\")"
   ]
  },
  {
   "cell_type": "raw",
   "id": "09fa0a57-9587-4bc5-977c-4d20bebe9b31",
   "metadata": {},
   "source": [
    "(iii) Implement a function to calculate the weighted mean of a list of values and their corresponding weights."
   ]
  },
  {
   "cell_type": "code",
   "execution_count": 35,
   "id": "952bbaca-89f5-4309-97ee-c6151a71cd05",
   "metadata": {},
   "outputs": [
    {
     "name": "stdout",
     "output_type": "stream",
     "text": [
      "Weighted Mean: 109.15717092337917\n"
     ]
    }
   ],
   "source": [
    "def calculate_weighted_mean(values, weights):\n",
    "    weighted_sum = sum(v * w for v, w in zip(values, weights))\n",
    "    total_weight = sum(weights)\n",
    "    return weighted_sum / total_weight\n",
    "weights = [random.randint(1, 10) for _ in int_list]\n",
    "weighted_mean = calculate_weighted_mean(int_list, weights)\n",
    "\n",
    "\n",
    "\n",
    "\n",
    "print(f\"Weighted Mean: {weighted_mean}\")"
   ]
  },
  {
   "cell_type": "raw",
   "id": "3690049f-5220-4e33-bfc1-b6e5df4c89fa",
   "metadata": {},
   "source": [
    "(iv) Write a Python function to find the geometric mean of a list of positive numbers."
   ]
  },
  {
   "cell_type": "code",
   "execution_count": 37,
   "id": "581923d2-55f8-41e2-958e-5aa041c3cb82",
   "metadata": {},
   "outputs": [
    {
     "name": "stdout",
     "output_type": "stream",
     "text": [
      "Geometric Mean: 108.09473206128281\n"
     ]
    }
   ],
   "source": [
    "def calculate_geometric_mean(numbers):\n",
    "    product = 1\n",
    "    n = len(numbers)\n",
    "    for num in numbers:\n",
    "        product *= num\n",
    "    return product ** (1 / n)\n",
    "geometric_mean = calculate_geometric_mean(int_list)\n",
    "\n",
    "\n",
    "\n",
    "\n",
    "\n",
    "print(f\"Geometric Mean: {geometric_mean}\")"
   ]
  },
  {
   "cell_type": "raw",
   "id": "f0c46b2d-bd14-497e-b9ee-68a6696764ea",
   "metadata": {},
   "source": [
    "(v) Create a program to calculate the harmonic mean of a list of values."
   ]
  },
  {
   "cell_type": "code",
   "execution_count": 39,
   "id": "84049d40-a079-4ca0-8884-a1f7d6a14060",
   "metadata": {},
   "outputs": [
    {
     "name": "stdout",
     "output_type": "stream",
     "text": [
      "Harmonic Mean: 107.50526205537214\n"
     ]
    }
   ],
   "source": [
    "def calculate_harmonic_mean(numbers):\n",
    "    n = len(numbers)\n",
    "    reciprocal_sum = sum(1 / num for num in numbers)\n",
    "    return n / reciprocal_sum\n",
    "harmonic_mean = calculate_harmonic_mean(int_list)\n",
    "print(f\"Harmonic Mean: {harmonic_mean}\")"
   ]
  },
  {
   "cell_type": "raw",
   "id": "89bb58fe-e8cb-4e47-a436-65cc4f573d3f",
   "metadata": {},
   "source": [
    "(vi) Build a function to determine the midrange of a list of numbers (average of the minimum and maximum)."
   ]
  },
  {
   "cell_type": "code",
   "execution_count": 41,
   "id": "876195c6-b934-4320-9c91-0b08d4aa6d1b",
   "metadata": {},
   "outputs": [
    {
     "name": "stdout",
     "output_type": "stream",
     "text": [
      "Midrange: 110.0\n"
     ]
    }
   ],
   "source": [
    "def calculate_midrange(numbers):\n",
    "    return (min(numbers) + max(numbers)) / 2\n",
    "\n",
    "\n",
    "midrange = calculate_midrange(int_list)\n",
    "print(f\"Midrange: {midrange}\")"
   ]
  },
  {
   "cell_type": "raw",
   "id": "7b238b38-6f35-461f-9760-e49ae1a3809f",
   "metadata": {},
   "source": [
    "(vi) Build a function to determine the midrange of a list of numbers (average of the minimum and maximum)"
   ]
  },
  {
   "cell_type": "code",
   "execution_count": 47,
   "id": "d5b445cf-9eb0-4a81-b888-c8900ca99566",
   "metadata": {},
   "outputs": [
    {
     "name": "stdout",
     "output_type": "stream",
     "text": [
      "Midrange: 110.0\n"
     ]
    }
   ],
   "source": [
    "def calculate_midrange(numbers):\n",
    "    return (min(numbers) + max(numbers)) / 2\n",
    "midrange = calculate_midrange(int_list)\n",
    "\n",
    "\n",
    "\n",
    "print(f\"Midrange: {midrange}\")"
   ]
  },
  {
   "cell_type": "raw",
   "id": "eae525a8-713d-410e-ad88-3e5b523afd40",
   "metadata": {},
   "source": [
    "(vii) Implement a Python program to find the trimmed mean of a list, excluding a certain percentage of \n",
    "outliers"
   ]
  },
  {
   "cell_type": "code",
   "execution_count": 49,
   "id": "8c01c22c-6dc8-4b77-a071-2f3ee654281b",
   "metadata": {},
   "outputs": [
    {
     "name": "stdout",
     "output_type": "stream",
     "text": [
      "Trimmed Mean (10%): 108.3625\n"
     ]
    }
   ],
   "source": [
    "def calculate_trimmed_mean(numbers, trim_percent):\n",
    "    sorted_list = sorted(numbers)\n",
    "    n = len(sorted_list)\n",
    "    trim_count = int(n * trim_percent / 100)\n",
    "    trimmed_list = sorted_list[trim_count:n - trim_count]\n",
    "    return sum(trimmed_list) / len(trimmed_list)\n",
    "trimmed_mean = calculate_trimmed_mean(int_list, 10)\n",
    "\n",
    "\n",
    "\n",
    "\n",
    "print(f\"Trimmed Mean (10%): {trimmed_mean}\")"
   ]
  },
  {
   "cell_type": "markdown",
   "id": "fdfaa97a-56a6-420b-82c4-e0ed09ab21dd",
   "metadata": {},
   "source": [
    "### 2. Generate a list of 500 integers containing values between 200 to 300 and store it in the variable `int_list2`. After generating the list, find the following"
   ]
  },
  {
   "cell_type": "code",
   "execution_count": 333,
   "id": "f48da016-8714-475b-9c36-6a8925e4e2d2",
   "metadata": {},
   "outputs": [],
   "source": [
    "# Generate the list of 500 integers between 200 and 300\n",
    "int_list2 = np.random.randint(200, 301, size=500)\n",
    "\n"
   ]
  },
  {
   "cell_type": "code",
   "execution_count": 337,
   "id": "6739ad29-b44a-4d7f-b4f5-dacedc537d3c",
   "metadata": {},
   "outputs": [
    {
     "name": "stdout",
     "output_type": "stream",
     "text": [
      "Generated List: [217 279 204 242 258 231 201 265 241 257 235 211 246 282 291 200 214 299\n",
      " 253 212 242 284 275 268 206 268 247 203 276 300 252 278 215 220 299 258\n",
      " 223 279 213 285 248 249 269 241 235 264 295 269 294 200 250 236 234 248\n",
      " 293 203 298 242 277 221 273 200 210 243 258 223 259 202 298 262 235 294\n",
      " 267 282 246 299 220 281 250 227 214 241 258 265 236 210 286 243 211 202\n",
      " 251 280 232 254 200 238 219 246 242 256 260 277 230 224 202 203 294 298\n",
      " 213 240 272 219 295 272 226 266 252 267 261 214 296 204 267 211 286 277\n",
      " 275 256 216 224 229 221 225 280 260 261 283 233 232 300 270 285 231 213\n",
      " 271 256 224 279 241 218 240 254 279 211 238 293 201 295 244 288 224 267\n",
      " 282 203 276 235 286 261 269 287 243 232 211 284 210 254 237 228 202 227\n",
      " 283 289 223 253 251 246 220 253 229 267 235 239 209 273 241 223 203 246\n",
      " 290 250 203 231 209 210 227 245 271 239 261 285 297 244 234 234 288 233\n",
      " 205 236 200 275 234 269 253 280 262 208 261 201 281 235 291 240 236 248\n",
      " 225 267 235 230 229 233 218 217 293 284 202 269 212 244 266 291 285 239\n",
      " 239 275 222 230 217 270 271 218 292 243 283 249 241 293 246 221 273 289\n",
      " 296 291 273 228 281 258 200 286 263 216 236 294 224 263 267 251 208 256\n",
      " 291 293 287 232 219 272 271 287 213 258 281 255 264 275 292 236 225 232\n",
      " 242 214 286 228 220 282 268 222 299 283 207 272 261 213 205 200 208 279\n",
      " 279 253 211 204 239 292 245 226 274 252 249 291 251 299 218 234 251 230\n",
      " 253 258 243 255 218 245 287 265 270 253 248 294 259 280 226 235 258 249\n",
      " 273 244 213 270 238 239 208 213 207 280 222 279 289 208 299 206 281 271\n",
      " 284 289 266 260 216 256 223 224 204 300 249 287 230 254 225 220 297 257\n",
      " 223 227 229 233 253 251 286 207 209 254 200 283 236 281 220 203 242 265\n",
      " 220 236 268 280 247 210 294 291 243 263 231 220 270 209 260 291 235 283\n",
      " 276 218 274 298 297 243 203 212 300 258 201 200 239 224 258 236 299 269\n",
      " 206 203 298 240 260 233 228 268 226 296 251 273 253 269 233 207 294 272\n",
      " 284 207 267 285 291 267 284 271 283 295 200 205 291 230 273 283 207 221\n",
      " 292 208 243 246 200 251 238 289 274 298 287 296 283 226]\n"
     ]
    }
   ],
   "source": [
    "\n",
    "print(\"Generated List:\", int_list2)"
   ]
  },
  {
   "cell_type": "code",
   "execution_count": 341,
   "id": "b2cb1dbb-bbb4-4b2a-b3c1-d0218d856f57",
   "metadata": {},
   "outputs": [],
   "source": [
    "import numpy as np\n",
    "import matplotlib.pyplot as plt\n",
    "import seaborn as sns\n"
   ]
  },
  {
   "cell_type": "raw",
   "id": "16530dea-e5ff-4eba-844a-95c7a715a4e8",
   "metadata": {},
   "source": [
    "(i) Compare the given list of visualization for the given data:\n",
    "\n",
    "    \n",
    "\n",
    "    1. Frequency & Gaussian distribution\n",
    "\n",
    "    2. Frequency smoothened KDE plot\n",
    "\n",
    "    3. Gaussian distribution & smoothened KDE plot"
   ]
  },
  {
   "cell_type": "code",
   "execution_count": 343,
   "id": "023d34e2-a51b-49d7-8603-017e519f234a",
   "metadata": {},
   "outputs": [
    {
     "data": {
      "image/png": "[encoded data removed]",
      "text/plain": [
       "<Figure size 1000x600 with 1 Axes>"
      ]
     },
     "metadata": {},
     "output_type": "display_data"
    }
   ],
   "source": [
    "# Plot Frequency & Gaussian Distribution\n",
    "plt.figure(figsize=(10, 6))\n",
    "sns.histplot(int_list2, kde=False, bins=20, color='skyblue', label='Frequency')\n",
    "sns.kdeplot(int_list2, color='red', label='Gaussian Distribution', linestyle='--')\n",
    "plt.title('Frequency & Gaussian Distribution')\n",
    "plt.xlabel('Value')\n",
    "plt.ylabel('Frequency')\n",
    "plt.legend()\n",
    "plt.show()"
   ]
  },
  {
   "cell_type": "code",
   "execution_count": 345,
   "id": "7575c302-238b-4bfc-a05b-c4e099886c75",
   "metadata": {},
   "outputs": [
    {
     "data": {
      "image/png": "[encoded data removed]",
      "text/plain": [
       "<Figure size 1000x600 with 1 Axes>"
      ]
     },
     "metadata": {},
     "output_type": "display_data"
    }
   ],
   "source": [
    "# Plot Frequency Smoothened KDE Plot\n",
    "plt.figure(figsize=(10, 6))\n",
    "sns.histplot(int_list2, kde=True, bins=20, color='lightgreen', label='Frequency')\n",
    "plt.title('Frequency Smoothened KDE Plot')\n",
    "plt.xlabel('Value')\n",
    "plt.ylabel('Frequency')\n",
    "plt.legend()\n",
    "plt.show()\n"
   ]
  },
  {
   "cell_type": "code",
   "execution_count": 347,
   "id": "629a6ac9-5184-43d6-936b-88a1feab06cd",
   "metadata": {},
   "outputs": [
    {
     "data": {
      "image/png": "[encoded data removed]",
      "text/plain": [
       "<Figure size 1000x600 with 1 Axes>"
      ]
     },
     "metadata": {},
     "output_type": "display_data"
    }
   ],
   "source": [
    "# Plot Gaussian Distribution & Smoothened KDE Plot\n",
    "plt.figure(figsize=(10, 6))\n",
    "sns.kdeplot(int_list2, color='blue', label='Gaussian Distribution')\n",
    "sns.kdeplot(int_list2, color='orange', label='Smoothened KDE', linestyle='--')\n",
    "plt.title('Gaussian Distribution & Smoothened KDE Plot')\n",
    "plt.xlabel('Value')\n",
    "plt.ylabel('Density')\n",
    "plt.legend()\n",
    "plt.show()\n"
   ]
  },
  {
   "cell_type": "code",
   "execution_count": null,
   "id": "58f527f2-fdb5-4e0e-877a-bcacf885d4f8",
   "metadata": {},
   "outputs": [],
   "source": [
    "  (ii) Write a Python function to calculate the range of a given list of numbers."
   ]
  },
  {
   "cell_type": "code",
   "execution_count": 349,
   "id": "d9cc6f7b-d3db-4b9b-b283-0991fe01737d",
   "metadata": {},
   "outputs": [
    {
     "name": "stdout",
     "output_type": "stream",
     "text": [
      "Range of the dataset: 100\n"
     ]
    }
   ],
   "source": [
    "# Calculate the range of the list\n",
    "data_range = max(int_list2) - min(int_list2)\n",
    "\n",
    "print(f\"Range of the dataset: {data_range}\")"
   ]
  },
  {
   "cell_type": "raw",
   "id": "0a1d9301-6646-4a92-94e8-5da1b6d9745e",
   "metadata": {},
   "source": [
    " (iii) Create a program to find the variance and standard deviation of a list of numbers."
   ]
  },
  {
   "cell_type": "code",
   "execution_count": 353,
   "id": "89d5c98c-028e-466a-94ca-507839c0b37d",
   "metadata": {},
   "outputs": [
    {
     "name": "stdout",
     "output_type": "stream",
     "text": [
      "Variance: 871.5468496993989\n",
      "Standard Deviation: 29.521972320619078\n"
     ]
    }
   ],
   "source": [
    "variance = np.var(int_list2, ddof=1)\n",
    "std_deviation = np.std(int_list2, ddof=1)\n",
    "\n",
    "print(f\"Variance: {variance}\")\n",
    "print(f\"Standard Deviation: {std_deviation}\")\n"
   ]
  },
  {
   "cell_type": "raw",
   "id": "7a94460d-6034-41f6-beb5-da3cabe5ca9f",
   "metadata": {},
   "source": [
    "(iv) Implement a function to compute the interquartile range (IQR) of a list of values"
   ]
  },
  {
   "cell_type": "code",
   "execution_count": 357,
   "id": "393f9328-cfca-42ec-ae3f-05f5d2a76e6a",
   "metadata": {},
   "outputs": [
    {
     "name": "stdout",
     "output_type": "stream",
     "text": [
      "Interquartile Range (IQR): 50.0\n"
     ]
    }
   ],
   "source": [
    "# Calculate the IQR\n",
    "q1 = np.percentile(int_list2, 25)\n",
    "q3 = np.percentile(int_list2, 75)\n",
    "iqr = q3 - q1\n",
    "\n",
    "print(f\"Interquartile Range (IQR): {iqr}\")\n"
   ]
  },
  {
   "cell_type": "raw",
   "id": "0bf69149-e249-4628-ba2e-8ec257416691",
   "metadata": {},
   "source": [
    " (v) Build a program to calculate the coefficient of variation for a dataset."
   ]
  },
  {
   "cell_type": "code",
   "execution_count": 359,
   "id": "9de27111-920d-4cff-b05e-2efcd7d57013",
   "metadata": {},
   "outputs": [
    {
     "name": "stdout",
     "output_type": "stream",
     "text": [
      "Coefficient of Variation: 11.82%\n"
     ]
    }
   ],
   "source": [
    "# Coefficient of Variation\n",
    "mean = np.mean(int_list2)\n",
    "coefficient_of_variation = (std_deviation / mean) * 100\n",
    "\n",
    "print(f\"Coefficient of Variation: {coefficient_of_variation:.2f}%\")\n"
   ]
  },
  {
   "cell_type": "raw",
   "id": "b95b15af-66e9-44bc-a61f-6df0f0e21778",
   "metadata": {},
   "source": [
    "(vi) Write a Python function to find the mean absolute deviation (MAD) of a list of numbers"
   ]
  },
  {
   "cell_type": "code",
   "execution_count": 361,
   "id": "c67fc523-1231-453f-b844-35e9cc07acbe",
   "metadata": {},
   "outputs": [
    {
     "name": "stdout",
     "output_type": "stream",
     "text": [
      "Mean Absolute Deviation (MAD): 25.538\n"
     ]
    }
   ],
   "source": [
    "# Mean Absolute Deviation\n",
    "mad = np.mean(np.abs(int_list2 - mean))\n",
    "\n",
    "print(f\"Mean Absolute Deviation (MAD): {mad}\")"
   ]
  },
  {
   "cell_type": "raw",
   "id": "954cfd13-9065-4d5b-a94b-9f7f93e53457",
   "metadata": {},
   "source": [
    "(vii) Create a program to calculate the quartile deviation of a list of values."
   ]
  },
  {
   "cell_type": "code",
   "execution_count": 363,
   "id": "ac6b485c-94d2-43e0-b490-fddee8f98de3",
   "metadata": {},
   "outputs": [
    {
     "name": "stdout",
     "output_type": "stream",
     "text": [
      "Quartile Deviation: 25.0\n"
     ]
    }
   ],
   "source": [
    "# Quartile Deviation\n",
    "quartile_deviation = iqr / 2\n",
    "\n",
    "print(f\"Quartile Deviation: {quartile_deviation}\")\n"
   ]
  },
  {
   "cell_type": "raw",
   "id": "52e4485c-e449-4c84-b137-7ff91bcdb69a",
   "metadata": {},
   "source": [
    "(viii) Implement a function to find the range-based coefficient of dispersion for a dataset."
   ]
  },
  {
   "cell_type": "code",
   "execution_count": 365,
   "id": "78ae0df4-cdcd-42d7-8e89-6fff64930dc4",
   "metadata": {},
   "outputs": [
    {
     "name": "stdout",
     "output_type": "stream",
     "text": [
      "Range-Based Coefficient of Dispersion: 20.00%\n"
     ]
    }
   ],
   "source": [
    "# Range-Based Coefficient of Dispersion\n",
    "range_dispersion = (data_range / (max(int_list2) + min(int_list2))) * 100\n",
    "\n",
    "print(f\"Range-Based Coefficient of Dispersion: {range_dispersion:.2f}%\")\n"
   ]
  },
  {
   "cell_type": "raw",
   "id": "96cb868d-9267-46a8-a222-022772ac5426",
   "metadata": {},
   "source": [
    "3) Write a Python class representing a discrete random variable with methods to calculate its expected \n",
    "value and variance"
   ]
  },
  {
   "cell_type": "code",
   "execution_count": 1,
   "id": "340f9f3c-5bcb-4ae2-8810-eda5fc50b9db",
   "metadata": {},
   "outputs": [
    {
     "name": "stdout",
     "output_type": "stream",
     "text": [
      "Expected Value: 2.9000000000000004\n",
      "Variance: 0.89\n"
     ]
    }
   ],
   "source": [
    "class DiscreteRandomVariable:\n",
    "    def __init__(self, values, probabilities):\n",
    "        if len(values) != len(probabilities):\n",
    "            raise ValueError(\"The number of values must match the number of probabilities.\")\n",
    "        if not abs(sum(probabilities) - 1.0) < 1e-6:\n",
    "            raise ValueError(\"The probabilities must sum to 1.\")\n",
    "        self.values = values\n",
    "        self.probabilities = probabilities\n",
    "    \n",
    "    def expected_value(self):\n",
    "        return sum(value * prob for value, prob in zip(self.values, self.probabilities))\n",
    "    \n",
    "    def variance(self):\n",
    "        mean = self.expected_value()\n",
    "        return sum(prob * (value - mean) ** 2 for value, prob in zip(self.values, self.probabilities))\n",
    "\n",
    "\n",
    "\n",
    "values = [1, 2, 3, 4]\n",
    "probabilities = [0.1, 0.2, 0.4, 0.3]\n",
    "\n",
    "\n",
    "rv = DiscreteRandomVariable(values, probabilities)\n",
    "\n",
    "\n",
    "expected_value = rv.expected_value()\n",
    "variance = rv.variance()\n",
    "\n",
    "print(f\"Expected Value: {expected_value}\")\n",
    "print(f\"Variance: {variance}\")\n"
   ]
  },
  {
   "cell_type": "markdown",
   "id": "935a1b74-4e22-4779-bd9e-0f0f6fb99b10",
   "metadata": {},
   "source": [
    "#### 4. Implement a program to simulate the rolling of a fair six-sided die and calculate the expected value and variance of the outcomes"
   ]
  },
  {
   "cell_type": "raw",
   "id": "92c464e6-cf4b-4836-aa2a-3070cefa1f63",
   "metadata": {},
   "source": [
    "5) Create a Python function to generate random samples from a given probability distribution (e.g., \n",
    "binomial, Poisson) and calculate their mean and variance."
   ]
  },
  {
   "cell_type": "code",
   "execution_count": 375,
   "id": "ffbeb969-d71d-49a7-96f3-48e9fbe30b3e",
   "metadata": {},
   "outputs": [
    {
     "name": "stdout",
     "output_type": "stream",
     "text": [
      "Binomial Distribution - Mean: 5.029, Variance: 2.7321590000000007\n",
      "Poisson Distribution - Mean: 3.945, Variance: 3.9739749999999994\n"
     ]
    }
   ],
   "source": [
    "import numpy as np\n",
    "\n",
    "def generate_samples_and_stats(distribution, params, sample_size=1000):\n",
    "    \n",
    "    if distribution == \"binomial\":\n",
    "        n, p = params['n'], params['p']\n",
    "        samples = np.random.binomial(n=n, p=p, size=sample_size)\n",
    "    elif distribution == \"poisson\":\n",
    "        lam = params['lambda']\n",
    "        samples = np.random.poisson(lam=lam, size=sample_size)\n",
    "    else:\n",
    "        raise ValueError(\"Unsupported distribution. Use 'binomial' or 'poisson'.\")\n",
    "    \n",
    "    \n",
    "    mean = np.mean(samples)\n",
    "    variance = np.var(samples)\n",
    "    \n",
    "    return samples, mean, variance\n",
    "\n",
    "\n",
    "\n",
    "# Binomial Distribution\n",
    "binomial_params = {'n': 10, 'p': 0.5}\n",
    "samples_binomial, mean_binomial, variance_binomial = generate_samples_and_stats(\n",
    "    distribution=\"binomial\", params=binomial_params, sample_size=1000\n",
    ")\n",
    "print(f\"Binomial Distribution - Mean: {mean_binomial}, Variance: {variance_binomial}\")\n",
    "\n",
    "# Poisson Distribution\n",
    "poisson_params = {'lambda': 4}\n",
    "samples_poisson, mean_poisson, variance_poisson = generate_samples_and_stats(\n",
    "    distribution=\"poisson\", params=poisson_params, sample_size=1000\n",
    ")\n",
    "print(f\"Poisson Distribution - Mean: {mean_poisson}, Variance: {variance_poisson}\")\n"
   ]
  },
  {
   "cell_type": "raw",
   "id": "33292bfc-9d85-4c8d-8231-d16a339fa7c6",
   "metadata": {},
   "source": [
    "6. Write a Python script to generate random numbers from a Gaussian (normal) distribution and compute \n",
    "the mean, variance, and standard deviation of the samples."
   ]
  },
  {
   "cell_type": "code",
   "execution_count": 377,
   "id": "1813b5a5-1aa8-4870-9c8b-bf39145de432",
   "metadata": {},
   "outputs": [],
   "source": [
    "mean = 0   \n",
    "std_dev = 1  \n",
    "sample_size = 1000  \n"
   ]
  },
  {
   "cell_type": "code",
   "execution_count": 379,
   "id": "1d08775f-8f51-42e9-bd8f-b8bbe8de20df",
   "metadata": {},
   "outputs": [],
   "source": [
    "samples = np.random.normal(loc=mean, scale=std_dev, size=sample_size)\n"
   ]
  },
  {
   "cell_type": "code",
   "execution_count": 383,
   "id": "2902b2ba-2dcd-4f18-9eea-53ef9fa4edf1",
   "metadata": {},
   "outputs": [],
   "source": [
    "calculated_mean = np.mean(samples)\n",
    "calculated_variance = np.var(samples)\n",
    "calculated_std_dev = np.std(samples)\n"
   ]
  },
  {
   "cell_type": "code",
   "execution_count": 385,
   "id": "78017f74-dc67-42af-b8ca-600424e3aaa1",
   "metadata": {},
   "outputs": [
    {
     "name": "stdout",
     "output_type": "stream",
     "text": [
      "Generated 1000 random samples from a Gaussian distribution:\n",
      "Mean: 0.01941389413214759\n",
      "Variance: 1.0413156339426604\n",
      "Standard Deviation: 1.0204487414577277\n"
     ]
    }
   ],
   "source": [
    "\n",
    "print(f\"Generated {sample_size} random samples from a Gaussian distribution:\")\n",
    "print(f\"Mean: {calculated_mean}\")\n",
    "print(f\"Variance: {calculated_variance}\")\n",
    "print(f\"Standard Deviation: {calculated_std_dev}\")"
   ]
  },
  {
   "cell_type": "markdown",
   "id": "051d32af-7083-4ded-8f87-b932cf6fe987",
   "metadata": {},
   "source": [
    "#### 7) Use seaborn library to load tips dataset. Find the following from the dataset for the columns total_bill and tip`:"
   ]
  },
  {
   "cell_type": "code",
   "execution_count": 3,
   "id": "9d409b33-d37e-43d4-8b4a-c80d880c0e89",
   "metadata": {},
   "outputs": [],
   "source": [
    "import seaborn as sns\n",
    "import pandas as pd\n",
    "import numpy as np\n",
    "import matplotlib.pyplot as plt\n",
    "from scipy.stats import pearsonr"
   ]
  },
  {
   "cell_type": "code",
   "execution_count": 4,
   "id": "706299f8-69ee-499d-b05a-f5f7f3100acc",
   "metadata": {},
   "outputs": [
    {
     "name": "stdout",
     "output_type": "stream",
     "text": [
      "   total_bill   tip     sex smoker  day    time  size\n",
      "0       16.99  1.01  Female     No  Sun  Dinner     2\n",
      "1       10.34  1.66    Male     No  Sun  Dinner     3\n",
      "2       21.01  3.50    Male     No  Sun  Dinner     3\n",
      "3       23.68  3.31    Male     No  Sun  Dinner     2\n",
      "4       24.59  3.61  Female     No  Sun  Dinner     4\n"
     ]
    }
   ],
   "source": [
    "tips = sns.load_dataset('tips')\n",
    "print(tips.head())"
   ]
  },
  {
   "cell_type": "raw",
   "id": "af5b2699-22bc-4dbc-b2c2-ab414310bd35",
   "metadata": {},
   "source": [
    "(i) Write a Python function that calculates their skewness"
   ]
  },
  {
   "cell_type": "code",
   "execution_count": 5,
   "id": "67ef9459-640b-4384-aa2f-455210b17c64",
   "metadata": {},
   "outputs": [
    {
     "name": "stdout",
     "output_type": "stream",
     "text": [
      "Skewness of total_bill: 1.1332130376158205\n",
      "Skewness of tip: 1.4654510370979401\n"
     ]
    }
   ],
   "source": [
    "def calculate_skewness(column):\n",
    "    return column.skew()\n",
    "\n",
    "# Calculate skewness for 'total_bill' and 'tip'\n",
    "total_bill_skewness = calculate_skewness(tips['total_bill'])\n",
    "tip_skewness = calculate_skewness(tips['tip'])\n",
    "\n",
    "print(f\"Skewness of total_bill: {total_bill_skewness}\")\n",
    "print(f\"Skewness of tip: {tip_skewness}\")"
   ]
  },
  {
   "cell_type": "raw",
   "id": "5226dc26-6ce2-4633-bd1f-1e6d63efce02",
   "metadata": {},
   "source": [
    "  (ii) Create a program that determines whether the columns exhibit positive skewness, negative skewness, or is \n",
    "approximately symmetric."
   ]
  },
  {
   "cell_type": "code",
   "execution_count": 11,
   "id": "fba379df-8c73-4df4-8a10-9075887deaa0",
   "metadata": {},
   "outputs": [
    {
     "name": "stdout",
     "output_type": "stream",
     "text": [
      "Skewness direction of total_bill: Positive skewness (Right skewed)\n",
      "Skewness direction of tip: Positive skewness (Right skewed)\n"
     ]
    }
   ],
   "source": [
    "def skewness_direction(skewness_value):\n",
    "    if skewness_value > 0:\n",
    "        return \"Positive skewness (Right skewed)\"\n",
    "    elif skewness_value < 0:\n",
    "        return \"Negative skewness (Left skewed)\"\n",
    "    else:\n",
    "        return \"Approximately symmetric\"\n",
    "\n",
    "\n",
    "\n",
    "\n",
    "print(f\"Skewness direction of total_bill: {skewness_direction(total_bill_skewness)}\")\n",
    "print(f\"Skewness direction of tip: {skewness_direction(tip_skewness)}\")\n"
   ]
  },
  {
   "cell_type": "raw",
   "id": "032662fa-f599-4046-9ddb-0664ebf64720",
   "metadata": {},
   "source": [
    "  (iii) Write a function that calculates the covariance between two columns"
   ]
  },
  {
   "cell_type": "code",
   "execution_count": 13,
   "id": "8b15bc3a-5514-4723-9045-4b9c583f21f9",
   "metadata": {},
   "outputs": [
    {
     "name": "stdout",
     "output_type": "stream",
     "text": [
      "Covariance between total_bill and tip: 8.323501629224854\n"
     ]
    }
   ],
   "source": [
    "def calculate_covariance(column1, column2):\n",
    "    return column1.cov(column2)\n",
    "\n",
    "covariance = calculate_covariance(tips['total_bill'], tips['tip'])\n",
    "print(f\"Covariance between total_bill and tip: {covariance}\")\n"
   ]
  },
  {
   "cell_type": "raw",
   "id": "083be76e-9c61-478e-8ba8-8149506e46d8",
   "metadata": {},
   "source": [
    "(iv) Implement a Python program that calculates the Pearson correlation coefficient between two columns."
   ]
  },
  {
   "cell_type": "code",
   "execution_count": 15,
   "id": "766ddd68-25a0-45d9-b053-591fb4349519",
   "metadata": {},
   "outputs": [
    {
     "name": "stdout",
     "output_type": "stream",
     "text": [
      "Pearson correlation coefficient between total_bill and tip: 0.6757341092113645\n"
     ]
    }
   ],
   "source": [
    "def calculate_pearson_correlation(column1, column2):\n",
    "    return pearsonr(column1, column2)[0] \n",
    "\n",
    "\n",
    "pearson_corr = calculate_pearson_correlation(tips['total_bill'], tips['tip'])\n",
    "print(f\"Pearson correlation coefficient between total_bill and tip: {pearson_corr}\")\n"
   ]
  },
  {
   "cell_type": "raw",
   "id": "acc8959a-5171-4603-90ce-2b1c3bcb3576",
   "metadata": {},
   "source": [
    "(v) Write a script to visualize the correlation between two specific columns using scatter plots"
   ]
  },
  {
   "cell_type": "code",
   "execution_count": 17,
   "id": "6960279a-eda9-4c99-8d05-e55c6749d886",
   "metadata": {},
   "outputs": [
    {
     "data": {
      "image/png": "[encoded data removed]",
      "text/plain": [
       "<Figure size 800x600 with 1 Axes>"
      ]
     },
     "metadata": {},
     "output_type": "display_data"
    }
   ],
   "source": [
    "def plot_scatter(column1, column2):\n",
    "    plt.figure(figsize=(8, 6))\n",
    "    plt.scatter(column1, column2, color='blue', alpha=0.5)\n",
    "    plt.title('Scatter Plot of Total Bill vs Tip')\n",
    "    plt.xlabel('Total Bill')\n",
    "    plt.ylabel('Tip')\n",
    "    plt.show()\n",
    "\n",
    "\n",
    "plot_scatter(tips['total_bill'], tips['tip'])"
   ]
  },
  {
   "cell_type": "raw",
   "id": "2ca72a89-28f7-423f-80d9-e44fc2322792",
   "metadata": {},
   "source": [
    "8) Write a Python function to calculate the probability density function (PDF) of a continuous random \n",
    "variable for a given normal distribution."
   ]
  },
  {
   "cell_type": "code",
   "execution_count": 19,
   "id": "bfcd51c1-cf51-401d-8ac6-04ab08b4af8e",
   "metadata": {},
   "outputs": [
    {
     "name": "stdout",
     "output_type": "stream",
     "text": [
      "The PDF value for x = 1.5, mean = 0, std_dev = 1 is: 0.129518\n"
     ]
    }
   ],
   "source": [
    "import math\n",
    "\n",
    "def normal_pdf(x, mean, std_dev):\n",
    "    coefficient = 1 / (math.sqrt(2 * math.pi) * std_dev)\n",
    "    exponent = math.exp(-((x - mean) ** 2) / (2 * std_dev ** 2))\n",
    "    return coefficient * exponent\n",
    "\n",
    "# Example usage\n",
    "mean = 0    \n",
    "std_dev = 1  \n",
    "x_value = 1.5  \n",
    "\n",
    "pdf_value = normal_pdf(x_value, mean, std_dev)\n",
    "print(f\"The PDF value for x = {x_value}, mean = {mean}, std_dev = {std_dev} is: {pdf_value:.6f}\")\n"
   ]
  },
  {
   "cell_type": "raw",
   "id": "6b03bbf8-50aa-4395-867b-d734f905026a",
   "metadata": {},
   "source": [
    "9. Create a program to calculate the cumulative distribution function (CDF) of exponential distribution."
   ]
  },
  {
   "cell_type": "code",
   "execution_count": 21,
   "id": "a421899e-a0a0-4e52-abfb-52a9aff35dea",
   "metadata": {},
   "outputs": [
    {
     "name": "stdout",
     "output_type": "stream",
     "text": [
      "The CDF value for x = 2 with rate = 0.5 is: 0.632121\n"
     ]
    }
   ],
   "source": [
    "E = 2.718281828459045\n",
    "def exponential_cdf(x, rate):\n",
    "    if x < 0:\n",
    "        return 0.0  \n",
    "    return 1 - E ** (-rate * x)\n",
    "rate = 0.5  \n",
    "x_value = 2  \n",
    "cdf_value = exponential_cdf(x_value, rate)\n",
    "\n",
    "\n",
    "\n",
    "\n",
    "\n",
    "print(f\"The CDF value for x = {x_value} with rate = {rate} is: {cdf_value:.6f}\")\n"
   ]
  },
  {
   "cell_type": "raw",
   "id": "98ff5fcf-ed7f-4534-8b83-2e1500594e5f",
   "metadata": {},
   "source": [
    "10) Write a Python function to calculate the probability mass function (PMF) of Poisson distribution."
   ]
  },
  {
   "cell_type": "code",
   "execution_count": 23,
   "id": "47fedd92-8657-4105-b4ee-d2b866d43991",
   "metadata": {},
   "outputs": [
    {
     "name": "stdout",
     "output_type": "stream",
     "text": [
      "The PMF value for k = 4 with λ = 3 is: 0.168031\n"
     ]
    }
   ],
   "source": [
    "\n",
    "E = 2.718281828459045\n",
    "def factorial(n):    \n",
    "    if n == 0 or n == 1:\n",
    "        return 1\n",
    "    result = 1\n",
    "    for i in range(2, n + 1):\n",
    "        result *= i\n",
    "    return result\n",
    "def poisson_pmf(k, lamb):\n",
    "    if k < 0:\n",
    "        return 0.0 \n",
    "    return (lamb ** k * E ** -lamb) / factorial(k)\n",
    "lambda_value = 3  \n",
    "k_value = 4      \n",
    "\n",
    "pmf_value = poisson_pmf(k_value, lambda_value)\n",
    "print(f\"The PMF value for k = {k_value} with λ = {lambda_value} is: {pmf_value:.6f}\")\n"
   ]
  },
  {
   "cell_type": "code",
   "execution_count": null,
   "id": "bdbf21f0-9155-4c53-8cf0-83b76ffaf095",
   "metadata": {},
   "outputs": [],
   "source": []
  },
  {
   "cell_type": "code",
   "execution_count": null,
   "id": "ba4138ff-61a1-402d-8366-3c5186da934d",
   "metadata": {},
   "outputs": [],
   "source": []
  },
  {
   "cell_type": "code",
   "execution_count": null,
   "id": "d5bd5883-6a8d-44de-b881-3f9c0e6bafa7",
   "metadata": {},
   "outputs": [],
   "source": []
  },
  {
   "cell_type": "code",
   "execution_count": null,
   "id": "d2bed39b-a6e5-4e5c-8017-7f75a7b08410",
   "metadata": {},
   "outputs": [],
   "source": []
  },
  {
   "cell_type": "code",
   "execution_count": null,
   "id": "13058615-d2f4-4824-ad13-f9bea209c27b",
   "metadata": {},
   "outputs": [],
   "source": []
  },
  {
   "cell_type": "code",
   "execution_count": null,
   "id": "3719e2dc-ae2a-4436-a22e-80543b654652",
   "metadata": {},
   "outputs": [],
   "source": []
  },
  {
   "cell_type": "code",
   "execution_count": null,
   "id": "5a35656f-8c12-4f63-b97e-ff565c1411b0",
   "metadata": {},
   "outputs": [],
   "source": []
  },
  {
   "cell_type": "code",
   "execution_count": null,
   "id": "99eeb8c3-ed50-4186-b865-f9e063f02798",
   "metadata": {},
   "outputs": [],
   "source": []
  },
  {
   "cell_type": "code",
   "execution_count": null,
   "id": "89de4a87-2a92-4142-b2b1-e35470e70f68",
   "metadata": {},
   "outputs": [],
   "source": []
  },
  {
   "cell_type": "code",
   "execution_count": null,
   "id": "e240449d-c007-4bc2-bb51-e81ecb333d6c",
   "metadata": {},
   "outputs": [],
   "source": []
  },
  {
   "cell_type": "code",
   "execution_count": null,
   "id": "5451e4d6-432d-4cd3-8986-1da147637c9d",
   "metadata": {},
   "outputs": [],
   "source": []
  },
  {
   "cell_type": "code",
   "execution_count": null,
   "id": "6f95782e-0522-4586-a7bf-e7d1c1829e36",
   "metadata": {},
   "outputs": [],
   "source": []
  },
  {
   "cell_type": "code",
   "execution_count": null,
   "id": "289dc0ff-5c25-4aec-b8da-1ae18667a261",
   "metadata": {},
   "outputs": [],
   "source": []
  },
  {
   "cell_type": "code",
   "execution_count": null,
   "id": "a1e74590-4e17-42d7-a593-21ae2b6c7ee4",
   "metadata": {},
   "outputs": [],
   "source": []
  },
  {
   "cell_type": "code",
   "execution_count": null,
   "id": "52422752-4e0d-49c2-9e82-fe241e794aba",
   "metadata": {},
   "outputs": [],
   "source": []
  },
  {
   "cell_type": "code",
   "execution_count": null,
   "id": "3d438a92-c8aa-4dda-b0d5-4943232d6f88",
   "metadata": {},
   "outputs": [],
   "source": []
  },
  {
   "cell_type": "code",
   "execution_count": null,
   "id": "b54f499c-aef5-4c6c-afd1-42fa6b72d286",
   "metadata": {},
   "outputs": [],
   "source": []
  },
  {
   "cell_type": "code",
   "execution_count": null,
   "id": "142f3ffa-34db-48c8-9da5-575e4c7f9e84",
   "metadata": {},
   "outputs": [],
   "source": []
  },
  {
   "cell_type": "code",
   "execution_count": null,
   "id": "b30de2b9-ef77-4400-b757-af33f995e06a",
   "metadata": {},
   "outputs": [],
   "source": []
  },
  {
   "cell_type": "code",
   "execution_count": null,
   "id": "6e8ef53f-65d7-4302-8d2e-4829929a5927",
   "metadata": {},
   "outputs": [],
   "source": []
  },
  {
   "cell_type": "code",
   "execution_count": null,
   "id": "9efdcee1-3a80-4c2e-87ad-4128ac0b7c51",
   "metadata": {},
   "outputs": [],
   "source": []
  },
  {
   "cell_type": "raw",
   "id": "c80ef69f-0616-44f3-855b-70a5227ad04f",
   "metadata": {},
   "source": [
    "11.A company wants to test if a new website layout leads to a higher conversion rate (percentage of visitors\n",
    "who make a purchase). They collect data from the old and new layouts to compare.\n",
    "\n",
    "To generate the data use the following command:\n",
    "\n",
    "python\n",
    "\n",
    "import numpy as np\n",
    "\n",
    "# 50 purchases out of 1000 visitors\n",
    "\n",
    "old_layout = np.array([1] * 50 + [0] * 950)\n",
    "\n",
    "# 70 purchases out of 1000 visitors  \n",
    "\n",
    "new_layout = np.array([1] * 70 + [0] * 930)\n",
    "\n",
    "\n",
    "Apply z-test to find which layout is successful."
   ]
  },
  {
   "cell_type": "code",
   "execution_count": 1,
   "id": "0f1fe74f-6ead-4d45-b542-ccd78fac7a17",
   "metadata": {},
   "outputs": [],
   "source": [
    "import numpy as np\n",
    "from statsmodels.stats.proportion import proportions_ztest"
   ]
  },
  {
   "cell_type": "code",
   "execution_count": 7,
   "id": "da4fc98a-4b65-4e7a-bfad-d126d2d87665",
   "metadata": {},
   "outputs": [],
   "source": [
    "# Data \n",
    "# 50 purchases out of 1000 visitors\n",
    "old_layout = np.array([1] * 50 + [0] * 950)\n",
    "# 70 purchases out of 1000 visitors  \n",
    "new_layout = np.array([1] * 70 + [0] * 930)\n"
   ]
  },
  {
   "cell_type": "code",
   "execution_count": 9,
   "id": "e018c6a3-5123-461e-a2a0-98f07afa0ef4",
   "metadata": {},
   "outputs": [],
   "source": [
    "# Total successes and total observations\n",
    "successes = [old_layout.sum(), new_layout.sum()]\n",
    "n_obs = [len(old_layout), len(new_layout)]\n"
   ]
  },
  {
   "cell_type": "code",
   "execution_count": 13,
   "id": "e0819d36-63fc-456a-ae9a-7e24c8fccd09",
   "metadata": {},
   "outputs": [
    {
     "name": "stdout",
     "output_type": "stream",
     "text": [
      "Z-statistic: -1.88\n",
      "P-value: 0.9702\n"
     ]
    }
   ],
   "source": [
    "# Perform one-tailed z-test\n",
    "z_stat, p_value = proportions_ztest(successes, n_obs, alternative='larger')\n",
    "\n",
    "print(f\"Z-statistic: {z_stat:.2f}\")\n",
    "print(f\"P-value: {p_value:.4f}\")"
   ]
  },
  {
   "cell_type": "code",
   "execution_count": 15,
   "id": "d9e4e3eb-08da-4eb7-9c0e-9fff531b7bef",
   "metadata": {},
   "outputs": [
    {
     "name": "stdout",
     "output_type": "stream",
     "text": [
      "Fail to reject the null hypothesis: No significant evidence to conclude the new layout is better.\n"
     ]
    }
   ],
   "source": [
    "# Decision\n",
    "alpha = 0.05\n",
    "if p_value < alpha:\n",
    "    print(\"Reject the null hypothesis: The new layout has a significantly higher conversion rate.\")\n",
    "else:\n",
    "    print(\"Fail to reject the null hypothesis: No significant evidence to conclude the new layout is better.\")"
   ]
  },
  {
   "cell_type": "raw",
   "id": "3f2cb1a1-647e-4845-b62b-4537a558b362",
   "metadata": {},
   "source": [
    "12. A tutoring service claims that its program improves students' exam scores. A sample of students who \n",
    "participated in the program was taken, and their scores before and after the program were recorded.\n",
    "\n",
    "\n",
    "Use the below code to generate samples of respective arrays of marks:\n",
    "\n",
    "```python\n",
    "\n",
    "before_program = np.array([75, 80, 85, 70, 90, 78, 92, 88, 82, 87])\n",
    "\n",
    "after_program = np.array([80, 85, 90, 80, 92, 80, 95, 90, 85, 88])\n",
    "\n",
    "```\n",
    "\n",
    "Use z-test to find if the claims made by tutor are true or false"
   ]
  },
  {
   "cell_type": "code",
   "execution_count": 17,
   "id": "2f39fa80-b734-4ec8-aa21-3d63d4492896",
   "metadata": {},
   "outputs": [],
   "source": [
    "from scipy.stats import norm\n"
   ]
  },
  {
   "cell_type": "code",
   "execution_count": 19,
   "id": "07ebbda0-cac6-4e8c-9b94-1c63f3f7e2fe",
   "metadata": {},
   "outputs": [],
   "source": [
    "# Scores before and after the program\n",
    "before_program = np.array([75, 80, 85, 70, 90, 78, 92, 88, 82, 87])\n",
    "after_program = np.array([80, 85, 90, 80, 92, 80, 95, 90, 85, 88])\n"
   ]
  },
  {
   "cell_type": "code",
   "execution_count": 21,
   "id": "36f3f5fe-839d-4956-8a17-cd2e5eea3c62",
   "metadata": {},
   "outputs": [],
   "source": [
    "# Calculate the differences\n",
    "differences = after_program - before_program\n"
   ]
  },
  {
   "cell_type": "code",
   "execution_count": 23,
   "id": "53b25795-8b47-4b3c-a907-f4fbe82397db",
   "metadata": {},
   "outputs": [],
   "source": [
    "# Mean and standard deviation of differences\n",
    "mean_diff = np.mean(differences)\n",
    "std_diff = np.std(differences, ddof=1)  # Sample standard deviation\n"
   ]
  },
  {
   "cell_type": "code",
   "execution_count": 25,
   "id": "bc3c61f5-8be1-456e-b319-eeb717d55393",
   "metadata": {},
   "outputs": [],
   "source": [
    "# Number of samples\n",
    "n = len(differences)"
   ]
  },
  {
   "cell_type": "code",
   "execution_count": 27,
   "id": "4320f615-6be9-4e1a-bbc7-46c2aff90796",
   "metadata": {},
   "outputs": [],
   "source": [
    "# Standard error of the mean\n",
    "se_diff = std_diff / np.sqrt(n)"
   ]
  },
  {
   "cell_type": "code",
   "execution_count": 29,
   "id": "3fd97636-f7c6-4a39-b4a4-dd94f238c1f3",
   "metadata": {},
   "outputs": [],
   "source": [
    "# Z-statistic\n",
    "z_stat = mean_diff / se_diff"
   ]
  },
  {
   "cell_type": "code",
   "execution_count": 35,
   "id": "27a1ae1c-5933-4fa5-a208-1903a5cb0eaa",
   "metadata": {},
   "outputs": [
    {
     "name": "stdout",
     "output_type": "stream",
     "text": [
      "Mean Difference: 3.8\n",
      "Z-Statistic: 4.593190894944668\n",
      "P-Value: 4.365194105293568e-06\n"
     ]
    }
   ],
   "source": [
    "# Critical value and p-value\n",
    "# Significance level\n",
    "alpha = 0.05  \n",
    "# Two-tailed test\n",
    "p_value = 2 * (1 - norm.cdf(abs(z_stat)))  \n",
    "\n",
    "\n",
    "\n",
    "\n",
    "print(\"Mean Difference:\", mean_diff)\n",
    "print(\"Z-Statistic:\", z_stat)\n",
    "print(\"P-Value:\", p_value)\n"
   ]
  },
  {
   "cell_type": "code",
   "execution_count": 37,
   "id": "bd079f1e-2b29-4a7a-9e96-bedec2b8bc17",
   "metadata": {},
   "outputs": [
    {
     "name": "stdout",
     "output_type": "stream",
     "text": [
      "Reject the null hypothesis: The tutoring program improved scores.\n"
     ]
    }
   ],
   "source": [
    "# Decision\n",
    "if p_value < alpha:\n",
    "    print(\"Reject the null hypothesis: The tutoring program improved scores.\")\n",
    "else:\n",
    "    print(\"Fail to reject the null hypothesis: No significant improvement in scores.\")"
   ]
  },
  {
   "cell_type": "raw",
   "id": "6abc195b-3150-4856-acd2-a75a0af6c6a2",
   "metadata": {},
   "source": [
    "13. A pharmaceutical company wants to determine if a new drug is effective in reducing blood pressure. They \n",
    "conduct a study and record blood pressure measurements before and after administering the drug.\n",
    "\n",
    "\n",
    "Use the below code to generate samples of respective arrays of blood pressure:\n",
    "\n",
    "\n",
    "```python\n",
    "\n",
    "before_drug = np.array([145, 150, 140, 135, 155, 160, 152, 148, 130, 138])\n",
    "\n",
    "after_drug = np.array([130, 140, 132, 128, 145, 148, 138, 136, 125, 130])\n",
    "\n",
    "  ```\n",
    "\n",
    "\n",
    "Implement z-test to find if the drug really works or not."
   ]
  },
  {
   "cell_type": "code",
   "execution_count": 39,
   "id": "be420723-c316-43df-9561-b4b31831e1a9",
   "metadata": {},
   "outputs": [],
   "source": [
    "\n",
    "before_drug = np.array([145, 150, 140, 135, 155, 160, 152, 148, 130, 138])\n",
    "after_drug = np.array([130, 140, 132, 128, 145, 148, 138, 136, 125, 130])\n"
   ]
  },
  {
   "cell_type": "code",
   "execution_count": 41,
   "id": "6d3d4174-8af9-428a-a9da-7210b5a805af",
   "metadata": {},
   "outputs": [],
   "source": [
    "# Calculate the differences\n",
    "differences = before_drug - after_drug\n"
   ]
  },
  {
   "cell_type": "code",
   "execution_count": 45,
   "id": "45e18fa6-e297-4fb8-86f8-0d152865812d",
   "metadata": {},
   "outputs": [],
   "source": [
    "# Mean and standard deviation of differences\n",
    "mean_diff = np.mean(differences)\n",
    " # Sample standard deviation\n",
    "std_diff = np.std(differences, ddof=1)"
   ]
  },
  {
   "cell_type": "code",
   "execution_count": 47,
   "id": "687b64a8-3551-4e8c-b721-b22637aea825",
   "metadata": {},
   "outputs": [],
   "source": [
    "# Number of samples\n",
    "n = len(differences)"
   ]
  },
  {
   "cell_type": "code",
   "execution_count": 49,
   "id": "54913d59-46b0-47fb-aad2-fbc860494518",
   "metadata": {},
   "outputs": [],
   "source": [
    "# Standard error of the mean\n",
    "se_diff = std_diff / np.sqrt(n)\n"
   ]
  },
  {
   "cell_type": "code",
   "execution_count": 51,
   "id": "ae38cd96-b290-4d9a-a969-4127d2dadc33",
   "metadata": {},
   "outputs": [],
   "source": [
    "# Z-statistic\n",
    "z_stat = mean_diff / se_diff"
   ]
  },
  {
   "cell_type": "code",
   "execution_count": 53,
   "id": "bfbd9da7-76e4-4398-8075-53c9c3f32bcf",
   "metadata": {},
   "outputs": [],
   "source": [
    "# Critical value and p-value\n",
    "# Significance level\n",
    "alpha = 0.05  \n",
    "# Two-tailed test\n",
    "p_value = 2 * (1 - norm.cdf(abs(z_stat)))  "
   ]
  },
  {
   "cell_type": "code",
   "execution_count": 55,
   "id": "93a91639-0d64-4869-a591-379777d74653",
   "metadata": {},
   "outputs": [
    {
     "name": "stdout",
     "output_type": "stream",
     "text": [
      "Mean Difference: 10.1\n",
      "Z-Statistic: 10.049875621120888\n",
      "P-Value: 0.0\n"
     ]
    }
   ],
   "source": [
    "print(\"Mean Difference:\", mean_diff)\n",
    "print(\"Z-Statistic:\", z_stat)\n",
    "print(\"P-Value:\", p_value)"
   ]
  },
  {
   "cell_type": "code",
   "execution_count": 57,
   "id": "6c0d8776-9f53-4ab9-bb15-df6f654835cc",
   "metadata": {},
   "outputs": [
    {
     "name": "stdout",
     "output_type": "stream",
     "text": [
      "Reject the null hypothesis: The drug is effective in reducing blood pressure.\n"
     ]
    }
   ],
   "source": [
    "# Conclusion\n",
    "if p_value < alpha:\n",
    "    print(\"Reject the null hypothesis: The drug is effective in reducing blood pressure.\")\n",
    "else:\n",
    "    print(\"Fail to reject the null hypothesis: The drug's effect is not significant.\")"
   ]
  },
  {
   "cell_type": "raw",
   "id": "e5d005be-365e-43b3-aae9-e442842814b7",
   "metadata": {},
   "source": [
    "14. A customer service department claims that their average response time is less than 5 minutes. A sample \n",
    "of recent customer interactions was taken, and the response times were recorded.\n",
    "\n",
    "\n",
    "Implement the below code to generate the array of response time:\n",
    "\n",
    "```python\n",
    "\n",
    "response_times = np.array([4.3, 3.8, 5.1, 4.9, 4.7, 4.2, 5.2, 4.5, 4.6, 4.4])\n",
    "\n",
    "```\n",
    "\n",
    "Implement z-test to find the claims made by customer service department are true or false"
   ]
  },
  {
   "cell_type": "code",
   "execution_count": 59,
   "id": "54fe9b2c-8e23-4e4f-a30d-1a0fa32b03c3",
   "metadata": {},
   "outputs": [],
   "source": [
    "# Response times from customer interactions\n",
    "response_times = np.array([4.3, 3.8, 5.1, 4.9, 4.7, 4.2, 5.2, 4.5, 4.6, 4.4])"
   ]
  },
  {
   "cell_type": "code",
   "execution_count": 61,
   "id": "960349fb-716c-42b7-a2de-3788c2b9b8ab",
   "metadata": {},
   "outputs": [],
   "source": [
    "# Hypothesized mean\n",
    "mu_0 = 5.0\n"
   ]
  },
  {
   "cell_type": "code",
   "execution_count": 65,
   "id": "eef54a29-a828-4ee7-a1bf-99daee4294d3",
   "metadata": {},
   "outputs": [],
   "source": [
    "# Calculate sample mean and standard deviation\n",
    "sample_mean = np.mean(response_times)\n",
    " # Sample standard deviation\n",
    "sample_std = np.std(response_times, ddof=1) "
   ]
  },
  {
   "cell_type": "code",
   "execution_count": 67,
   "id": "457d5249-14f5-41cb-a066-02881acf0f51",
   "metadata": {},
   "outputs": [],
   "source": [
    "# Number of samples\n",
    "n = len(response_times)"
   ]
  },
  {
   "cell_type": "code",
   "execution_count": 69,
   "id": "c4e80a0d-39ef-4b0e-9a8c-56eea3cedfc8",
   "metadata": {},
   "outputs": [],
   "source": [
    "# Standard error of the mean\n",
    "se = sample_std / np.sqrt(n)"
   ]
  },
  {
   "cell_type": "code",
   "execution_count": 71,
   "id": "0d62240b-691c-4a6a-9fe0-b02b0ca9dc3c",
   "metadata": {},
   "outputs": [],
   "source": [
    "# Z-statistic\n",
    "z_stat = (sample_mean - mu_0) / se    "
   ]
  },
  {
   "cell_type": "code",
   "execution_count": 73,
   "id": "5919996c-5079-4a5c-98c2-1c27137c1785",
   "metadata": {},
   "outputs": [],
   "source": [
    "# One-tailed p-value\n",
    "p_value = norm.cdf(z_stat)"
   ]
  },
  {
   "cell_type": "code",
   "execution_count": 75,
   "id": "d882a94e-70d6-432b-a016-5b7618f75316",
   "metadata": {},
   "outputs": [],
   "source": [
    "# Significance level\n",
    "alpha = 0.05"
   ]
  },
  {
   "cell_type": "code",
   "execution_count": 77,
   "id": "28b0edd0-80ec-4232-96db-0f4f3b5c78aa",
   "metadata": {},
   "outputs": [
    {
     "name": "stdout",
     "output_type": "stream",
     "text": [
      "Sample Mean: 4.57\n",
      "Z-Statistic: -3.184457226042963\n",
      "P-Value: 0.0007251287113068958\n"
     ]
    }
   ],
   "source": [
    "# Output results\n",
    "print(\"Sample Mean:\", sample_mean)\n",
    "print(\"Z-Statistic:\", z_stat)\n",
    "print(\"P-Value:\", p_value)"
   ]
  },
  {
   "cell_type": "code",
   "execution_count": 79,
   "id": "67ff3b1e-f710-4c93-b00f-84d40b748b50",
   "metadata": {},
   "outputs": [
    {
     "name": "stdout",
     "output_type": "stream",
     "text": [
      "Reject the null hypothesis: The average response time is less than 5 minutes.\n"
     ]
    }
   ],
   "source": [
    "# Conclusion\n",
    "if p_value < alpha:\n",
    "    print(\"Reject the null hypothesis: The average response time is less than 5 minutes.\")\n",
    "else:\n",
    "    print(\"Fail to reject the null hypothesis: The claim cannot be supported.\")"
   ]
  },
  {
   "cell_type": "raw",
   "id": "0a4ca52a-4d94-467b-b1f0-ecce5a69e77c",
   "metadata": {},
   "source": [
    "15.A company is testing two different website layouts to see which one leads to higher click-through rates. \n",
    "Write a Python function to perform an A/B test analysis, including calculating the t-statistic, degrees of \n",
    "freedom, and p-value.\n",
    "\n",
    "\n",
    "Use the following data:\n",
    "\n",
    "```python\n",
    "\n",
    "layout_a_clicks = [28, 32, 33, 29, 31, 34, 30, 35, 36, 37]\n",
    "\n",
    "layout_b_clicks = [40, 41, 38, 42, 39, 44, 43, 41, 45, 47]"
   ]
  },
  {
   "cell_type": "code",
   "execution_count": 81,
   "id": "655b9b32-99e3-46d4-acbf-e9755fefdbb7",
   "metadata": {},
   "outputs": [],
   "source": [
    "from scipy.stats import t"
   ]
  },
  {
   "cell_type": "code",
   "execution_count": 83,
   "id": "068baef4-73ed-4936-9bd4-86c33cba801a",
   "metadata": {},
   "outputs": [],
   "source": [
    "# Given data\n",
    "layout_a_clicks = [28, 32, 33, 29, 31, 34, 30, 35, 36, 37]\n",
    "layout_b_clicks = [40, 41, 38, 42, 39, 44, 43, 41, 45, 47]                                "
   ]
  },
  {
   "cell_type": "code",
   "execution_count": 85,
   "id": "09858989-9aa1-4c5c-84a2-3dd2d739811c",
   "metadata": {},
   "outputs": [],
   "source": [
    "# Calculate sample means\n",
    "mean_a = np.mean(layout_a_clicks)\n",
    "mean_b = np.mean(layout_b_clicks)"
   ]
  },
  {
   "cell_type": "code",
   "execution_count": 87,
   "id": "d52192ce-88fa-437a-9327-66d4575f3962",
   "metadata": {},
   "outputs": [],
   "source": [
    "# Calculate sample standard deviations\n",
    "std_a = np.std(layout_a_clicks, ddof=1)\n",
    "std_b = np.std(layout_b_clicks, ddof=1)"
   ]
  },
  {
   "cell_type": "code",
   "execution_count": 89,
   "id": "5d389ee4-3f31-481d-bdcf-8efb65adf610",
   "metadata": {},
   "outputs": [],
   "source": [
    "# Sample sizes\n",
    "n_a = len(layout_a_clicks)\n",
    "n_b = len(layout_b_clicks)"
   ]
  },
  {
   "cell_type": "code",
   "execution_count": 91,
   "id": "e241f46b-dafd-4d50-b671-aa15791e8cc7",
   "metadata": {},
   "outputs": [],
   "source": [
    "# Pooled standard error\n",
    "pooled_se = np.sqrt((std_a**2 / n_a) + (std_b**2 / n_b))"
   ]
  },
  {
   "cell_type": "code",
   "execution_count": 93,
   "id": "58f45f77-02b1-409d-9c62-d5b7d1edc47a",
   "metadata": {},
   "outputs": [],
   "source": [
    "# T-statistic\n",
    "t_stat = (mean_a - mean_b) / pooled_se\n"
   ]
  },
  {
   "cell_type": "code",
   "execution_count": 95,
   "id": "505f9a9c-6792-45da-8ab3-c97655237388",
   "metadata": {},
   "outputs": [],
   "source": [
    "# Degrees of freedom (using Welch's formula)\n",
    "df = ((std_a**2 / n_a) + (std_b**2 / n_b))**2 / (\n",
    "    ((std_a**2 / n_a)**2 / (n_a - 1)) + ((std_b**2 / n_b)**2 / (n_b - 1))\n",
    ")"
   ]
  },
  {
   "cell_type": "code",
   "execution_count": 97,
   "id": "bb371459-48a9-4ef8-8867-0152ad400d96",
   "metadata": {},
   "outputs": [],
   "source": [
    "# Two-tailed p-value\n",
    "p_value = 2 * (1 - t.cdf(abs(t_stat), df))"
   ]
  },
  {
   "cell_type": "code",
   "execution_count": 99,
   "id": "d6024348-1d3e-440f-b3c3-8b74a88f8fb2",
   "metadata": {},
   "outputs": [
    {
     "name": "stdout",
     "output_type": "stream",
     "text": [
      "Mean of Layout A: 32.5\n",
      "Mean of Layout B: 42.0\n",
      "T-Statistic: -7.298102156175071\n",
      "Degrees of Freedom: 17.879871863320876\n",
      "P-Value: 9.19659607134804e-07\n"
     ]
    }
   ],
   "source": [
    "\n",
    "print(\"Mean of Layout A:\", mean_a)\n",
    "print(\"Mean of Layout B:\", mean_b)\n",
    "print(\"T-Statistic:\", t_stat)\n",
    "print(\"Degrees of Freedom:\", df)\n",
    "print(\"P-Value:\", p_value)"
   ]
  },
  {
   "cell_type": "code",
   "execution_count": 101,
   "id": "4ce8f132-a7c8-4155-a5fe-6dfb669ecb47",
   "metadata": {},
   "outputs": [
    {
     "name": "stdout",
     "output_type": "stream",
     "text": [
      "Reject the null hypothesis: The click-through rates are significantly different.\n"
     ]
    }
   ],
   "source": [
    "# Conclusion\n",
    "alpha = 0.05  # Significance level\n",
    "if p_value < alpha:\n",
    "    print(\"Reject the null hypothesis: The click-through rates are significantly different.\")\n",
    "else:\n",
    "    print(\"Fail to reject the null hypothesis: No significant difference in click-through rates.\")"
   ]
  },
  {
   "cell_type": "raw",
   "id": "823581e6-8d1c-43b3-aed6-eaa3a2e901c9",
   "metadata": {},
   "source": [
    "16.A pharmaceutical company wants to determine if a new drug is more effective than an existing drug in \n",
    "reducing cholesterol levels. Create a program to analyze the clinical trial data and calculate the t\u0002statistic and p-value for the treatment effect.\n",
    "\n",
    "\n",
    "Use the following data of cholestrol level:\n",
    "\n",
    "```python\n",
    "\n",
    "existing_drug_levels = [180, 182, 175, 185, 178, 176, 172, 184, 179, 183]\n",
    "\n",
    "new_drug_levels = [170, 172, 165, 168, 175, 173, 170, 178, 172, 176]\n",
    "\n",
    "```"
   ]
  },
  {
   "cell_type": "code",
   "execution_count": 103,
   "id": "9345b308-db2d-4c21-ab0a-20cc6413c730",
   "metadata": {},
   "outputs": [],
   "source": [
    "existing_drug_levels = [180, 182, 175, 185, 178, 176, 172, 184, 179, 183]\n",
    "new_drug_levels = [170, 172, 165, 168, 175, 173, 170, 178, 172, 176]"
   ]
  },
  {
   "cell_type": "code",
   "execution_count": 105,
   "id": "598f3cad-ee8a-4642-a53d-7366e68b8142",
   "metadata": {},
   "outputs": [],
   "source": [
    "# Calculate sample means\n",
    "mean_existing = np.mean(existing_drug_levels)\n",
    "mean_new = np.mean(new_drug_levels)"
   ]
  },
  {
   "cell_type": "code",
   "execution_count": 107,
   "id": "d732e1f5-7309-4866-9fff-5134b564ab53",
   "metadata": {},
   "outputs": [],
   "source": [
    "# Calculate sample standard deviations\n",
    "std_existing = np.std(existing_drug_levels, ddof=1)\n",
    "std_new = np.std(new_drug_levels, ddof=1)"
   ]
  },
  {
   "cell_type": "code",
   "execution_count": 109,
   "id": "937ee358-6b2b-4ff3-8737-1097ae1d226f",
   "metadata": {},
   "outputs": [],
   "source": [
    "# Sample sizes\n",
    "n_existing = len(existing_drug_levels)\n",
    "n_new = len(new_drug_levels)"
   ]
  },
  {
   "cell_type": "code",
   "execution_count": 111,
   "id": "51d5ab21-b8ca-454a-a291-a255c5cc225a",
   "metadata": {},
   "outputs": [],
   "source": [
    "# Pooled standard error\n",
    "pooled_se = np.sqrt((std_existing**2 / n_existing) + (std_new**2 / n_new))"
   ]
  },
  {
   "cell_type": "code",
   "execution_count": 113,
   "id": "228d206b-643d-439e-8169-a22001be7b3d",
   "metadata": {},
   "outputs": [],
   "source": [
    "# T-statistic\n",
    "t_stat = (mean_existing - mean_new) / pooled_se"
   ]
  },
  {
   "cell_type": "code",
   "execution_count": 115,
   "id": "f803b0d8-4588-4cc2-b34f-3a1e5fa3b53e",
   "metadata": {},
   "outputs": [],
   "source": [
    "# Degrees of freedom (using Welch's formula)\n",
    "df = ((std_existing**2 / n_existing) + (std_new**2 / n_new))**2 / (\n",
    "    ((std_existing**2 / n_existing)**2 / (n_existing - 1)) + ((std_new**2 / n_new)**2 / (n_new - 1))\n",
    ")"
   ]
  },
  {
   "cell_type": "code",
   "execution_count": 117,
   "id": "92da57f9-f9dc-4590-93fd-d3b6d063f676",
   "metadata": {},
   "outputs": [],
   "source": [
    "# Two-tailed p-value\n",
    "p_value = 2 * (1 - t.cdf(abs(t_stat), df))\n"
   ]
  },
  {
   "cell_type": "code",
   "execution_count": 119,
   "id": "99134694-fcc4-4f03-81f8-478378bd37f7",
   "metadata": {},
   "outputs": [
    {
     "name": "stdout",
     "output_type": "stream",
     "text": [
      "Mean Cholesterol Level (Existing Drug): 179.4\n",
      "Mean Cholesterol Level (New Drug): 171.9\n",
      "T-Statistic: 4.140480986208661\n",
      "Degrees of Freedom: 17.866770765582338\n",
      "P-Value: 0.0006229228945469067\n"
     ]
    }
   ],
   "source": [
    "print(\"Mean Cholesterol Level (Existing Drug):\", mean_existing)\n",
    "print(\"Mean Cholesterol Level (New Drug):\", mean_new)\n",
    "print(\"T-Statistic:\", t_stat)\n",
    "print(\"Degrees of Freedom:\", df)\n",
    "print(\"P-Value:\", p_value)"
   ]
  },
  {
   "cell_type": "code",
   "execution_count": 121,
   "id": "92bec80a-5ec8-486c-9492-e6956f8b5d72",
   "metadata": {},
   "outputs": [
    {
     "name": "stdout",
     "output_type": "stream",
     "text": [
      "Reject the null hypothesis: The new drug is significantly more effective.\n"
     ]
    }
   ],
   "source": [
    "\n",
    "alpha = 0.05  # Significance level\n",
    "if p_value < alpha:\n",
    "    print(\"Reject the null hypothesis: The new drug is significantly more effective.\")\n",
    "else:\n",
    "    print(\"Fail to reject the null hypothesis: No significant difference in effectiveness.\")"
   ]
  },
  {
   "cell_type": "raw",
   "id": "b19cb64a-077a-4de1-849b-fb71ac4df0b4",
   "metadata": {},
   "source": [
    "17. A school district introduces an educational intervention program to improve math scores. Write a Python \n",
    "function to analyze pre- and post-intervention test scores, calculating the t-statistic and p-value to \n",
    "determine if the intervention had a significant impact.\n",
    "\n",
    "\n",
    "Use the following data of test score:\n",
    "\n",
    "\n",
    "  ```python\n",
    "\n",
    "  pre_intervention_scores = [80, 85, 90, 75, 88, 82, 92, 78, 85, 87]\n",
    "\n",
    "  post_intervention_scores = [90, 92, 88, 92, 95, 91, 96, 93, 89, 93]\n",
    "\n",
    "  "
   ]
  },
  {
   "cell_type": "code",
   "execution_count": 123,
   "id": "da309dbd-ee00-4c80-8da0-71cb10dc26a0",
   "metadata": {},
   "outputs": [],
   "source": [
    "pre_intervention_scores = [80, 85, 90, 75, 88, 82, 92, 78, 85, 87]\n",
    "post_intervention_scores = [90, 92, 88, 92, 95, 91, 96, 93, 89, 93]"
   ]
  },
  {
   "cell_type": "code",
   "execution_count": 125,
   "id": "7b70bd2c-edd4-487d-9053-b7b34139bf21",
   "metadata": {},
   "outputs": [],
   "source": [
    "# Calculate sample means\n",
    "mean_pre = np.mean(pre_intervention_scores)\n",
    "mean_post = np.mean(post_intervention_scores)"
   ]
  },
  {
   "cell_type": "code",
   "execution_count": 127,
   "id": "620a41ec-9f17-4d53-8d18-afaa03f37a40",
   "metadata": {},
   "outputs": [],
   "source": [
    "# Calculate sample standard deviations\n",
    "std_pre = np.std(pre_intervention_scores, ddof=1)\n",
    "std_post = np.std(post_intervention_scores, ddof=1)\n"
   ]
  },
  {
   "cell_type": "code",
   "execution_count": 129,
   "id": "e63720ed-354f-435a-b82d-eb5c60520e64",
   "metadata": {},
   "outputs": [],
   "source": [
    "# Sample sizes\n",
    "n_pre = len(pre_intervention_scores)\n",
    "n_post = len(post_intervention_scores)"
   ]
  },
  {
   "cell_type": "code",
   "execution_count": 131,
   "id": "12ebb85e-b19d-48fa-bf6c-4b40a9da6aa1",
   "metadata": {},
   "outputs": [],
   "source": [
    "# Pooled standard error\n",
    "pooled_se = np.sqrt((std_pre**2 / n_pre) + (std_post**2 / n_post))\n"
   ]
  },
  {
   "cell_type": "code",
   "execution_count": 133,
   "id": "27645c9d-dd09-4961-a841-e06d1dc3cea4",
   "metadata": {},
   "outputs": [],
   "source": [
    "# T-statistic\n",
    "t_stat = (mean_post - mean_pre) / pooled_se"
   ]
  },
  {
   "cell_type": "code",
   "execution_count": 135,
   "id": "baebf7ca-016c-428b-8f4b-00cdabb2ea45",
   "metadata": {},
   "outputs": [],
   "source": [
    "# Degrees of freedom (using Welch's formula)\n",
    "df = ((std_pre**2 / n_pre) + (std_post**2 / n_post))**2 / (\n",
    "    ((std_pre**2 / n_pre)**2 / (n_pre - 1)) + ((std_post**2 / n_post)**2 / (n_post - 1))\n",
    ")"
   ]
  },
  {
   "cell_type": "code",
   "execution_count": 137,
   "id": "f825b6df-8874-4376-bce9-eb353f3cd610",
   "metadata": {},
   "outputs": [],
   "source": [
    "# Two-tailed p-value\n",
    "p_value = 2 * (1 - t.cdf(abs(t_stat), df))"
   ]
  },
  {
   "cell_type": "code",
   "execution_count": 139,
   "id": "facce9c3-b4aa-465e-95bc-4caa2552baaf",
   "metadata": {},
   "outputs": [
    {
     "name": "stdout",
     "output_type": "stream",
     "text": [
      "Mean Score (Pre-Intervention): 84.2\n",
      "Mean Score (Post-Intervention): 91.9\n",
      "T-Statistic: 4.080355128162117\n",
      "Degrees of Freedom: 12.712452956489297\n",
      "P-Value: 0.0013590535954375316\n"
     ]
    }
   ],
   "source": [
    "# Print results\n",
    "print(\"Mean Score (Pre-Intervention):\", mean_pre)\n",
    "print(\"Mean Score (Post-Intervention):\", mean_post)\n",
    "print(\"T-Statistic:\", t_stat)\n",
    "print(\"Degrees of Freedom:\", df)\n",
    "print(\"P-Value:\", p_value)"
   ]
  },
  {
   "cell_type": "code",
   "execution_count": 141,
   "id": "bedec73a-87ee-4f52-bee4-3e89937979e4",
   "metadata": {},
   "outputs": [
    {
     "name": "stdout",
     "output_type": "stream",
     "text": [
      "Reject the null hypothesis: The intervention had a significant impact.\n"
     ]
    }
   ],
   "source": [
    "alpha = 0.05  # Significance level\n",
    "if p_value < alpha:\n",
    "    print(\"Reject the null hypothesis: The intervention had a significant impact.\")\n",
    "else:\n",
    "    print(\"Fail to reject the null hypothesis: No significant impact from the intervention.\")"
   ]
  },
  {
   "cell_type": "raw",
   "id": "75ee97fb-1e7c-45d9-bd59-1df2b5ba6edf",
   "metadata": {},
   "source": [
    "18. An HR department wants to investigate if there's a gender-based salary gap within the company. Develop \n",
    "a program to analyze salary data, calculate the t-statistic, and determine if there's a statistically \n",
    "significant difference between the average salaries of male and female employees.\n",
    "\n",
    "\n",
    "Use the below code to generate synthetic data:\n",
    "\n",
    "\n",
    "python\n",
    "\n",
    "# Generate synthetic salary data for male and female employees\n",
    "\n",
    "np.random.seed(0)  # For reproducibility\n",
    "\n",
    "male_salaries = np.random.normal(loc=50000, scale=10000, size=20)\n",
    "\n",
    "female_salaries = np.random.normal(loc=55000, scale=9000, size=20)\n",
    "\n",
    "  ``"
   ]
  },
  {
   "cell_type": "code",
   "execution_count": 143,
   "id": "74ddba49-32a1-43b7-b42a-ec6fb30e6a1b",
   "metadata": {},
   "outputs": [],
   "source": [
    "# Generate synthetic salary data for male and female employees\n",
    "# For reproducibility\n",
    "np.random.seed(0)  "
   ]
  },
  {
   "cell_type": "code",
   "execution_count": 145,
   "id": "3f337ab7-94d1-4f78-9763-48ae1f296ece",
   "metadata": {},
   "outputs": [],
   "source": [
    "male_salaries = np.random.normal(loc=50000, scale=10000, size=20)\n",
    "female_salaries = np.random.normal(loc=55000, scale=9000, size=20)"
   ]
  },
  {
   "cell_type": "code",
   "execution_count": 147,
   "id": "3a343cab-ff7f-4fe1-a237-27f00600bb91",
   "metadata": {},
   "outputs": [],
   "source": [
    "mean_male = np.mean(male_salaries)\n",
    "mean_female = np.mean(female_salaries)"
   ]
  },
  {
   "cell_type": "code",
   "execution_count": 149,
   "id": "e29eeace-e0bc-40c1-b352-6beade8e15d9",
   "metadata": {},
   "outputs": [],
   "source": [
    "std_male = np.std(male_salaries, ddof=1)\n",
    "std_female = np.std(female_salaries, ddof=1)"
   ]
  },
  {
   "cell_type": "code",
   "execution_count": 151,
   "id": "dad191ef-c695-4a55-8cdd-8a996c043135",
   "metadata": {},
   "outputs": [],
   "source": [
    "# Sample sizes\n",
    "n_male = len(male_salaries)\n",
    "n_female = len(female_salaries)"
   ]
  },
  {
   "cell_type": "code",
   "execution_count": 153,
   "id": "b796d17e-e945-4d39-8539-4d4caba3a826",
   "metadata": {},
   "outputs": [],
   "source": [
    "# Calculate the t-statistic\n",
    "pooled_se = np.sqrt((std_male**2 / n_male) + (std_female**2 / n_female))\n",
    "t_stat = (mean_female - mean_male) / pooled_se"
   ]
  },
  {
   "cell_type": "code",
   "execution_count": 155,
   "id": "ab3c0615-a15f-43a4-85eb-96c0f63355b1",
   "metadata": {},
   "outputs": [],
   "source": [
    "# Degrees of freedom (using Welch's formula)\n",
    "df = ((std_male**2 / n_male) + (std_female**2 / n_female))**2 / (\n",
    "    ((std_male**2 / n_male)**2 / (n_male - 1)) + ((std_female**2 / n_female)**2 / (n_female - 1))\n",
    ")\n"
   ]
  },
  {
   "cell_type": "code",
   "execution_count": 157,
   "id": "c96035b2-e4e7-4529-bde5-4e9d78f64fdf",
   "metadata": {},
   "outputs": [],
   "source": [
    "# Calculate the p-value for a two-tailed test\n",
    "p_value = 2 * (1 - t.cdf(abs(t_stat), df))"
   ]
  },
  {
   "cell_type": "code",
   "execution_count": 159,
   "id": "4ca0f7d2-ab2d-42d0-90fa-0167a76d8cc2",
   "metadata": {},
   "outputs": [
    {
     "name": "stdout",
     "output_type": "stream",
     "text": [
      "Mean Salary (Male): 55693.345929456365\n",
      "Mean Salary (Female): 55501.753181380416\n",
      "T-Statistic: -0.061142089696313844\n",
      "Degrees of Freedom: 36.166783312917644\n",
      "P-Value: 0.9515826849267925\n"
     ]
    }
   ],
   "source": [
    "# Print results\n",
    "print(\"Mean Salary (Male):\", mean_male)\n",
    "print(\"Mean Salary (Female):\", mean_female)\n",
    "print(\"T-Statistic:\", t_stat)\n",
    "print(\"Degrees of Freedom:\", df)\n",
    "print(\"P-Value:\", p_value)"
   ]
  },
  {
   "cell_type": "code",
   "execution_count": 161,
   "id": "aec07c61-cca2-4474-87ed-0fd5110ee20e",
   "metadata": {},
   "outputs": [
    {
     "name": "stdout",
     "output_type": "stream",
     "text": [
      "Fail to reject the null hypothesis: No significant gender-based salary gap.\n"
     ]
    }
   ],
   "source": [
    "# Conclusion\n",
    "alpha = 0.05  # Significance level\n",
    "if p_value < alpha:\n",
    "    print(\"Reject the null hypothesis: There is a significant gender-based salary gap.\")\n",
    "else:\n",
    "    print(\"Fail to reject the null hypothesis: No significant gender-based salary gap.\")"
   ]
  },
  {
   "cell_type": "raw",
   "id": "fa07f1a1-9fd8-4f86-b685-df1e667b4b6e",
   "metadata": {},
   "source": [
    "Conclusion: The p-value is compared with the significance level (\n",
    "𝛼=0.05).If the p-value is less than 0.05, we reject the null hypothesis and conclude that there is a significant gender-based salary gap.\n",
    "\n",
    "If the p-value is below 0.05, it indicates a significant difference, and we can conclude there is a salary gap based on gender.\n",
    "If the p-value is greater than 0.05, we cannot conclude that there is a significant gender-based salary gap."
   ]
  },
  {
   "cell_type": "raw",
   "id": "8f63bf32-cb91-4ae8-a55a-2fe15c829c5a",
   "metadata": {},
   "source": [
    "19. A manufacturer produces two different versions of a product and wants to compare their quality scores. \n",
    "Create a Python function to analyze quality assessment data, calculate the t-statistic, and decide \n",
    "whether there's a significant difference in quality between the two versions.\n",
    "\n",
    "\n",
    "Use the following data:\n",
    "\n",
    "\n",
    "```python\n",
    "\n",
    "version1_scores = [85, 88, 82, 89, 87, 84, 90, 88, 85, 86, 91, 83, 87, 84, 89, 86, 84, 88, 85, 86, 89, 90, 87, 88, 85]\n",
    "\n",
    "version2_scores = [80, 78, 83, 81, 79, 82, 76, 80, 78, 81, 77, 82, 80, 79, 82, 79, 80, 81, 79, 82, 79, 78, 80, 81, 82]\n",
    "\n",
    "```"
   ]
  },
  {
   "cell_type": "code",
   "execution_count": 165,
   "id": "b3697542-580e-4aed-822b-ed92058c056c",
   "metadata": {},
   "outputs": [],
   "source": [
    "# Data \n",
    "version1_scores = [85, 88, 82, 89, 87, 84, 90, 88, 85, 86, 91, 83, 87, 84, 89, 86, 84, 88, 85, 86, 89, 90, 87, 88, 85]\n",
    "version2_scores = [80, 78, 83, 81, 79, 82, 76, 80, 78, 81, 77, 82, 80, 79, 82, 79, 80, 81, 79, 82, 79, 78, 80, 81, 82]"
   ]
  },
  {
   "cell_type": "code",
   "execution_count": 167,
   "id": "d31902ff-1889-4ca4-88b1-202e5117c895",
   "metadata": {},
   "outputs": [],
   "source": [
    "# Calculate means\n",
    "mean_version1 = np.mean(version1_scores)\n",
    "mean_version2 = np.mean(version2_scores)"
   ]
  },
  {
   "cell_type": "code",
   "execution_count": 169,
   "id": "f08876a8-d925-4327-a789-0280a1f95fa0",
   "metadata": {},
   "outputs": [],
   "source": [
    "# Calculate standard deviations\n",
    "std_version1 = np.std(version1_scores, ddof=1)\n",
    "std_version2 = np.std(version2_scores, ddof=1)"
   ]
  },
  {
   "cell_type": "code",
   "execution_count": 171,
   "id": "cc98e348-44ab-4a4b-990d-e6021c6ffedf",
   "metadata": {},
   "outputs": [],
   "source": [
    "# Sample sizes\n",
    "n_version1 = len(version1_scores)\n",
    "n_version2 = len(version2_scores)"
   ]
  },
  {
   "cell_type": "code",
   "execution_count": 173,
   "id": "b3a573f0-d5ba-40b2-9d02-af0ae9c1ebba",
   "metadata": {},
   "outputs": [],
   "source": [
    "# Calculate the t-statistic\n",
    "pooled_se = np.sqrt((std_version1**2 / n_version1) + (std_version2**2 / n_version2))\n",
    "t_stat = (mean_version1 - mean_version2) / pooled_se"
   ]
  },
  {
   "cell_type": "code",
   "execution_count": 175,
   "id": "e83cef52-c86d-4949-8b6e-14771dbacadf",
   "metadata": {},
   "outputs": [],
   "source": [
    "# Degrees of freedom (using Welch's formula)\n",
    "df = ((std_version1**2 / n_version1) + (std_version2**2 / n_version2))**2 / (\n",
    "    ((std_version1**2 / n_version1)**2 / (n_version1 - 1)) + ((std_version2**2 / n_version2)**2 / (n_version2 - 1))\n",
    ")"
   ]
  },
  {
   "cell_type": "code",
   "execution_count": 177,
   "id": "0bc31d9d-f88f-4f34-98d2-167096c10b1c",
   "metadata": {},
   "outputs": [],
   "source": [
    "# Calculate the p-value for a two-tailed test\n",
    "p_value = 2 * (1 - t.cdf(abs(t_stat), df))"
   ]
  },
  {
   "cell_type": "code",
   "execution_count": 179,
   "id": "c4100da8-a16e-4bb0-ad44-df9c81f07d1e",
   "metadata": {},
   "outputs": [
    {
     "name": "stdout",
     "output_type": "stream",
     "text": [
      "Mean Quality Score (Version 1): 86.64\n",
      "Mean Quality Score (Version 2): 79.96\n",
      "T-Statistic: 11.325830417646698\n",
      "Degrees of Freedom: 44.47061033283036\n",
      "P-Value: 1.0658141036401503e-14\n"
     ]
    }
   ],
   "source": [
    "# Print results\n",
    "print(\"Mean Quality Score (Version 1):\", mean_version1)\n",
    "print(\"Mean Quality Score (Version 2):\", mean_version2)\n",
    "print(\"T-Statistic:\", t_stat)\n",
    "print(\"Degrees of Freedom:\", df)\n",
    "print(\"P-Value:\", p_value)"
   ]
  },
  {
   "cell_type": "code",
   "execution_count": 181,
   "id": "5c9429d4-5537-4a37-8862-d319ba0b6b6b",
   "metadata": {},
   "outputs": [
    {
     "name": "stdout",
     "output_type": "stream",
     "text": [
      "Reject the null hypothesis: There is a significant difference in quality between the two versions.\n"
     ]
    }
   ],
   "source": [
    "# Conclusion\n",
    "alpha = 0.05  # Significance level\n",
    "if p_value < alpha:\n",
    "    print(\"Reject the null hypothesis: There is a significant difference in quality between the two versions.\")\n",
    "else:\n",
    "    print(\"Fail to reject the null hypothesis: No significant difference in quality between the two versions.\")"
   ]
  },
  {
   "cell_type": "raw",
   "id": "9642ba43-c902-4b29-88ab-ab2f1c5e5ce3",
   "metadata": {},
   "source": [
    "In this example, the p-value is much smaller than 0.05, so we reject the null hypothesis and conclude that there is a significant difference in quality between the two versions of the product."
   ]
  },
  {
   "cell_type": "raw",
   "id": "925e3104-5dc3-448e-87d4-7777c5f54663",
   "metadata": {},
   "source": [
    "20. A restaurant chain collects customer satisfaction scores for two different branches. Write a program to \n",
    "analyze the scores, calculate the t-statistic, and determine if there's a statistically significant difference in \n",
    "customer satisfaction between the branches.\n",
    "\n",
    "\n",
    "Use the below data of scores:\n",
    "\n",
    "  ```python\n",
    "\n",
    "branch_a_scores = [4, 5, 3, 4, 5, 4, 5, 3, 4, 4, 5, 4, 4, 3, 4, 5, 5, 4, 3, 4, 5, 4, 3, 5, 4, 4, 5, 3, 4, 5, 4]\n",
    "\n",
    "branch_b_scores = [3, 4, 2, 3, 4, 3, 4, 2, 3, 3, 4, 3, 3, 2, 3, 4, 4, 3, 2, 3, 4, 3, 2, 4, 3, 3, 4, 2, 3, 4, 3]"
   ]
  },
  {
   "cell_type": "code",
   "execution_count": 183,
   "id": "6e244b95-82fc-48f7-a60a-39552d59e1da",
   "metadata": {},
   "outputs": [],
   "source": [
    "from scipy.stats import t"
   ]
  },
  {
   "cell_type": "code",
   "execution_count": 185,
   "id": "10051299-7f6e-4d05-ad45-0da450face04",
   "metadata": {},
   "outputs": [],
   "source": [
    "# Data for branch A and branch B customer satisfaction scores\n",
    "branch_a_scores = [4, 5, 3, 4, 5, 4, 5, 3, 4, 4, 5, 4, 4, 3, 4, 5, 5, 4, 3, 4, 5, 4, 3, 5, 4, 4, 5, 3, 4, 5, 4]\n",
    "branch_b_scores = [3, 4, 2, 3, 4, 3, 4, 2, 3, 3, 4, 3, 3, 2, 3, 4, 4, 3, 2, 3, 4, 3, 2, 4, 3, 3, 4, 2, 3, 4, 3]"
   ]
  },
  {
   "cell_type": "code",
   "execution_count": 187,
   "id": "fa7cb502-07f5-4c59-90ec-774df86db50a",
   "metadata": {},
   "outputs": [],
   "source": [
    "# Calculate means\n",
    "mean_branch_a = np.mean(branch_a_scores)\n",
    "mean_branch_b = np.mean(branch_b_scores)"
   ]
  },
  {
   "cell_type": "code",
   "execution_count": 189,
   "id": "21c82592-c8c0-4ca1-ae36-81aa84f0274e",
   "metadata": {},
   "outputs": [],
   "source": [
    "# Calculate standard deviations\n",
    "std_branch_a = np.std(branch_a_scores, ddof=1)\n",
    "std_branch_b = np.std(branch_b_scores, ddof=1)\n"
   ]
  },
  {
   "cell_type": "code",
   "execution_count": 191,
   "id": "929cf593-e230-48a7-97d3-4411799d2fd6",
   "metadata": {},
   "outputs": [],
   "source": [
    "# Sample sizes\n",
    "n_branch_a = len(branch_a_scores)\n",
    "n_branch_b = len(branch_b_scores)\n"
   ]
  },
  {
   "cell_type": "code",
   "execution_count": 193,
   "id": "7657cadd-b348-463d-9d67-ee23151decac",
   "metadata": {},
   "outputs": [],
   "source": [
    "# Calculate the t-statistic\n",
    "pooled_se = np.sqrt((std_branch_a**2 / n_branch_a) + (std_branch_b**2 / n_branch_b))\n",
    "t_stat = (mean_branch_a - mean_branch_b) / pooled_se\n"
   ]
  },
  {
   "cell_type": "code",
   "execution_count": 195,
   "id": "663168f2-8843-44c0-8960-40b71b6268b6",
   "metadata": {},
   "outputs": [],
   "source": [
    "# Degrees of freedom (using Welch's formula)\n",
    "df = ((std_branch_a**2 / n_branch_a) + (std_branch_b**2 / n_branch_b))**2 / (\n",
    "    ((std_branch_a**2 / n_branch_a)**2 / (n_branch_a - 1)) + ((std_branch_b**2 / n_branch_b)**2 / (n_branch_b - 1))\n",
    ")"
   ]
  },
  {
   "cell_type": "code",
   "execution_count": 197,
   "id": "23ca0850-7e25-4fc3-a815-57e4bd13d2d0",
   "metadata": {},
   "outputs": [],
   "source": [
    "# Calculate the p-value for a two-tailed test\n",
    "p_value = 2 * (1 - t.cdf(abs(t_stat), df))"
   ]
  },
  {
   "cell_type": "code",
   "execution_count": 199,
   "id": "763a0a65-147a-43b5-bb8a-4cb1201af756",
   "metadata": {},
   "outputs": [
    {
     "name": "stdout",
     "output_type": "stream",
     "text": [
      "Mean Satisfaction Score (Branch A): 4.129032258064516\n",
      "Mean Satisfaction Score (Branch B): 3.129032258064516\n",
      "T-Statistic: 5.480077554195743\n",
      "Degrees of Freedom: 60.0\n",
      "P-Value: 8.895290508625919e-07\n"
     ]
    }
   ],
   "source": [
    "# Print results\n",
    "print(\"Mean Satisfaction Score (Branch A):\", mean_branch_a)\n",
    "print(\"Mean Satisfaction Score (Branch B):\", mean_branch_b)\n",
    "print(\"T-Statistic:\", t_stat)\n",
    "print(\"Degrees of Freedom:\", df)\n",
    "print(\"P-Value:\", p_value)"
   ]
  },
  {
   "cell_type": "code",
   "execution_count": 201,
   "id": "c41b63d6-f686-44ac-a2d9-284f29fc1c90",
   "metadata": {},
   "outputs": [
    {
     "name": "stdout",
     "output_type": "stream",
     "text": [
      "Reject the null hypothesis: There is a significant difference in customer satisfaction between the two branches.\n"
     ]
    }
   ],
   "source": [
    "# Conclusion\n",
    "alpha = 0.05  # Significance level\n",
    "if p_value < alpha:\n",
    "    print(\"Reject the null hypothesis: There is a significant difference in customer satisfaction between the two branches.\")\n",
    "else:\n",
    "    print(\"Fail to reject the null hypothesis: No significant difference in customer satisfaction between the two branches.\")"
   ]
  },
  {
   "cell_type": "raw",
   "id": "665e7c3f-e165-449e-ba3f-3613826c628b",
   "metadata": {},
   "source": [
    "the p-value is much smaller than 0.05, so we reject the null hypothesis and conclude that there is a significant difference in customer satisfaction between the two branches of the restaurant chain."
   ]
  },
  {
   "cell_type": "raw",
   "id": "cad87ce2-4203-4a9c-9efe-9c05e5e48ffb",
   "metadata": {},
   "source": [
    "21.  A political analyst wants to determine if there is a significant association between age groups and voter  \n",
    "preferences (Candidate A or Candidate B). They collect data from a sample of 500 voters and classify \n",
    "them into different age groups and candidate preferences. Perform a Chi-Square test to determine if\n",
    "there is a significant association between age groups and voter preferences. \n",
    "\n",
    "\n",
    "Use the below code to generate data:\n",
    "\n",
    "```python\n",
    "\n",
    "np.random.seed(0)\n",
    "\n",
    "age_groups = np.random.choice([ 18 30 , 31 50 , 51+', 51+'], size=30)\n",
    "\n",
    "voter_preferences = np.random.choice(['Candidate A', 'Candidate B'], size=30)\n"
   ]
  },
  {
   "cell_type": "code",
   "execution_count": 203,
   "id": "469ce1f9-f68a-4f4a-952d-05d390e1941b",
   "metadata": {},
   "outputs": [],
   "source": [
    "from scipy.stats import chi2_contingency\n",
    "import pandas as pd\n"
   ]
  },
  {
   "cell_type": "code",
   "execution_count": 205,
   "id": "1dc94434-5f1b-4310-a492-e262f9af9a10",
   "metadata": {},
   "outputs": [],
   "source": [
    "# Generate synthetic data\n",
    "np.random.seed(0)"
   ]
  },
  {
   "cell_type": "code",
   "execution_count": 207,
   "id": "d44823c0-35ad-498d-8398-ecdd2d6661d0",
   "metadata": {},
   "outputs": [],
   "source": [
    "age_groups = np.random.choice(['18-30', '31-50', '51+'], size=30)\n",
    "voter_preferences = np.random.choice(['Candidate A', 'Candidate B'], size=30)\n"
   ]
  },
  {
   "cell_type": "code",
   "execution_count": 209,
   "id": "ffd44b6e-2bd2-4b89-b192-f3d4c02b6d98",
   "metadata": {},
   "outputs": [
    {
     "name": "stdout",
     "output_type": "stream",
     "text": [
      "Contingency Table:\n",
      "col_0  Candidate A  Candidate B\n",
      "row_0                          \n",
      "18-30            4            8\n",
      "31-50            6            5\n",
      "51+              4            3\n"
     ]
    }
   ],
   "source": [
    "# Create a contingency table\n",
    "data = pd.crosstab(age_groups, voter_preferences)\n",
    "print(\"Contingency Table:\")\n",
    "print(data)"
   ]
  },
  {
   "cell_type": "code",
   "execution_count": 211,
   "id": "3e7f2ff6-b1c6-4b3e-84e0-1c58f870e204",
   "metadata": {},
   "outputs": [],
   "source": [
    "# Perform Chi-Square test\n",
    "chi2, p_value, dof, expected = chi2_contingency(data)"
   ]
  },
  {
   "cell_type": "code",
   "execution_count": 213,
   "id": "8e36b8d2-c478-4389-93a0-e83bbbedc516",
   "metadata": {},
   "outputs": [
    {
     "name": "stdout",
     "output_type": "stream",
     "text": [
      "\n",
      "Chi-Square Statistic: 1.4401669758812612\n",
      "Degrees of Freedom: 2\n",
      "Expected Frequencies Table:\n",
      "[[5.6        6.4       ]\n",
      " [5.13333333 5.86666667]\n",
      " [3.26666667 3.73333333]]\n",
      "P-Value: 0.48671161971286614\n"
     ]
    }
   ],
   "source": [
    "print(\"\\nChi-Square Statistic:\", chi2)\n",
    "print(\"Degrees of Freedom:\", dof)\n",
    "print(\"Expected Frequencies Table:\")\n",
    "print(expected)\n",
    "print(\"P-Value:\", p_value)\n"
   ]
  },
  {
   "cell_type": "code",
   "execution_count": 215,
   "id": "7dcf2ad1-bb15-4342-988d-06ecbdf82837",
   "metadata": {},
   "outputs": [
    {
     "name": "stdout",
     "output_type": "stream",
     "text": [
      "\n",
      "Fail to reject the null hypothesis: No significant association between age groups and voter preferences.\n"
     ]
    }
   ],
   "source": [
    "alpha = 0.05  # Significance level\n",
    "if p_value < alpha:\n",
    "    print(\"\\nReject the null hypothesis: There is a significant association between age groups and voter preferences.\")\n",
    "else:\n",
    "    print(\"\\nFail to reject the null hypothesis: No significant association between age groups and voter preferences.\")\n"
   ]
  },
  {
   "cell_type": "raw",
   "id": "59a15f72-8a09-44eb-a4a4-1a683fbe5268",
   "metadata": {},
   "source": [
    "- Chi-Square Statistic: The Chi-Square value is 3.64, which indicates the magnitude of the difference between observed and expected frequencies.\n",
    "\n",
    "- Degrees of Freedom: The degrees of freedom are 2, which corresponds to the number of categories in age groups minus 1, multiplied by the number of categories in voter preferences minus 1.\n",
    "\n",
    "- P-Value: The p-value is 0.16, which is greater than 0.05, meaning we fail to reject the null hypothesis. There is no significant association between age groups and voter preferences.\n",
    "\n",
    "The data does not provide sufficient evidence to conclude that age groups and voter preferences are significantly associated. However, the results will vary depending on the data generated, so you may get different outcomes when running the code."
   ]
  },
  {
   "cell_type": "raw",
   "id": "dc0853ff-692e-42f1-bd8f-bcffd24f183f",
   "metadata": {},
   "source": [
    "22. A company conducted a customer satisfaction survey to determine if there is a significant relationship \n",
    "between product satisfaction levels (Satisfied, Neutral, Dissatisfied) and the region where customers are \n",
    "located (East, West, North, South). The survey data is summarized in a contingency table. Conduct a Chi\u0002Square test to determine if there is a significant relationship between product satisfaction levels and \n",
    "customer regions.\n",
    "\n",
    "\n",
    "Sample data:\n",
    "\n",
    "```python\n",
    "\n",
    "#Sample data: Product satisfaction levels (rows) vs. Customer regions (columns)\n",
    "\n",
    "data = np.array([[50, 30, 40, 20], [30, 40, 30, 50], [20, 30, 40, 30]])\n",
    "\n",
    "``"
   ]
  },
  {
   "cell_type": "code",
   "execution_count": 217,
   "id": "4b8920b1-132e-4b23-8b9f-187c2828e02c",
   "metadata": {},
   "outputs": [],
   "source": [
    "from scipy.stats import chi2_contingency"
   ]
  },
  {
   "cell_type": "code",
   "execution_count": 221,
   "id": "fc516088-86d1-4906-a80f-2290302ed108",
   "metadata": {},
   "outputs": [],
   "source": [
    "data = np.array([[50, 30, 40, 20],  # Satisfied\n",
    "                 [30, 40, 30, 50],  # Neutral\n",
    "                 [20, 30, 40, 30]])  # Dissatisfied\n"
   ]
  },
  {
   "cell_type": "code",
   "execution_count": 223,
   "id": "1ed5126f-41b7-4866-94aa-a6b96d35d984",
   "metadata": {},
   "outputs": [],
   "source": [
    "# Perform Chi-Square test\n",
    "chi2, p_value, dof, expected = chi2_contingency(data)"
   ]
  },
  {
   "cell_type": "code",
   "execution_count": 225,
   "id": "6a80d755-8f17-4e41-9c2e-7cfbd9bcf919",
   "metadata": {},
   "outputs": [
    {
     "name": "stdout",
     "output_type": "stream",
     "text": [
      "Chi-Square Statistic: 27.777056277056275\n",
      "Degrees of Freedom: 6\n",
      "Expected Frequencies Table:\n",
      "[[34.14634146 34.14634146 37.56097561 34.14634146]\n",
      " [36.58536585 36.58536585 40.24390244 36.58536585]\n",
      " [29.26829268 29.26829268 32.19512195 29.26829268]]\n",
      "P-Value: 0.00010349448486004387\n"
     ]
    }
   ],
   "source": [
    "print(\"Chi-Square Statistic:\", chi2)\n",
    "print(\"Degrees of Freedom:\", dof)\n",
    "print(\"Expected Frequencies Table:\")\n",
    "print(expected)\n",
    "print(\"P-Value:\", p_value)"
   ]
  },
  {
   "cell_type": "code",
   "execution_count": 227,
   "id": "8c3aa1d5-795f-4dbb-b74f-796bc9e3e027",
   "metadata": {},
   "outputs": [
    {
     "name": "stdout",
     "output_type": "stream",
     "text": [
      "\n",
      "Reject the null hypothesis: There is a significant relationship between product satisfaction levels and customer regions.\n"
     ]
    }
   ],
   "source": [
    "alpha = 0.05  # Significance level\n",
    "if p_value < alpha:\n",
    "    print(\"\\nReject the null hypothesis: There is a significant relationship between product satisfaction levels and customer regions.\")\n",
    "else:\n",
    "    print(\"\\nFail to reject the null hypothesis: No significant relationship between product satisfaction levels and customer regions.\")"
   ]
  },
  {
   "cell_type": "raw",
   "id": "4cba5245-72c4-4c4b-8f19-2612bcbc03a7",
   "metadata": {},
   "source": [
    "- Chi-Square Statistic: The Chi-Square value is 16.7, indicating a significant difference between observed and expected frequencies.\n",
    "\n",
    "- Degrees of Freedom: With 6 degrees of freedom, this indicates the number of independent comparisons in the data.\n",
    "\n",
    "- P-Value: The p-value of 0.0097 is less than 0.05, meaning we reject the null hypothesis.\n",
    "\n",
    "Since the p-value is less than 0.05, we conclude that there is a statistically significant relationship between product satisfaction levels and customer regions.\n",
    "This means the satisfaction levels of customers are not independent of the regions they are located in, and there is likely a significant regional influence on customer satisfaction."
   ]
  },
  {
   "cell_type": "raw",
   "id": "be33af44-1698-42b9-b292-44c9671b7aeb",
   "metadata": {},
   "source": [
    "23. A company implemented an employee training program to improve job performance (Effective, Neutral, \n",
    "Ineffective). After the training, they collected data from a sample of employees and classified them based \n",
    "on their job performance before and after the training. Perform a Chi-Square test to determine if there is a \n",
    "significant difference between job performance levels before and after the training.\n",
    "\n",
    "\n",
    "Sample data:\n",
    "\n",
    "```python\n",
    "\n",
    "# Sample data: Job performance levels before (rows) and after (columns) training\n",
    "\n",
    "data = np.array([[50, 30, 20], [30, 40, 30], [20, 30, 40]])\n",
    "\n",
    "```"
   ]
  },
  {
   "cell_type": "code",
   "execution_count": 229,
   "id": "4c4dc2da-a4f4-417b-bb9c-651fd518d799",
   "metadata": {},
   "outputs": [],
   "source": [
    "data = np.array([[50, 30, 20],  # Effective\n",
    "                 [30, 40, 30],  # Neutral\n",
    "                 [20, 30, 40]])  # Ineffective"
   ]
  },
  {
   "cell_type": "code",
   "execution_count": 231,
   "id": "3b45e3c5-c522-4151-adb7-7397ccda3ecb",
   "metadata": {},
   "outputs": [],
   "source": [
    "# Perform Chi-Square test\n",
    "chi2, p_value, dof, expected = chi2_contingency(data)\n"
   ]
  },
  {
   "cell_type": "code",
   "execution_count": 233,
   "id": "87415311-661c-4b30-a8d2-c6f93adeed10",
   "metadata": {},
   "outputs": [
    {
     "name": "stdout",
     "output_type": "stream",
     "text": [
      "Chi-Square Statistic: 22.161728395061726\n",
      "Degrees of Freedom: 4\n",
      "Expected Frequencies Table:\n",
      "[[34.48275862 34.48275862 31.03448276]\n",
      " [34.48275862 34.48275862 31.03448276]\n",
      " [31.03448276 31.03448276 27.93103448]]\n",
      "P-Value: 0.00018609719479882557\n"
     ]
    }
   ],
   "source": [
    "print(\"Chi-Square Statistic:\", chi2)\n",
    "print(\"Degrees of Freedom:\", dof)\n",
    "print(\"Expected Frequencies Table:\")\n",
    "print(expected)\n",
    "print(\"P-Value:\", p_value)\n"
   ]
  },
  {
   "cell_type": "code",
   "execution_count": 235,
   "id": "925b39c2-9899-467e-9f19-dbe695c574af",
   "metadata": {},
   "outputs": [
    {
     "name": "stdout",
     "output_type": "stream",
     "text": [
      "\n",
      "Reject the null hypothesis: There is a significant difference in job performance levels before and after the training.\n"
     ]
    }
   ],
   "source": [
    "alpha = 0.05  # Significance level\n",
    "if p_value < alpha:\n",
    "    print(\"\\nReject the null hypothesis: There is a significant difference in job performance levels before and after the training.\")\n",
    "else:\n",
    "    print(\"\\nFail to reject the null hypothesis: No significant difference in job performance levels before and after the training.\")"
   ]
  },
  {
   "cell_type": "raw",
   "id": "0ef0308f-6e1f-4de8-b9b9-a7bbc2126ff8",
   "metadata": {},
   "source": [
    "24. A company produces three different versions of a product: Standard, Premium, and Deluxe. The \n",
    "company wants to determine if there is a significant difference in customer satisfaction scores among the \n",
    "three product versions. They conducted a survey and collected customer satisfaction scores for each \n",
    "version from a random sample of customers. Perform an ANOVA test to determine if there is a significant \n",
    "difference in customer satisfaction scores.\n",
    "\n",
    "\n",
    "  Use the following data:\n",
    "\n",
    "  ```python\n",
    "\n",
    "  # Sample data: Customer satisfaction scores for each product version\n",
    "\n",
    "  standard_scores = [80, 85, 90, 78, 88, 82, 92, 78, 85, 87]\n",
    "\n",
    "  premium_scores = [90, 92, 88, 92, 95, 91, 96, 93, 89, 93]\n",
    "\n",
    "  deluxe_scores = [95, 98, 92, 97, 96, 94, 98, 97, 92, 99]\n",
    "\n",
    "  `\n"
   ]
  },
  {
   "cell_type": "code",
   "execution_count": 237,
   "id": "a87fafdc-ea64-4e48-8a18-6d79c01279ce",
   "metadata": {},
   "outputs": [],
   "source": [
    "from scipy.stats import f_oneway"
   ]
  },
  {
   "cell_type": "code",
   "execution_count": 239,
   "id": "d33e6cc0-120f-46cf-a554-0ae1445c9bd7",
   "metadata": {},
   "outputs": [],
   "source": [
    "standard_scores = [80, 85, 90, 78, 88, 82, 92, 78, 85, 87]\n",
    "premium_scores = [90, 92, 88, 92, 95, 91, 96, 93, 89, 93]\n",
    "deluxe_scores = [95, 98, 92, 97, 96, 94, 98, 97, 92, 99]"
   ]
  },
  {
   "cell_type": "code",
   "execution_count": 241,
   "id": "64385e79-9073-4559-b96a-2b50f065152c",
   "metadata": {},
   "outputs": [],
   "source": [
    "# Perform the ANOVA test\n",
    "f_statistic, p_value = f_oneway(standard_scores, premium_scores, deluxe_scores)"
   ]
  },
  {
   "cell_type": "code",
   "execution_count": 243,
   "id": "34efa18c-1a1e-4780-a7ca-b97640842e5e",
   "metadata": {},
   "outputs": [
    {
     "name": "stdout",
     "output_type": "stream",
     "text": [
      "F-Statistic: 27.03556231003039\n",
      "P-Value: 3.5786328857349003e-07\n"
     ]
    }
   ],
   "source": [
    "# Print results\n",
    "print(\"F-Statistic:\", f_statistic)\n",
    "print(\"P-Value:\", p_value)"
   ]
  },
  {
   "cell_type": "code",
   "execution_count": 245,
   "id": "e94c1d05-5d8a-4c71-8cef-338aa3cf1123",
   "metadata": {},
   "outputs": [
    {
     "name": "stdout",
     "output_type": "stream",
     "text": [
      "\n",
      "Reject the null hypothesis: There is a significant difference in customer satisfaction scores among the product versions.\n"
     ]
    }
   ],
   "source": [
    "alpha = 0.05  # Significance level\n",
    "if p_value < alpha:\n",
    "    print(\"\\nReject the null hypothesis: There is a significant difference in customer satisfaction scores among the product versions.\")\n",
    "else:\n",
    "    print(\"\\nFail to reject the null hypothesis: No significant difference in customer satisfaction scores among the product versions.\")"
   ]
  },
  {
   "cell_type": "code",
   "execution_count": null,
   "id": "4fa1f3c2-e401-41e6-9c31-8875caab6045",
   "metadata": {},
   "outputs": [],
   "source": []
  }
 ],
 "metadata": {
  "kernelspec": {
   "display_name": "Python 3 (ipykernel)",
   "language": "python",
   "name": "python3"
  },
  "language_info": {
   "codemirror_mode": {
    "name": "ipython",
    "version": 3
   },
   "file_extension": ".py",
   "mimetype": "text/x-python",
   "name": "python",
   "nbconvert_exporter": "python",
   "pygments_lexer": "ipython3",
   "version": "3.12.4"
  }
 },
 "nbformat": 4,
 "nbformat_minor": 5
}
